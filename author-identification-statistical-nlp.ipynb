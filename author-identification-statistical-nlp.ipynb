{
 "cells": [
  {
   "cell_type": "markdown",
   "id": "6039c12e",
   "metadata": {
    "papermill": {
     "duration": 0.029085,
     "end_time": "2022-12-04T01:46:38.700272",
     "exception": false,
     "start_time": "2022-12-04T01:46:38.671187",
     "status": "completed"
    },
    "tags": []
   },
   "source": [
    "<div style=\"font-family:verdana;\"><span style=\"font-size:170%;\"> <center>Author Identification Using a Statistical NLP Approach</center> </span>\n",
    "<span style=\"font-size:135%;\"> <center>Feature engineering and model pipeline development with the <i>Spooky Author Identification</i> competition data</center> </span>\n",
    "</div>\n",
    "\n",
    "## Overview of notebook\n",
    "- I develop a statistical Natural Langauge Processing (NLP) model to identify authors of texts from the <i>Spooky Author Identification</i> competition.\n",
    "- Feature engineering consists of style-based features (count of punctuation, word length, etc.) and word- and character-based TF-IDF.\n",
    "- Term frequency-inverse document frequency (TF-IDF) and bag-of-words feature extraction is discussed with a few simple examples.\n",
    "- Feature engineering and models are combined in a pipeline, which makes model fitting and prediction easy, and also reduces the chance of data leakage from the text processing.\n",
    "- XGBoost model does well with style-based features only, but Multinomial Naive Bayes performs better with TF-IDF features as well.\n",
    "\n",
    "# <p style=\"background-color:darkred;color:white;font-family:verdana;font-size:120%;text-align:center;border-radius: 15px 50px;\">1. Introduction</p>\n",
    "\n",
    "I find Natural Language Processing (NLP) machine-learning problems fascinating. Whereas numerical variables fit nicely into a regression model paradigm, text does not. Categorical features in more traditional problems can be encoded as ordinal or one-hot variables, but this approach doesn't make sense when data is text-based, not least because there are two many words to encode.\n",
    "\n",
    "The Spooky Author ID competition is concerned with identifying which of three authors wrote given sentences. The data is sentences extracted from the works of three \"spooky\" authors:\n",
    "Edgar Allan Poe (EAP), H.P. Lovecraft (HPL) and Mary Wollstonecraft Shelley (MWS). I first encountered this competition when it came out in 2017 and had an attempt at hand engineering some features, but I didn't really know anything about ML at the time. Since then I like to think I've learnt a few things and I had another go at putting together a model that would work at this competition.\n",
    "\n",
    "## 1.1 Rogues' gallery\n",
    "\n",
    "<table>\n",
    "    <tr>\n",
    "        <th> Edgar Allan Poe</th>\n",
    "        <th> H.P. Lovecraft</th>\n",
    "        <th> Mary Wollstonecraft Shelley</th>\n",
    "    </tr>\n",
    "  <tr>\n",
    "    <th><img src=\"https://upload.wikimedia.org/wikipedia/commons/9/97/Edgar_Allan_Poe%2C_circa_1849%2C_restored%2C_squared_off.jpg\" width=\"711\", height=\"1000\" /></th>\n",
    "    <th><img src=\"https://upload.wikimedia.org/wikipedia/commons/1/10/H._P._Lovecraft%2C_June_1934.jpg\" width=\"815\" height=\"1000\" /></th>\n",
    "    <th><img src=\"https://upload.wikimedia.org/wikipedia/commons/c/ce/MaryShelley.jpg\" width=\"712\" height=\"1000\" /></th>\n",
    "  </tr>\n",
    "    <tr>\n",
    "        <th>Unknown author; Restored by Yann Forget and Adam Cuerden, Public domain, via Wikimedia Commons</th>\n",
    "        <th>Lucius B. Truesdell, Public domain, via Wikimedia Commons</th>\n",
    "        <th>Richard Rothwell, Public domain, via Wikimedia Commons</th>\n",
    "    </tr>\n",
    "\n",
    "</table>\n",
    "\n",
    "\n",
    "\n",
    "## 1.2 Notebook overview\n",
    "\n",
    "After reading in the data and setting up a few parameters, I outline the feature engineering approach I used. This is divided into three parts: 1) style-based features (use of punctuation, word length, etc.), 2) word-frequency (use of frequency of particular words), and 3) character-frequency features based on ngrams (i.e. strings of consecutive letters within words).\n",
    "\n",
    "Next, I set up a few different modelling pipelines based on the engineered features, and these include both the XGBoost Classifier and Multinomial Naive Bayes.\n",
    "\n"
   ]
  },
  {
   "cell_type": "markdown",
   "id": "34933bdc",
   "metadata": {
    "execution": {
     "iopub.execute_input": "2022-10-30T23:51:36.227920Z",
     "iopub.status.busy": "2022-10-30T23:51:36.227475Z",
     "iopub.status.idle": "2022-10-30T23:51:36.233098Z",
     "shell.execute_reply": "2022-10-30T23:51:36.232110Z",
     "shell.execute_reply.started": "2022-10-30T23:51:36.227883Z"
    },
    "papermill": {
     "duration": 0.027356,
     "end_time": "2022-12-04T01:46:38.753006",
     "exception": false,
     "start_time": "2022-12-04T01:46:38.725650",
     "status": "completed"
    },
    "tags": []
   },
   "source": [
    "# <p style=\"background-color:darkred;color:white;font-family:verdana;font-size:120%;text-align:center;border-radius: 15px 50px;\">2. Notebook preliminaries</p>\n",
    "\n",
    "## 2.1 Read in data and set up notebook\n"
   ]
  },
  {
   "cell_type": "code",
   "execution_count": 1,
   "id": "0a8944e8",
   "metadata": {
    "execution": {
     "iopub.execute_input": "2022-12-04T01:46:38.806629Z",
     "iopub.status.busy": "2022-12-04T01:46:38.806168Z",
     "iopub.status.idle": "2022-12-04T01:46:40.183906Z",
     "shell.execute_reply": "2022-12-04T01:46:40.182384Z"
    },
    "papermill": {
     "duration": 1.408008,
     "end_time": "2022-12-04T01:46:40.186843",
     "exception": false,
     "start_time": "2022-12-04T01:46:38.778835",
     "status": "completed"
    },
    "tags": []
   },
   "outputs": [
    {
     "name": "stdout",
     "output_type": "stream",
     "text": [
      "/kaggle/input/spooky-author-identification/train.zip\n",
      "/kaggle/input/spooky-author-identification/test.zip\n",
      "/kaggle/input/spooky-author-identification/sample_submission.zip\n"
     ]
    }
   ],
   "source": [
    "import numpy as np \n",
    "import pandas as pd \n",
    "import seaborn as sns\n",
    "import matplotlib.pyplot as plt\n",
    "import os\n",
    "for dirname, _, filenames in os.walk('/kaggle/input'):\n",
    "    for filename in filenames:\n",
    "        print(os.path.join(dirname, filename))\n",
    "\n",
    "from sklearn import set_config\n",
    "# This draws pipelines, etc. as graph diagrams rather than the standard text-based repr. \n",
    "set_config(display='diagram')\n",
    "\n",
    "xgboost_tree_method = 'auto'#'gpu_hist  # Use GPU for xgboost tree building or not?\n",
    "QUICKRUN = False # Set equal to True to run a quick version of the notebook"
   ]
  },
  {
   "cell_type": "markdown",
   "id": "47784e39",
   "metadata": {
    "papermill": {
     "duration": 0.02621,
     "end_time": "2022-12-04T01:46:40.239885",
     "exception": false,
     "start_time": "2022-12-04T01:46:40.213675",
     "status": "completed"
    },
    "tags": []
   },
   "source": [
    "## 2.2 Overview of data"
   ]
  },
  {
   "cell_type": "code",
   "execution_count": 2,
   "id": "5fd5e68f",
   "metadata": {
    "execution": {
     "iopub.execute_input": "2022-12-04T01:46:40.294435Z",
     "iopub.status.busy": "2022-12-04T01:46:40.294014Z",
     "iopub.status.idle": "2022-12-04T01:46:40.451194Z",
     "shell.execute_reply": "2022-12-04T01:46:40.449839Z"
    },
    "papermill": {
     "duration": 0.187644,
     "end_time": "2022-12-04T01:46:40.453958",
     "exception": false,
     "start_time": "2022-12-04T01:46:40.266314",
     "status": "completed"
    },
    "tags": []
   },
   "outputs": [
    {
     "data": {
      "text/html": [
       "<div>\n",
       "<style scoped>\n",
       "    .dataframe tbody tr th:only-of-type {\n",
       "        vertical-align: middle;\n",
       "    }\n",
       "\n",
       "    .dataframe tbody tr th {\n",
       "        vertical-align: top;\n",
       "    }\n",
       "\n",
       "    .dataframe thead th {\n",
       "        text-align: right;\n",
       "    }\n",
       "</style>\n",
       "<table border=\"1\" class=\"dataframe\">\n",
       "  <thead>\n",
       "    <tr style=\"text-align: right;\">\n",
       "      <th></th>\n",
       "      <th>id</th>\n",
       "      <th>text</th>\n",
       "      <th>author</th>\n",
       "    </tr>\n",
       "  </thead>\n",
       "  <tbody>\n",
       "    <tr>\n",
       "      <th>0</th>\n",
       "      <td>id26305</td>\n",
       "      <td>This process, however, afforded me no means of...</td>\n",
       "      <td>EAP</td>\n",
       "    </tr>\n",
       "    <tr>\n",
       "      <th>1</th>\n",
       "      <td>id17569</td>\n",
       "      <td>It never once occurred to me that the fumbling...</td>\n",
       "      <td>HPL</td>\n",
       "    </tr>\n",
       "    <tr>\n",
       "      <th>2</th>\n",
       "      <td>id11008</td>\n",
       "      <td>In his left hand was a gold snuff box, from wh...</td>\n",
       "      <td>EAP</td>\n",
       "    </tr>\n",
       "    <tr>\n",
       "      <th>3</th>\n",
       "      <td>id27763</td>\n",
       "      <td>How lovely is spring As we looked from Windsor...</td>\n",
       "      <td>MWS</td>\n",
       "    </tr>\n",
       "    <tr>\n",
       "      <th>4</th>\n",
       "      <td>id12958</td>\n",
       "      <td>Finding nothing else, not even gold, the Super...</td>\n",
       "      <td>HPL</td>\n",
       "    </tr>\n",
       "  </tbody>\n",
       "</table>\n",
       "</div>"
      ],
      "text/plain": [
       "        id                                               text author\n",
       "0  id26305  This process, however, afforded me no means of...    EAP\n",
       "1  id17569  It never once occurred to me that the fumbling...    HPL\n",
       "2  id11008  In his left hand was a gold snuff box, from wh...    EAP\n",
       "3  id27763  How lovely is spring As we looked from Windsor...    MWS\n",
       "4  id12958  Finding nothing else, not even gold, the Super...    HPL"
      ]
     },
     "execution_count": 2,
     "metadata": {},
     "output_type": "execute_result"
    }
   ],
   "source": [
    "data = pd.read_csv('/kaggle/input/spooky-author-identification/train.zip')\n",
    "data.head()"
   ]
  },
  {
   "cell_type": "code",
   "execution_count": 3,
   "id": "40b2b137",
   "metadata": {
    "execution": {
     "iopub.execute_input": "2022-12-04T01:46:40.509100Z",
     "iopub.status.busy": "2022-12-04T01:46:40.508130Z",
     "iopub.status.idle": "2022-12-04T01:46:40.538187Z",
     "shell.execute_reply": "2022-12-04T01:46:40.536372Z"
    },
    "papermill": {
     "duration": 0.060408,
     "end_time": "2022-12-04T01:46:40.541427",
     "exception": false,
     "start_time": "2022-12-04T01:46:40.481019",
     "status": "completed"
    },
    "tags": []
   },
   "outputs": [
    {
     "name": "stdout",
     "output_type": "stream",
     "text": [
      "<class 'pandas.core.frame.DataFrame'>\n",
      "RangeIndex: 19579 entries, 0 to 19578\n",
      "Data columns (total 3 columns):\n",
      " #   Column  Non-Null Count  Dtype \n",
      "---  ------  --------------  ----- \n",
      " 0   id      19579 non-null  object\n",
      " 1   text    19579 non-null  object\n",
      " 2   author  19579 non-null  object\n",
      "dtypes: object(3)\n",
      "memory usage: 459.0+ KB\n"
     ]
    }
   ],
   "source": [
    "data.info()"
   ]
  },
  {
   "cell_type": "code",
   "execution_count": 4,
   "id": "1323b919",
   "metadata": {
    "execution": {
     "iopub.execute_input": "2022-12-04T01:46:40.594915Z",
     "iopub.status.busy": "2022-12-04T01:46:40.594492Z",
     "iopub.status.idle": "2022-12-04T01:46:40.671033Z",
     "shell.execute_reply": "2022-12-04T01:46:40.669818Z"
    },
    "papermill": {
     "duration": 0.106487,
     "end_time": "2022-12-04T01:46:40.673610",
     "exception": false,
     "start_time": "2022-12-04T01:46:40.567123",
     "status": "completed"
    },
    "tags": []
   },
   "outputs": [
    {
     "data": {
      "text/html": [
       "<div>\n",
       "<style scoped>\n",
       "    .dataframe tbody tr th:only-of-type {\n",
       "        vertical-align: middle;\n",
       "    }\n",
       "\n",
       "    .dataframe tbody tr th {\n",
       "        vertical-align: top;\n",
       "    }\n",
       "\n",
       "    .dataframe thead th {\n",
       "        text-align: right;\n",
       "    }\n",
       "</style>\n",
       "<table border=\"1\" class=\"dataframe\">\n",
       "  <thead>\n",
       "    <tr style=\"text-align: right;\">\n",
       "      <th></th>\n",
       "      <th>id</th>\n",
       "      <th>text</th>\n",
       "    </tr>\n",
       "  </thead>\n",
       "  <tbody>\n",
       "    <tr>\n",
       "      <th>0</th>\n",
       "      <td>id02310</td>\n",
       "      <td>Still, as I urged our leaving Ireland with suc...</td>\n",
       "    </tr>\n",
       "    <tr>\n",
       "      <th>1</th>\n",
       "      <td>id24541</td>\n",
       "      <td>If a fire wanted fanning, it could readily be ...</td>\n",
       "    </tr>\n",
       "    <tr>\n",
       "      <th>2</th>\n",
       "      <td>id00134</td>\n",
       "      <td>And when they had broken down the frail door t...</td>\n",
       "    </tr>\n",
       "    <tr>\n",
       "      <th>3</th>\n",
       "      <td>id27757</td>\n",
       "      <td>While I was thinking how I should possibly man...</td>\n",
       "    </tr>\n",
       "    <tr>\n",
       "      <th>4</th>\n",
       "      <td>id04081</td>\n",
       "      <td>I am not sure to what limit his knowledge may ...</td>\n",
       "    </tr>\n",
       "  </tbody>\n",
       "</table>\n",
       "</div>"
      ],
      "text/plain": [
       "        id                                               text\n",
       "0  id02310  Still, as I urged our leaving Ireland with suc...\n",
       "1  id24541  If a fire wanted fanning, it could readily be ...\n",
       "2  id00134  And when they had broken down the frail door t...\n",
       "3  id27757  While I was thinking how I should possibly man...\n",
       "4  id04081  I am not sure to what limit his knowledge may ..."
      ]
     },
     "execution_count": 4,
     "metadata": {},
     "output_type": "execute_result"
    }
   ],
   "source": [
    "sample = pd.read_csv('/kaggle/input/spooky-author-identification/sample_submission.zip')\n",
    "test = pd.read_csv('/kaggle/input/spooky-author-identification/test.zip')\n",
    "test.head()"
   ]
  },
  {
   "cell_type": "code",
   "execution_count": 5,
   "id": "f27203f2",
   "metadata": {
    "execution": {
     "iopub.execute_input": "2022-12-04T01:46:40.730467Z",
     "iopub.status.busy": "2022-12-04T01:46:40.730028Z",
     "iopub.status.idle": "2022-12-04T01:46:40.744930Z",
     "shell.execute_reply": "2022-12-04T01:46:40.743380Z"
    },
    "papermill": {
     "duration": 0.046414,
     "end_time": "2022-12-04T01:46:40.747758",
     "exception": false,
     "start_time": "2022-12-04T01:46:40.701344",
     "status": "completed"
    },
    "tags": []
   },
   "outputs": [
    {
     "name": "stdout",
     "output_type": "stream",
     "text": [
      "<class 'pandas.core.frame.DataFrame'>\n",
      "RangeIndex: 8392 entries, 0 to 8391\n",
      "Data columns (total 2 columns):\n",
      " #   Column  Non-Null Count  Dtype \n",
      "---  ------  --------------  ----- \n",
      " 0   id      8392 non-null   object\n",
      " 1   text    8392 non-null   object\n",
      "dtypes: object(2)\n",
      "memory usage: 131.2+ KB\n"
     ]
    }
   ],
   "source": [
    "test.info()"
   ]
  },
  {
   "cell_type": "markdown",
   "id": "90cff675",
   "metadata": {
    "papermill": {
     "duration": 0.025644,
     "end_time": "2022-12-04T01:46:40.799951",
     "exception": false,
     "start_time": "2022-12-04T01:46:40.774307",
     "status": "completed"
    },
    "tags": []
   },
   "source": [
    "The training data consists of 19579 sentences with one of the three authors as labels, and the test data is 8392 unlabelled sentences. In constructing the style-based features, I found that the length of the sentence and the number of words in the sample sentence were useful to get proportions so I include these as two columns in both the training and test dataset"
   ]
  },
  {
   "cell_type": "code",
   "execution_count": 6,
   "id": "1132d1a2",
   "metadata": {
    "execution": {
     "iopub.execute_input": "2022-12-04T01:46:40.854629Z",
     "iopub.status.busy": "2022-12-04T01:46:40.854232Z",
     "iopub.status.idle": "2022-12-04T01:46:40.862172Z",
     "shell.execute_reply": "2022-12-04T01:46:40.860785Z"
    },
    "papermill": {
     "duration": 0.039116,
     "end_time": "2022-12-04T01:46:40.865446",
     "exception": false,
     "start_time": "2022-12-04T01:46:40.826330",
     "status": "completed"
    },
    "tags": []
   },
   "outputs": [
    {
     "name": "stdout",
     "output_type": "stream",
     "text": [
      "{'HPL', 'EAP', 'MWS'}\n"
     ]
    }
   ],
   "source": [
    "print(set(data['author']))"
   ]
  },
  {
   "cell_type": "markdown",
   "id": "5a36e0fe",
   "metadata": {
    "papermill": {
     "duration": 0.026151,
     "end_time": "2022-12-04T01:46:40.918491",
     "exception": false,
     "start_time": "2022-12-04T01:46:40.892340",
     "status": "completed"
    },
    "tags": []
   },
   "source": [
    "The texts are writte by one of three authors: Edgar Allan Poe, H.P. Lovecraft and Mary Wollstonecraft Shelley.\n",
    "\n",
    "## 2.3 Brief biographical sketches of the authors"
   ]
  },
  {
   "cell_type": "markdown",
   "id": "86595955",
   "metadata": {
    "papermill": {
     "duration": 0.026926,
     "end_time": "2022-12-04T01:46:40.972182",
     "exception": false,
     "start_time": "2022-12-04T01:46:40.945256",
     "status": "completed"
    },
    "tags": []
   },
   "source": [
    "\n",
    "<img src=\"https://upload.wikimedia.org/wikipedia/commons/9/97/Edgar_Allan_Poe%2C_circa_1849%2C_restored%2C_squared_off.jpg\" width=\"152\" align=\"left\" style=\"padding: 0px 50px 0px 0px\" alt = \"Edgar Allan Poe\">\n",
    "<p>Edgar Allan Poe (1809-1840) was an American author, best known for the poem \"The Raven\" and his short stories (tales), especially \"The Tell-Tale Heart\", \"The Murders in the Rue Morgue\" and \"The Fall of the House of Usher\". He was obsessed with being buried alive and the \"spooky\" aspect of his writing was consistently those things within our minds, or the \"terror of the soul\". \"The Tell-Tale Heart\" is a case in point, being a study of the all-consuming dread of guilt. Poe is also considered to have pioneered the detective novel, and was fascinated with cryptography, particularly substitution cyphers (\"The Gold Bug\"), which interestingly enough has relevance to the character-level TF-IDF we explore later.\n",
    "\n",
    "The cause and circumstances of his death in Baltimore are still a mystery.</p>"
   ]
  },
  {
   "cell_type": "code",
   "execution_count": 7,
   "id": "730c107e",
   "metadata": {
    "_kg_hide-input": true,
    "execution": {
     "iopub.execute_input": "2022-12-04T01:46:41.030632Z",
     "iopub.status.busy": "2022-12-04T01:46:41.029653Z",
     "iopub.status.idle": "2022-12-04T01:46:41.042486Z",
     "shell.execute_reply": "2022-12-04T01:46:41.041057Z"
    },
    "papermill": {
     "duration": 0.046014,
     "end_time": "2022-12-04T01:46:41.045093",
     "exception": false,
     "start_time": "2022-12-04T01:46:40.999079",
     "status": "completed"
    },
    "tags": []
   },
   "outputs": [
    {
     "data": {
      "text/plain": [
       "'You are well aware that chemical preparations exist, and have existed time out of mind, by means of which it is possible to write upon either paper or vellum, so that the characters shall become visible only when subjected to the action of fire.'"
      ]
     },
     "execution_count": 7,
     "metadata": {},
     "output_type": "execute_result"
    }
   ],
   "source": [
    "np.random.seed(123)\n",
    "np.random.choice(data.loc[data['author']=='EAP','text'])"
   ]
  },
  {
   "cell_type": "markdown",
   "id": "54046023",
   "metadata": {
    "papermill": {
     "duration": 0.026159,
     "end_time": "2022-12-04T01:46:41.098377",
     "exception": false,
     "start_time": "2022-12-04T01:46:41.072218",
     "status": "completed"
    },
    "tags": []
   },
   "source": [
    "<img src=\"https://upload.wikimedia.org/wikipedia/commons/1/10/H._P._Lovecraft%2C_June_1934.jpg\" width=\"152\" align=\"right\" style=\"padding: 0px 0px 0px 50px\" alt = \"H.P Lovecraft\">\n",
    "<p>H.P. Lovecraft (1890-1937) was also from the USA, and similar to EAP, wrote mostly short stories. Best known for \"The Call of Cthulu\", \"At the Mountains of Madness\" and other stories, he was relatively unknown and earned little from his writing during his lifetime. A revival of his works occurred around the 1970s. Lovecraft's fiction centers around a pantheon of cosmic beings (\"Old Ones\") and knowledge whose revelation to humans typically leads to madness. \n",
    "\n",
    "Lovecraft died from intestinal cancer after a long and painful hospitalization.</p>"
   ]
  },
  {
   "cell_type": "code",
   "execution_count": 8,
   "id": "ca8506cd",
   "metadata": {
    "_kg_hide-input": true,
    "execution": {
     "iopub.execute_input": "2022-12-04T01:46:41.153617Z",
     "iopub.status.busy": "2022-12-04T01:46:41.153194Z",
     "iopub.status.idle": "2022-12-04T01:46:41.163590Z",
     "shell.execute_reply": "2022-12-04T01:46:41.162710Z"
    },
    "papermill": {
     "duration": 0.040938,
     "end_time": "2022-12-04T01:46:41.165831",
     "exception": false,
     "start_time": "2022-12-04T01:46:41.124893",
     "status": "completed"
    },
    "tags": []
   },
   "outputs": [
    {
     "data": {
      "text/plain": [
       "'The pile of tools soon reached, and a hammer and chisel selected, Birch returned over the coffins to the door.'"
      ]
     },
     "execution_count": 8,
     "metadata": {},
     "output_type": "execute_result"
    }
   ],
   "source": [
    "np.random.choice(data.loc[data['author']=='HPL','text'])"
   ]
  },
  {
   "cell_type": "markdown",
   "id": "e5d95111",
   "metadata": {
    "papermill": {
     "duration": 0.027064,
     "end_time": "2022-12-04T01:46:41.219199",
     "exception": false,
     "start_time": "2022-12-04T01:46:41.192135",
     "status": "completed"
    },
    "tags": []
   },
   "source": [
    "\n",
    "<img src=\"https://upload.wikimedia.org/wikipedia/commons/c/ce/MaryShelley.jpg\" width=\"152\" align=\"left\" style=\"padding: 0px 50px 0px 0px\" alt = \"Mary Wollstonecraft Shelley\">\n",
    "    \n",
    "<p>Mary Wollstonecraft Shelley (1759-1797), also known as Mary Shelley and Mary Godwin, was best known for our purposes for writing \"Frankenstein: or, the Modern Prometheus\", one of the best known \"gothic\" novels, and \"Mathilda\". She was (eventually) married to the English Romantic poet Percy Bysshe Shelley. MWS also wrote autobiographical accounts of travels with Shelley and works on politics and gender. Her mother, Mary Wollstonecraft was a women's rights advocate and wrote the hugely influential \"A Vindication of the Rights of Woman\".\n",
    "\n",
    "After what must have been a wild and unconvential life at the time, she died after a painful illness. Upon her death, her family found the cremated remains of Shelley's heart wrapped in a copy of his poem Adonaïs.</p>"
   ]
  },
  {
   "cell_type": "code",
   "execution_count": 9,
   "id": "77e4bfe7",
   "metadata": {
    "_kg_hide-input": true,
    "execution": {
     "iopub.execute_input": "2022-12-04T01:46:41.275282Z",
     "iopub.status.busy": "2022-12-04T01:46:41.274889Z",
     "iopub.status.idle": "2022-12-04T01:46:41.287152Z",
     "shell.execute_reply": "2022-12-04T01:46:41.285716Z"
    },
    "papermill": {
     "duration": 0.043997,
     "end_time": "2022-12-04T01:46:41.289536",
     "exception": false,
     "start_time": "2022-12-04T01:46:41.245539",
     "status": "completed"
    },
    "tags": []
   },
   "outputs": [
    {
     "data": {
      "text/plain": [
       "'A moment more and Perdita appeared; she stood before me in the fresh bloom of youthful womanhood, different from and yet the same as the mountain girl I had left.'"
      ]
     },
     "execution_count": 9,
     "metadata": {},
     "output_type": "execute_result"
    }
   ],
   "source": [
    "np.random.choice(data.loc[data['author']=='MWS','text'])"
   ]
  },
  {
   "cell_type": "markdown",
   "id": "10e561b8",
   "metadata": {
    "papermill": {
     "duration": 0.025947,
     "end_time": "2022-12-04T01:46:41.342823",
     "exception": false,
     "start_time": "2022-12-04T01:46:41.316876",
     "status": "completed"
    },
    "tags": []
   },
   "source": [
    "# <p style=\"background-color:darkred;color:white;font-family:verdana;font-size:120%;text-align:center;border-radius: 15px 50px;\">3. Feature engineering</p>\n",
    "\n",
    "Let's start by engineering some features based on the writing style (but not yet on particular words used). \n",
    "\n",
    "## 3.1 Text length\n",
    "\n",
    "As far as I can tell, most, if not all, of the texts are single sentences. Perhaps the most obvious feature that we can engineer is the number of characters ('text_length') and number of words ('nwords') in each text (sentence). Whereas most of the engineered features are implemented as transformers to fit into pipelines and the like, I created these two initially by hand to speed the feature engineering up."
   ]
  },
  {
   "cell_type": "code",
   "execution_count": 10,
   "id": "462e7bf3",
   "metadata": {
    "execution": {
     "iopub.execute_input": "2022-12-04T01:46:41.397718Z",
     "iopub.status.busy": "2022-12-04T01:46:41.397334Z",
     "iopub.status.idle": "2022-12-04T01:46:41.458511Z",
     "shell.execute_reply": "2022-12-04T01:46:41.457080Z"
    },
    "papermill": {
     "duration": 0.092796,
     "end_time": "2022-12-04T01:46:41.461530",
     "exception": false,
     "start_time": "2022-12-04T01:46:41.368734",
     "status": "completed"
    },
    "tags": []
   },
   "outputs": [],
   "source": [
    "data['text_length'] = data['text'].map(lambda x: len(x.strip()))\n",
    "data['nwords'] = data['text'].map(lambda x: x.strip().count(' ')+1)\n",
    "\n",
    "test['text_length'] = test['text'].map(lambda x: len(x.strip()))\n",
    "test['nwords'] = test['text'].map(lambda x: x.strip().count(' ')+1)\n"
   ]
  },
  {
   "cell_type": "code",
   "execution_count": 11,
   "id": "1343c567",
   "metadata": {
    "execution": {
     "iopub.execute_input": "2022-12-04T01:46:41.515996Z",
     "iopub.status.busy": "2022-12-04T01:46:41.515557Z",
     "iopub.status.idle": "2022-12-04T01:46:41.522327Z",
     "shell.execute_reply": "2022-12-04T01:46:41.521367Z"
    },
    "papermill": {
     "duration": 0.036633,
     "end_time": "2022-12-04T01:46:41.524545",
     "exception": false,
     "start_time": "2022-12-04T01:46:41.487912",
     "status": "completed"
    },
    "tags": []
   },
   "outputs": [
    {
     "name": "stdout",
     "output_type": "stream",
     "text": [
      "Sample text:          Then with utter and horrifying suddenness we heard a frightful sound from below.\n",
      "value of text_length: 80\n"
     ]
    }
   ],
   "source": [
    "print(f'Sample text:          {data.loc[238,\"text\"]}\\nvalue of text_length: {data.loc[238,\"text_length\"]}')"
   ]
  },
  {
   "cell_type": "markdown",
   "id": "8f77f277",
   "metadata": {
    "papermill": {
     "duration": 0.026098,
     "end_time": "2022-12-04T01:46:41.578191",
     "exception": false,
     "start_time": "2022-12-04T01:46:41.552093",
     "status": "completed"
    },
    "tags": []
   },
   "source": [
    "To create classes for the transformations, it is useful to inherit a few things from the scikit-learn base classes `TransformerMixin` and `BaseEstimator` (which provide the methods required by a pipeline), and then just write a `transform` method. To begin with, let's create a transformation that just takes the text_length column. The `transform` method returns a column vector (i.e. shape $1 \\times N$ rather than a vector) using `np.newaxis`, which is useful when combining columns in `FeatureUnion`."
   ]
  },
  {
   "cell_type": "code",
   "execution_count": 12,
   "id": "8160aec6",
   "metadata": {
    "execution": {
     "iopub.execute_input": "2022-12-04T01:46:41.632724Z",
     "iopub.status.busy": "2022-12-04T01:46:41.632281Z",
     "iopub.status.idle": "2022-12-04T01:46:41.639523Z",
     "shell.execute_reply": "2022-12-04T01:46:41.638244Z"
    },
    "papermill": {
     "duration": 0.03747,
     "end_time": "2022-12-04T01:46:41.641923",
     "exception": false,
     "start_time": "2022-12-04T01:46:41.604453",
     "status": "completed"
    },
    "tags": []
   },
   "outputs": [],
   "source": [
    "from sklearn.base import TransformerMixin, BaseEstimator\n",
    "class FeatureExtractionClass(TransformerMixin, BaseEstimator):\n",
    "    def fit(self, X, y=None):\n",
    "        return self\n",
    "\n",
    "class TextLength(FeatureExtractionClass):\n",
    "    def transform(self, X, y=None):\n",
    "        return np.array(X['text_length'])[:,np.newaxis]"
   ]
  },
  {
   "cell_type": "markdown",
   "id": "34eb795d",
   "metadata": {
    "papermill": {
     "duration": 0.027417,
     "end_time": "2022-12-04T01:46:41.696815",
     "exception": false,
     "start_time": "2022-12-04T01:46:41.669398",
     "status": "completed"
    },
    "tags": []
   },
   "source": [
    "The longest sentence in the dataset (written by MWS) contains over 4500 characters!\n"
   ]
  },
  {
   "cell_type": "code",
   "execution_count": 13,
   "id": "76239231",
   "metadata": {
    "execution": {
     "iopub.execute_input": "2022-12-04T01:46:41.752901Z",
     "iopub.status.busy": "2022-12-04T01:46:41.752442Z",
     "iopub.status.idle": "2022-12-04T01:46:41.761316Z",
     "shell.execute_reply": "2022-12-04T01:46:41.759932Z"
    },
    "papermill": {
     "duration": 0.040669,
     "end_time": "2022-12-04T01:46:41.763994",
     "exception": false,
     "start_time": "2022-12-04T01:46:41.723325",
     "status": "completed"
    },
    "tags": []
   },
   "outputs": [
    {
     "data": {
      "text/plain": [
       "'Diotima approached the fountain seated herself on a mossy mound near it and her disciples placed themselves on the grass near her Without noticing me who sat close under her she continued her discourse addressing as it happened one or other of her listeners but before I attempt to repeat her words I will describe the chief of these whom she appeared to wish principally to impress One was a woman of about years of age in the full enjoyment of the most exquisite beauty her golden hair floated in ringlets on her shoulders her hazle eyes were shaded by heavy lids and her mouth the lips apart seemed to breathe sensibility But she appeared thoughtful unhappy her cheek was pale she seemed as if accustomed to suffer and as if the lessons she now heard were the only words of wisdom to which she had ever listened The youth beside her had a far different aspect his form was emaciated nearly to a shadow his features were handsome but thin worn his eyes glistened as if animating the visage of decay his forehead was expansive but there was a doubt perplexity in his looks that seemed to say that although he had sought wisdom he had got entangled in some mysterious mazes from which he in vain endeavoured to extricate himself As Diotima spoke his colour went came with quick changes the flexible muscles of his countenance shewed every impression that his mind received he seemed one who in life had studied hard but whose feeble frame sunk beneath the weight of the mere exertion of life the spark of intelligence burned with uncommon strength within him but that of life seemed ever on the eve of fading At present I shall not describe any other of this groupe but with deep attention try to recall in my memory some of the words of Diotima they were words of fire but their path is faintly marked on my recollection It requires a just hand, said she continuing her discourse, to weigh divide the good from evil On the earth they are inextricably entangled and if you would cast away what there appears an evil a multitude of beneficial causes or effects cling to it mock your labour When I was on earth and have walked in a solitary country during the silence of night have beheld the multitude of stars, the soft radiance of the moon reflected on the sea, which was studded by lovely islands When I have felt the soft breeze steal across my cheek as the words of love it has soothed cherished me then my mind seemed almost to quit the body that confined it to the earth with a quick mental sense to mingle with the scene that I hardly saw I felt Then I have exclaimed, oh world how beautiful thou art Oh brightest universe behold thy worshiper spirit of beauty of sympathy which pervades all things, now lifts my soul as with wings, how have you animated the light the breezes Deep inexplicable spirit give me words to express my adoration; my mind is hurried away but with language I cannot tell how I feel thy loveliness Silence or the song of the nightingale the momentary apparition of some bird that flies quietly past all seems animated with thee more than all the deep sky studded with worlds\" If the winds roared tore the sea and the dreadful lightnings seemed falling around me still love was mingled with the sacred terror I felt; the majesty of loveliness was deeply impressed on me So also I have felt when I have seen a lovely countenance or heard solemn music or the eloquence of divine wisdom flowing from the lips of one of its worshippers a lovely animal or even the graceful undulations of trees inanimate objects have excited in me the same deep feeling of love beauty; a feeling which while it made me alive eager to seek the cause animator of the scene, yet satisfied me by its very depth as if I had already found the solution to my enquires sic as if in feeling myself a part of the great whole I had found the truth secret of the universe But when retired in my cell I have studied contemplated the various motions and actions in the world the weight of evil has confounded me If I thought of the creation I saw an eternal chain of evil linked one to the other from the great whale who in the sea swallows destroys multitudes the smaller fish that live on him also torment him to madness to the cat whose pleasure it is to torment her prey I saw the whole creation filled with pain each creature seems to exist through the misery of another death havoc is the watchword of the animated world And Man also even in Athens the most civilized spot on the earth what a multitude of mean passions envy, malice a restless desire to depreciate all that was great and good did I see And in the dominions of the great being I saw man reduced?'"
      ]
     },
     "execution_count": 13,
     "metadata": {},
     "output_type": "execute_result"
    }
   ],
   "source": [
    "data.loc[np.argmax(TextLength().transform(data)),'text']"
   ]
  },
  {
   "cell_type": "markdown",
   "id": "89041d2f",
   "metadata": {
    "papermill": {
     "duration": 0.026414,
     "end_time": "2022-12-04T01:46:41.817703",
     "exception": false,
     "start_time": "2022-12-04T01:46:41.791289",
     "status": "completed"
    },
    "tags": []
   },
   "source": [
    "Since these authors are by now in the public domain, the original text is available online, and this sentence is a compound [sentence separated with em-dashes](http://www.online-literature.com/shelley_mary/mathilda/14/) rather than full stops, where the dashes have been removed in the text provided to us. Recreating the dashes and/or separating this out looks like a fairly formidable task so we can leave it as it is. At any rate, maybe this kind of writing will be repeated again so it could be useful to identify authors. \n",
    "\n",
    "Let's have a look at how text length distribution differs among the three authors, cutting off the y-axis of the next figure at 1000 characters: "
   ]
  },
  {
   "cell_type": "code",
   "execution_count": 14,
   "id": "c578575b",
   "metadata": {
    "execution": {
     "iopub.execute_input": "2022-12-04T01:46:41.874954Z",
     "iopub.status.busy": "2022-12-04T01:46:41.874543Z",
     "iopub.status.idle": "2022-12-04T01:46:42.248412Z",
     "shell.execute_reply": "2022-12-04T01:46:42.247408Z"
    },
    "papermill": {
     "duration": 0.40648,
     "end_time": "2022-12-04T01:46:42.250846",
     "exception": false,
     "start_time": "2022-12-04T01:46:41.844366",
     "status": "completed"
    },
    "tags": []
   },
   "outputs": [
    {
     "data": {
      "image/png": "[encoded data removed]",
      "text/plain": [
       "<Figure size 432x288 with 1 Axes>"
      ]
     },
     "metadata": {
      "needs_background": "light"
     },
     "output_type": "display_data"
    }
   ],
   "source": [
    "ax=sns.violinplot(data=pd.DataFrame({'Author': data['author'], \n",
    "                                    'Text Length': TextLength().transform(data).ravel()}), \n",
    "                 x=\"Author\", y=\"Text Length\")\n",
    "#ax.set_yscale('log')\n",
    "_=ax.set_ylim([0,1000])"
   ]
  },
  {
   "cell_type": "markdown",
   "id": "a4bebdfc",
   "metadata": {
    "papermill": {
     "duration": 0.02695,
     "end_time": "2022-12-04T01:46:42.305450",
     "exception": false,
     "start_time": "2022-12-04T01:46:42.278500",
     "status": "completed"
    },
    "tags": []
   },
   "source": [
    "There does seem to be a tendency for EAP to write short, punchy sentences occasionally, and HPL tends to have a smaller variability in sentence length than the other two authors. Could be useful!\n",
    "\n",
    "## 3.2 Punctuation\n",
    "\n",
    "Use of punctuation can be highly idiomatic, so let's engineer a few features involving this. Pick a random example sentence from the dataset:\n"
   ]
  },
  {
   "cell_type": "code",
   "execution_count": 15,
   "id": "c47964c2",
   "metadata": {
    "execution": {
     "iopub.execute_input": "2022-12-04T01:46:42.363052Z",
     "iopub.status.busy": "2022-12-04T01:46:42.362407Z",
     "iopub.status.idle": "2022-12-04T01:46:42.368642Z",
     "shell.execute_reply": "2022-12-04T01:46:42.367092Z"
    },
    "papermill": {
     "duration": 0.038303,
     "end_time": "2022-12-04T01:46:42.371225",
     "exception": false,
     "start_time": "2022-12-04T01:46:42.332922",
     "status": "completed"
    },
    "tags": []
   },
   "outputs": [
    {
     "name": "stdout",
     "output_type": "stream",
     "text": [
      "They had received orders that if I were again taken, I should be brought to the Earl; and his lenity made them expect a conclusion which they considered ill befitting my crime.\n"
     ]
    }
   ],
   "source": [
    "sample_txt=data['text'][123]\n",
    "print(sample_txt)"
   ]
  },
  {
   "cell_type": "markdown",
   "id": "926dacf2",
   "metadata": {
    "papermill": {
     "duration": 0.027437,
     "end_time": "2022-12-04T01:46:42.425801",
     "exception": false,
     "start_time": "2022-12-04T01:46:42.398364",
     "status": "completed"
    },
    "tags": []
   },
   "source": [
    "Here we have one comma, a semicolon and a fullstop. \n",
    "\n",
    "A list of ASCII punctuation symbols is provided in the python `string` package:"
   ]
  },
  {
   "cell_type": "code",
   "execution_count": 16,
   "id": "19eeafba",
   "metadata": {
    "execution": {
     "iopub.execute_input": "2022-12-04T01:46:42.483186Z",
     "iopub.status.busy": "2022-12-04T01:46:42.482469Z",
     "iopub.status.idle": "2022-12-04T01:46:42.488460Z",
     "shell.execute_reply": "2022-12-04T01:46:42.487522Z"
    },
    "papermill": {
     "duration": 0.037646,
     "end_time": "2022-12-04T01:46:42.490614",
     "exception": false,
     "start_time": "2022-12-04T01:46:42.452968",
     "status": "completed"
    },
    "tags": []
   },
   "outputs": [
    {
     "data": {
      "text/plain": [
       "'!\"#$%&\\'()*+,-./:;<=>?@[\\\\]^_`{|}~'"
      ]
     },
     "execution_count": 16,
     "metadata": {},
     "output_type": "execute_result"
    }
   ],
   "source": [
    "import string\n",
    "punct = string.punctuation\n",
    "punct"
   ]
  },
  {
   "cell_type": "markdown",
   "id": "1757d0f6",
   "metadata": {
    "papermill": {
     "duration": 0.026766,
     "end_time": "2022-12-04T01:46:42.544819",
     "exception": false,
     "start_time": "2022-12-04T01:46:42.518053",
     "status": "completed"
    },
    "tags": []
   },
   "source": [
    "The `re` (regular expression operations) [module](https://docs.python.org/3/library/re.html) is useful for processing text. It is pretty useful, and I have used this previously for extracting info from strings with a fixed pattern, e.g. the \"a\" within the brackets from \"Example 3(a)\". In this notebook, however we use `re` just to find and count characters or words in strings.   \n",
    "\n",
    "Use of the square brackets in a re pattern is like uysing a boolean \"or\" operator for individual characters:"
   ]
  },
  {
   "cell_type": "code",
   "execution_count": 17,
   "id": "ecbb3d20",
   "metadata": {
    "execution": {
     "iopub.execute_input": "2022-12-04T01:46:42.601196Z",
     "iopub.status.busy": "2022-12-04T01:46:42.600734Z",
     "iopub.status.idle": "2022-12-04T01:46:42.607843Z",
     "shell.execute_reply": "2022-12-04T01:46:42.606934Z"
    },
    "papermill": {
     "duration": 0.037922,
     "end_time": "2022-12-04T01:46:42.610226",
     "exception": false,
     "start_time": "2022-12-04T01:46:42.572304",
     "status": "completed"
    },
    "tags": []
   },
   "outputs": [
    {
     "data": {
      "text/plain": [
       "[',', ';', '.']"
      ]
     },
     "execution_count": 17,
     "metadata": {},
     "output_type": "execute_result"
    }
   ],
   "source": [
    "import re\n",
    "re.compile(\"[\" + punct + \"]\").findall(sample_txt)"
   ]
  },
  {
   "cell_type": "markdown",
   "id": "5ef58661",
   "metadata": {
    "papermill": {
     "duration": 0.026642,
     "end_time": "2022-12-04T01:46:42.664589",
     "exception": false,
     "start_time": "2022-12-04T01:46:42.637947",
     "status": "completed"
    },
    "tags": []
   },
   "source": [
    "Let's make two features, punctuation count as a proportion of text length, and count of semicolons used in the text. The 'text_length' column we made previously is useful for the punctuation proportion feature."
   ]
  },
  {
   "cell_type": "code",
   "execution_count": 18,
   "id": "d563b728",
   "metadata": {
    "execution": {
     "iopub.execute_input": "2022-12-04T01:46:42.721672Z",
     "iopub.status.busy": "2022-12-04T01:46:42.720479Z",
     "iopub.status.idle": "2022-12-04T01:46:42.728274Z",
     "shell.execute_reply": "2022-12-04T01:46:42.727396Z"
    },
    "papermill": {
     "duration": 0.038717,
     "end_time": "2022-12-04T01:46:42.730713",
     "exception": false,
     "start_time": "2022-12-04T01:46:42.691996",
     "status": "completed"
    },
    "tags": []
   },
   "outputs": [],
   "source": [
    "class CountPunctuationProp(FeatureExtractionClass):\n",
    "    def transform(self, X, y=None):\n",
    "        punctuation_count = [len(re.compile(\"[\" + punct + \"]\").findall(txt)) for txt in X['text']]\n",
    "        return np.array(np.array(punctuation_count)/X['text_length'])[:,np.newaxis]\n",
    "class CountSemicolons(FeatureExtractionClass):\n",
    "    def transform(self, X, y=None):\n",
    "        punctuation_count = np.array([len(re.compile(\";\").findall(txt)) for txt in X['text']])[:,np.newaxis]\n",
    "        return punctuation_count"
   ]
  },
  {
   "cell_type": "code",
   "execution_count": 19,
   "id": "241bba68",
   "metadata": {
    "execution": {
     "iopub.execute_input": "2022-12-04T01:46:42.788809Z",
     "iopub.status.busy": "2022-12-04T01:46:42.787830Z",
     "iopub.status.idle": "2022-12-04T01:46:43.431415Z",
     "shell.execute_reply": "2022-12-04T01:46:43.430206Z"
    },
    "papermill": {
     "duration": 0.67596,
     "end_time": "2022-12-04T01:46:43.434375",
     "exception": false,
     "start_time": "2022-12-04T01:46:42.758415",
     "status": "completed"
    },
    "tags": []
   },
   "outputs": [
    {
     "data": {
      "image/png": "[encoded data removed]",
      "text/plain": [
       "<Figure size 1080x432 with 2 Axes>"
      ]
     },
     "metadata": {
      "needs_background": "light"
     },
     "output_type": "display_data"
    }
   ],
   "source": [
    "\n",
    "plt.figure(figsize=(15, 6))\n",
    "plt.subplot(1,2,1)\n",
    "_=sns.violinplot(data=pd.DataFrame({'Author': data['author'], 'Punctuation Proportion': CountPunctuationProp().transform(data).ravel()}), \n",
    "                 x=\"Author\", y=\"Punctuation Proportion\")\n",
    "plt.subplot(1,2,2)\n",
    "_=sns.violinplot(data=pd.DataFrame({'Author': data['author'], 'Number of Semicolons': CountSemicolons().transform(data).ravel()}), \n",
    "                 x=\"Author\", y=\"Number of Semicolons\")"
   ]
  },
  {
   "cell_type": "markdown",
   "id": "daf8e153",
   "metadata": {
    "papermill": {
     "duration": 0.027921,
     "end_time": "2022-12-04T01:46:43.490904",
     "exception": false,
     "start_time": "2022-12-04T01:46:43.462983",
     "status": "completed"
    },
    "tags": []
   },
   "source": [
    "It looks like Edgar Allan Poe used quite a bit more punctuation (as well as semicolons) than both the other authors, although as we have seen, em-dashes were edited out in the exceprt from Mary Wollstonecraft Shelley above, so these features might not be a true representation of punctuation usage.\n",
    "\n",
    "## 3.3 Word length\n",
    "\n",
    "So far we've just looked at characters in sentences. Word length can vary substantially between authors and could be a good way of telling authors apart. \n",
    "\n",
    "I initially implemented word length just by counting the number of spaces, but there's more sophisticated ways of doing this. The `re` module could be used again, but the python Natural Language Toolkit ([nltk](https://www.nltk.org/)) has an inbuilt tokenizer to do exactly what we want."
   ]
  },
  {
   "cell_type": "code",
   "execution_count": 20,
   "id": "6711281b",
   "metadata": {
    "execution": {
     "iopub.execute_input": "2022-12-04T01:46:43.550451Z",
     "iopub.status.busy": "2022-12-04T01:46:43.549521Z",
     "iopub.status.idle": "2022-12-04T01:46:44.308399Z",
     "shell.execute_reply": "2022-12-04T01:46:44.306631Z"
    },
    "papermill": {
     "duration": 0.792863,
     "end_time": "2022-12-04T01:46:44.311920",
     "exception": false,
     "start_time": "2022-12-04T01:46:43.519057",
     "status": "completed"
    },
    "tags": []
   },
   "outputs": [
    {
     "name": "stdout",
     "output_type": "stream",
     "text": [
      "['They', 'had', 'received', 'orders', 'that', 'if', 'I', 'were', 'again', 'taken', 'I', 'should', 'be', 'brought', 'to', 'the', 'Earl', 'and', 'his', 'lenity', 'made', 'them', 'expect', 'a', 'conclusion', 'which', 'they', 'considered', 'ill', 'befitting', 'my', 'crime']\n"
     ]
    }
   ],
   "source": [
    "from nltk.tokenize import RegexpTokenizer\n",
    "qword_tokenizer = RegexpTokenizer(r'\\w+')\n",
    "words = qword_tokenizer.tokenize(sample_txt)\n",
    "print(words)"
   ]
  },
  {
   "cell_type": "markdown",
   "id": "6b733770",
   "metadata": {
    "papermill": {
     "duration": 0.029564,
     "end_time": "2022-12-04T01:46:44.370396",
     "exception": false,
     "start_time": "2022-12-04T01:46:44.340832",
     "status": "completed"
    },
    "tags": []
   },
   "source": [
    "NLTK has nicely separated out words, and punctuation has been lost. However, apostrophes prove problematic, as can be seen in the following example:"
   ]
  },
  {
   "cell_type": "code",
   "execution_count": 21,
   "id": "e7ad7fea",
   "metadata": {
    "execution": {
     "iopub.execute_input": "2022-12-04T01:46:44.431887Z",
     "iopub.status.busy": "2022-12-04T01:46:44.431071Z",
     "iopub.status.idle": "2022-12-04T01:46:44.437910Z",
     "shell.execute_reply": "2022-12-04T01:46:44.436408Z"
    },
    "papermill": {
     "duration": 0.040908,
     "end_time": "2022-12-04T01:46:44.441169",
     "exception": false,
     "start_time": "2022-12-04T01:46:44.400261",
     "status": "completed"
    },
    "tags": []
   },
   "outputs": [
    {
     "name": "stdout",
     "output_type": "stream",
     "text": [
      "['I', 'can', 't', 'do', 'it']\n"
     ]
    }
   ],
   "source": [
    "print(qword_tokenizer.tokenize(\"I can't do it\"))"
   ]
  },
  {
   "cell_type": "markdown",
   "id": "3a9a05c1",
   "metadata": {
    "papermill": {
     "duration": 0.027794,
     "end_time": "2022-12-04T01:46:44.498106",
     "exception": false,
     "start_time": "2022-12-04T01:46:44.470312",
     "status": "completed"
    },
    "tags": []
   },
   "source": [
    "As can be seen, \"can't\" is separated into two words here. Removal of stop words could resolve this, but possessives (\"Robert's cloak\") would need to also be handled. Nevertheless, we can engineer a few features based on word length using the nltk function.\n",
    "\n",
    "## 3.4 Number of words in text"
   ]
  },
  {
   "cell_type": "code",
   "execution_count": 22,
   "id": "5f21b463",
   "metadata": {
    "execution": {
     "iopub.execute_input": "2022-12-04T01:46:44.558705Z",
     "iopub.status.busy": "2022-12-04T01:46:44.557806Z",
     "iopub.status.idle": "2022-12-04T01:46:44.713977Z",
     "shell.execute_reply": "2022-12-04T01:46:44.712763Z"
    },
    "papermill": {
     "duration": 0.189379,
     "end_time": "2022-12-04T01:46:44.716666",
     "exception": false,
     "start_time": "2022-12-04T01:46:44.527287",
     "status": "completed"
    },
    "tags": []
   },
   "outputs": [
    {
     "data": {
      "text/plain": [
       "array([41, 14, 36, ..., 13, 15, 22])"
      ]
     },
     "execution_count": 22,
     "metadata": {},
     "output_type": "execute_result"
    }
   ],
   "source": [
    "class CountWords(FeatureExtractionClass):\n",
    "    def transform(self, X, y=None):\n",
    "        #return np.array(data['nwords'])[:,np.newaxis]\n",
    "        return np.array([len(qword_tokenizer.tokenize(txt)) for txt in X['text']])\n",
    "CountWords().transform(data)"
   ]
  },
  {
   "cell_type": "markdown",
   "id": "9e40bd86",
   "metadata": {
    "papermill": {
     "duration": 0.028476,
     "end_time": "2022-12-04T01:46:44.774086",
     "exception": false,
     "start_time": "2022-12-04T01:46:44.745610",
     "status": "completed"
    },
    "tags": []
   },
   "source": [
    "The nltk tokenizer provides a very similar word count to just counting spaces:"
   ]
  },
  {
   "cell_type": "code",
   "execution_count": 23,
   "id": "db9636bf",
   "metadata": {
    "execution": {
     "iopub.execute_input": "2022-12-04T01:46:44.835573Z",
     "iopub.status.busy": "2022-12-04T01:46:44.834503Z",
     "iopub.status.idle": "2022-12-04T01:46:45.846108Z",
     "shell.execute_reply": "2022-12-04T01:46:45.844939Z"
    },
    "papermill": {
     "duration": 1.045007,
     "end_time": "2022-12-04T01:46:45.848595",
     "exception": false,
     "start_time": "2022-12-04T01:46:44.803588",
     "status": "completed"
    },
    "tags": []
   },
   "outputs": [
    {
     "data": {
      "image/png": "[encoded data removed]",
      "text/plain": [
       "<Figure size 432x288 with 1 Axes>"
      ]
     },
     "metadata": {
      "needs_background": "light"
     },
     "output_type": "display_data"
    }
   ],
   "source": [
    "ax = plt.loglog(CountWords().transform(data).ravel(), data['nwords'],'o')\n",
    "_=plt.gca().set_ylabel('Word count by counting spaces')\n",
    "_=plt.gca().set_xlabel('Word count with nltk tokenizer')"
   ]
  },
  {
   "cell_type": "markdown",
   "id": "f25eb9ad",
   "metadata": {
    "papermill": {
     "duration": 0.028486,
     "end_time": "2022-12-04T01:46:45.905597",
     "exception": false,
     "start_time": "2022-12-04T01:46:45.877111",
     "status": "completed"
    },
    "tags": []
   },
   "source": [
    "## 3.5 Average word length\n",
    "\n",
    "Whereas counting spaces is probably just as good as the nltk tokenizer for counting words, the tokenizer provides us with the words themselves in a list, so we can use these to calculate mean and standard deviation of word length. "
   ]
  },
  {
   "cell_type": "code",
   "execution_count": 24,
   "id": "45d10a3a",
   "metadata": {
    "execution": {
     "iopub.execute_input": "2022-12-04T01:46:45.966694Z",
     "iopub.status.busy": "2022-12-04T01:46:45.965868Z",
     "iopub.status.idle": "2022-12-04T01:46:46.811250Z",
     "shell.execute_reply": "2022-12-04T01:46:46.809770Z"
    },
    "papermill": {
     "duration": 0.879493,
     "end_time": "2022-12-04T01:46:46.814737",
     "exception": false,
     "start_time": "2022-12-04T01:46:45.935244",
     "status": "completed"
    },
    "tags": []
   },
   "outputs": [
    {
     "data": {
      "image/png": "[encoded data removed]",
      "text/plain": [
       "<Figure size 432x288 with 1 Axes>"
      ]
     },
     "metadata": {
      "needs_background": "light"
     },
     "output_type": "display_data"
    }
   ],
   "source": [
    "class AvWordLength(FeatureExtractionClass):\n",
    "    def transform(self, X, y=None):\n",
    "        return np.array([np.mean([len(x) for x in qword_tokenizer.tokenize(txt)]) for txt in X['text']])[:,np.newaxis]\n",
    "_=sns.violinplot(data=pd.DataFrame({'Author': data['author'], 'Average word length': AvWordLength().transform(data).ravel()}), \n",
    "                 x=\"Author\", y=\"Average word length\")"
   ]
  },
  {
   "cell_type": "markdown",
   "id": "a1a10235",
   "metadata": {
    "papermill": {
     "duration": 0.029909,
     "end_time": "2022-12-04T01:46:46.881370",
     "exception": false,
     "start_time": "2022-12-04T01:46:46.851461",
     "status": "completed"
    },
    "tags": []
   },
   "source": [
    "However, I recently discovered that the mean of word length is surprisingly constant across different texts, so I don't use this in the model.\n",
    "\n",
    "## 3.6 Standard deviation of word length"
   ]
  },
  {
   "cell_type": "code",
   "execution_count": 25,
   "id": "a87620b6",
   "metadata": {
    "execution": {
     "iopub.execute_input": "2022-12-04T01:46:46.954357Z",
     "iopub.status.busy": "2022-12-04T01:46:46.953961Z",
     "iopub.status.idle": "2022-12-04T01:46:47.756204Z",
     "shell.execute_reply": "2022-12-04T01:46:47.755287Z"
    },
    "papermill": {
     "duration": 0.843273,
     "end_time": "2022-12-04T01:46:47.758712",
     "exception": false,
     "start_time": "2022-12-04T01:46:46.915439",
     "status": "completed"
    },
    "tags": []
   },
   "outputs": [
    {
     "data": {
      "image/png": "[encoded data removed]",
      "text/plain": [
       "<Figure size 432x288 with 1 Axes>"
      ]
     },
     "metadata": {
      "needs_background": "light"
     },
     "output_type": "display_data"
    }
   ],
   "source": [
    "class StdWordLength(FeatureExtractionClass):\n",
    "    def transform(self, X, y=None):\n",
    "        return np.array([np.std([len(x) for x in qword_tokenizer.tokenize(txt)]) for txt in X['text']])[:,np.newaxis]\n",
    "_=sns.violinplot(data=pd.DataFrame({'Author': data['author'], 'Std. dev of word length': AvWordLength().transform(data).ravel()}), \n",
    "                 x=\"Author\", y=\"Std. dev of word length\")"
   ]
  },
  {
   "cell_type": "markdown",
   "id": "10c99e45",
   "metadata": {
    "papermill": {
     "duration": 0.030588,
     "end_time": "2022-12-04T01:46:47.818808",
     "exception": false,
     "start_time": "2022-12-04T01:46:47.788220",
     "status": "completed"
    },
    "tags": []
   },
   "source": [
    "\n",
    "## 3.7 Stop words\n",
    "\n",
    "Stop words are words that play a role in syntax but are essentially meaningless in relation to the sentence content. Often in NLP they are removed from texts before processing.\n",
    "\n",
    "However, the use and frequency of stop words can be an important determinant in a writer's style. The notebooks referenced in the introduction (and elsewhere) both consider stop word count as a feature, so I include it as well. Here we use stopwords from [NLTK](https://pythonspot.com/nltk-stop-words/)."
   ]
  },
  {
   "cell_type": "code",
   "execution_count": 26,
   "id": "0223e98f",
   "metadata": {
    "execution": {
     "iopub.execute_input": "2022-12-04T01:46:47.883844Z",
     "iopub.status.busy": "2022-12-04T01:46:47.883394Z",
     "iopub.status.idle": "2022-12-04T01:46:47.899774Z",
     "shell.execute_reply": "2022-12-04T01:46:47.898596Z"
    },
    "papermill": {
     "duration": 0.050467,
     "end_time": "2022-12-04T01:46:47.902676",
     "exception": false,
     "start_time": "2022-12-04T01:46:47.852209",
     "status": "completed"
    },
    "tags": []
   },
   "outputs": [
    {
     "data": {
      "text/plain": [
       "['about',\n",
       " 'yours',\n",
       " 'when',\n",
       " 'into',\n",
       " 'between',\n",
       " 'shouldn',\n",
       " \"should've\",\n",
       " 'now',\n",
       " 'yourself',\n",
       " 'were']"
      ]
     },
     "execution_count": 26,
     "metadata": {},
     "output_type": "execute_result"
    }
   ],
   "source": [
    "import nltk\n",
    "from nltk.corpus import stopwords\n",
    "\n",
    "eng_stopwords = set(stopwords.words(\"english\"))\n",
    "list(eng_stopwords)[:10]"
   ]
  },
  {
   "cell_type": "markdown",
   "id": "563aac10",
   "metadata": {
    "papermill": {
     "duration": 0.030302,
     "end_time": "2022-12-04T01:46:47.963673",
     "exception": false,
     "start_time": "2022-12-04T01:46:47.933371",
     "status": "completed"
    },
    "tags": []
   },
   "source": [
    "We can use the `re` module to search through the texts to locate particular words."
   ]
  },
  {
   "cell_type": "code",
   "execution_count": 27,
   "id": "8b1e2c4d",
   "metadata": {
    "execution": {
     "iopub.execute_input": "2022-12-04T01:46:48.026152Z",
     "iopub.status.busy": "2022-12-04T01:46:48.025703Z",
     "iopub.status.idle": "2022-12-04T01:46:48.032511Z",
     "shell.execute_reply": "2022-12-04T01:46:48.031539Z"
    },
    "papermill": {
     "duration": 0.040888,
     "end_time": "2022-12-04T01:46:48.034687",
     "exception": false,
     "start_time": "2022-12-04T01:46:47.993799",
     "status": "completed"
    },
    "tags": []
   },
   "outputs": [
    {
     "data": {
      "text/plain": [
       "'In his left hand was a gold snuff box, from which, as he capered down the hill, cutting all manner of fantastic steps, he took snuff incessantly with an air of the greatest possible self satisfaction.'"
      ]
     },
     "execution_count": 27,
     "metadata": {},
     "output_type": "execute_result"
    }
   ],
   "source": [
    "import re\n",
    "\n",
    "stop_sample_txt = data.loc[2,'text']\n",
    "stop_sample_txt"
   ]
  },
  {
   "cell_type": "markdown",
   "id": "9d72b8ab",
   "metadata": {
    "papermill": {
     "duration": 0.029259,
     "end_time": "2022-12-04T01:46:48.094252",
     "exception": false,
     "start_time": "2022-12-04T01:46:48.064993",
     "status": "completed"
    },
    "tags": []
   },
   "source": [
    "We need to be careful how regular expressions are compiled:"
   ]
  },
  {
   "cell_type": "code",
   "execution_count": 28,
   "id": "e101a2a9",
   "metadata": {
    "execution": {
     "iopub.execute_input": "2022-12-04T01:46:48.155798Z",
     "iopub.status.busy": "2022-12-04T01:46:48.155337Z",
     "iopub.status.idle": "2022-12-04T01:46:48.163247Z",
     "shell.execute_reply": "2022-12-04T01:46:48.162099Z"
    },
    "papermill": {
     "duration": 0.042087,
     "end_time": "2022-12-04T01:46:48.165712",
     "exception": false,
     "start_time": "2022-12-04T01:46:48.123625",
     "status": "completed"
    },
    "tags": []
   },
   "outputs": [
    {
     "data": {
      "text/plain": [
       "['as', 'as', 'as']"
      ]
     },
     "execution_count": 28,
     "metadata": {},
     "output_type": "execute_result"
    }
   ],
   "source": [
    "re.compile('as').findall(stop_sample_txt.lower())"
   ]
  },
  {
   "cell_type": "markdown",
   "id": "4a50aa3c",
   "metadata": {
    "papermill": {
     "duration": 0.035085,
     "end_time": "2022-12-04T01:46:48.232723",
     "exception": false,
     "start_time": "2022-12-04T01:46:48.197638",
     "status": "completed"
    },
    "tags": []
   },
   "source": [
    "Searching for the regular expression \"as\" picks up \"as\" in \"was\" and \"fantastic\", as well as the whole word \"as\". The correct way to search for [whole words only](https://docs.python.org/3/library/re.html#regular-expression-syntax) is to surrounding the regular expression with \"\\b\"."
   ]
  },
  {
   "cell_type": "code",
   "execution_count": 29,
   "id": "64c8a04d",
   "metadata": {
    "execution": {
     "iopub.execute_input": "2022-12-04T01:46:48.293629Z",
     "iopub.status.busy": "2022-12-04T01:46:48.293221Z",
     "iopub.status.idle": "2022-12-04T01:46:48.300745Z",
     "shell.execute_reply": "2022-12-04T01:46:48.299565Z"
    },
    "papermill": {
     "duration": 0.040782,
     "end_time": "2022-12-04T01:46:48.303123",
     "exception": false,
     "start_time": "2022-12-04T01:46:48.262341",
     "status": "completed"
    },
    "tags": []
   },
   "outputs": [
    {
     "data": {
      "text/plain": [
       "['as']"
      ]
     },
     "execution_count": 29,
     "metadata": {},
     "output_type": "execute_result"
    }
   ],
   "source": [
    "re.compile(r'\\bas\\b').findall(stop_sample_txt.lower())"
   ]
  },
  {
   "cell_type": "markdown",
   "id": "cc4b9b18",
   "metadata": {
    "papermill": {
     "duration": 0.029335,
     "end_time": "2022-12-04T01:46:48.362774",
     "exception": false,
     "start_time": "2022-12-04T01:46:48.333439",
     "status": "completed"
    },
    "tags": []
   },
   "source": [
    "which works how we'd like. Let's create a transformer that extracts a list of any particular set of words (not just stop words)."
   ]
  },
  {
   "cell_type": "code",
   "execution_count": 30,
   "id": "10deda9a",
   "metadata": {
    "execution": {
     "iopub.execute_input": "2022-12-04T01:46:48.424875Z",
     "iopub.status.busy": "2022-12-04T01:46:48.424417Z",
     "iopub.status.idle": "2022-12-04T01:46:48.431377Z",
     "shell.execute_reply": "2022-12-04T01:46:48.430072Z"
    },
    "papermill": {
     "duration": 0.041497,
     "end_time": "2022-12-04T01:46:48.433829",
     "exception": false,
     "start_time": "2022-12-04T01:46:48.392332",
     "status": "completed"
    },
    "tags": []
   },
   "outputs": [],
   "source": [
    "class XtractWords(FeatureExtractionClass):\n",
    "    def __init__(self, word_list):\n",
    "        self.words = word_list\n",
    "    def transform(self, X, y=None):\n",
    "        word_occurrences = [re.compile(\"\\b\" + r\"\\b|\\b\".join(self.words) + \"\\b\").findall(txt.lower()) for txt in X['text']]\n",
    "        return word_occurrences\n",
    "    "
   ]
  },
  {
   "cell_type": "markdown",
   "id": "0d42556e",
   "metadata": {
    "papermill": {
     "duration": 0.029629,
     "end_time": "2022-12-04T01:46:48.495607",
     "exception": false,
     "start_time": "2022-12-04T01:46:48.465978",
     "status": "completed"
    },
    "tags": []
   },
   "source": [
    "The above implementation was really slow, and made the whole model building pipeline pretty much unusable. A moment's thought reveals that sequentially comparing words like in the above is a really inefficient way of doing things. When we look up someone's name in a phone directory (young people: what's that?) we don't compare every word, rather we drill down recursively comparing each letter in turn. By setting up a properly balanced prefix (radix) tree, known as a trie, we can achieve much better performance. \n",
    "\n",
    "[Eric Duminil](https://stackoverflow.com/a/42789508/14278409) provided an awesome answer on stackoverflow that does exactly this."
   ]
  },
  {
   "cell_type": "code",
   "execution_count": 31,
   "id": "3058a173",
   "metadata": {
    "execution": {
     "iopub.execute_input": "2022-12-04T01:46:48.560353Z",
     "iopub.status.busy": "2022-12-04T01:46:48.559950Z",
     "iopub.status.idle": "2022-12-04T01:46:48.719029Z",
     "shell.execute_reply": "2022-12-04T01:46:48.717727Z"
    },
    "papermill": {
     "duration": 0.195409,
     "end_time": "2022-12-04T01:46:48.721739",
     "exception": false,
     "start_time": "2022-12-04T01:46:48.526330",
     "status": "completed"
    },
    "tags": []
   },
   "outputs": [],
   "source": [
    "# Faster regex search using tries\n",
    "# Awesome answer from here\n",
    "# https://stackoverflow.com/a/42789508/14278409\n",
    "\n",
    "class Trie():\n",
    "    \"\"\"Regex::Trie in Python. Creates a Trie out of a list of words. The trie can be exported to a Regex pattern.\n",
    "    The corresponding Regex should match much faster than a simple Regex union.\"\"\"\n",
    "\n",
    "    def __init__(self):\n",
    "        self.data = {}\n",
    "\n",
    "    def add(self, word):\n",
    "        ref = self.data\n",
    "        for char in word:\n",
    "            ref[char] = char in ref and ref[char] or {}\n",
    "            ref = ref[char]\n",
    "        ref[''] = 1\n",
    "\n",
    "    def dump(self):\n",
    "        return self.data\n",
    "\n",
    "    def quote(self, char):\n",
    "        return re.escape(char)\n",
    "\n",
    "    def _pattern(self, pData):\n",
    "        data = pData\n",
    "        if \"\" in data and len(data.keys()) == 1:\n",
    "            return None\n",
    "\n",
    "        alt = []\n",
    "        cc = []\n",
    "        q = 0\n",
    "        for char in sorted(data.keys()):\n",
    "            if isinstance(data[char], dict):\n",
    "                try:\n",
    "                    recurse = self._pattern(data[char])\n",
    "                    alt.append(self.quote(char) + recurse)\n",
    "                except:\n",
    "                    cc.append(self.quote(char))\n",
    "            else:\n",
    "                q = 1\n",
    "        cconly = not len(alt) > 0\n",
    "\n",
    "        if len(cc) > 0:\n",
    "            if len(cc) == 1:\n",
    "                alt.append(cc[0])\n",
    "            else:\n",
    "                alt.append('[' + ''.join(cc) + ']')\n",
    "\n",
    "        if len(alt) == 1:\n",
    "            result = alt[0]\n",
    "        else:\n",
    "            result = \"(?:\" + \"|\".join(alt) + \")\"\n",
    "\n",
    "        if q:\n",
    "            if cconly:\n",
    "                result += \"?\"\n",
    "            else:\n",
    "                result = \"(?:%s)?\" % result\n",
    "        return result\n",
    "\n",
    "    def pattern(self):\n",
    "        return self._pattern(self.dump())\n",
    "\n",
    "def trie_regex_from_words(words):\n",
    "    trie = Trie()\n",
    "    for word in words:\n",
    "        trie.add(word)\n",
    "    return re.compile(r\"\\b\" + trie.pattern() + r\"\\b\", re.IGNORECASE)\n",
    "\n"
   ]
  },
  {
   "cell_type": "markdown",
   "id": "8c245c18",
   "metadata": {
    "papermill": {
     "duration": 0.029692,
     "end_time": "2022-12-04T01:46:48.782088",
     "exception": false,
     "start_time": "2022-12-04T01:46:48.752396",
     "status": "completed"
    },
    "tags": []
   },
   "source": [
    "Create a new transformer class using this to search for words in a given vocabulary using the trie regular expression, and a class that counts the number of words in the vocabulary in each text."
   ]
  },
  {
   "cell_type": "code",
   "execution_count": 32,
   "id": "3c98d91e",
   "metadata": {
    "execution": {
     "iopub.execute_input": "2022-12-04T01:46:48.847054Z",
     "iopub.status.busy": "2022-12-04T01:46:48.846640Z",
     "iopub.status.idle": "2022-12-04T01:46:48.855339Z",
     "shell.execute_reply": "2022-12-04T01:46:48.854128Z"
    },
    "papermill": {
     "duration": 0.043837,
     "end_time": "2022-12-04T01:46:48.857835",
     "exception": false,
     "start_time": "2022-12-04T01:46:48.813998",
     "status": "completed"
    },
    "tags": []
   },
   "outputs": [],
   "source": [
    "class XtractWordsFast(FeatureExtractionClass):\n",
    "    def __init__(self, word_list):\n",
    "        self.words = word_list\n",
    "    def transform(self, X, y=None):\n",
    "        re_pattern = trie_regex_from_words(self.words)\n",
    "        word_occurrences = [re_pattern.findall(txt.lower()) for txt in X['text']]\n",
    "        return word_occurrences\n",
    "    \n",
    "class CountStopsProp(FeatureExtractionClass):\n",
    "    def __init__(self, stopwords):\n",
    "        self.stopwords = stopwords\n",
    "    def transform(self, X, y=None):\n",
    "        stops_count = [len(x) for x in XtractWordsFast(self.stopwords).transform(X)]\n",
    "        return np.array(np.array(stops_count) / X['text_length'])[:,np.newaxis]"
   ]
  },
  {
   "cell_type": "code",
   "execution_count": 33,
   "id": "02d7e8f4",
   "metadata": {
    "execution": {
     "iopub.execute_input": "2022-12-04T01:46:48.918648Z",
     "iopub.status.busy": "2022-12-04T01:46:48.918263Z",
     "iopub.status.idle": "2022-12-04T01:46:49.797993Z",
     "shell.execute_reply": "2022-12-04T01:46:49.796739Z"
    },
    "papermill": {
     "duration": 0.913411,
     "end_time": "2022-12-04T01:46:49.800790",
     "exception": false,
     "start_time": "2022-12-04T01:46:48.887379",
     "status": "completed"
    },
    "tags": []
   },
   "outputs": [
    {
     "data": {
      "image/png": "[encoded data removed]",
      "text/plain": [
       "<Figure size 432x288 with 1 Axes>"
      ]
     },
     "metadata": {
      "needs_background": "light"
     },
     "output_type": "display_data"
    }
   ],
   "source": [
    "_=sns.violinplot(data=pd.DataFrame({'Author': data['author'], 'Prop. of stop words': CountStopsProp(eng_stopwords).transform(data).ravel()}), \n",
    "                 x=\"Author\", y=\"Prop. of stop words\")"
   ]
  },
  {
   "cell_type": "markdown",
   "id": "b7669113",
   "metadata": {
    "papermill": {
     "duration": 0.030777,
     "end_time": "2022-12-04T01:46:49.864551",
     "exception": false,
     "start_time": "2022-12-04T01:46:49.833774",
     "status": "completed"
    },
    "tags": []
   },
   "source": [
    "## 3.8 Feminine stop words\n",
    "\n",
    "Some time ago I became interested in the frequency of words in the English language. Somewhat naively, I expected that since men and women make up approximately half of the population each, words like \"he\" and \"she\" should occur in approximately the same frequency. However, I was fairly shocked to discover that, in many different kinds of texts, masculine pronouns occur massively more frequently than feminine pronouns. \n",
    "\n",
    "It turns out that, for whatever reason, we write and read much more about men rather than women. In an early EDA I notice that MWS uses feminine pronouns more frequently that the other two authors, and this could also prove useful as a feature. We can reuse `CountStopsProp` with a feminine-specific vocabulary to engineer this feature."
   ]
  },
  {
   "cell_type": "code",
   "execution_count": 34,
   "id": "67ae1c10",
   "metadata": {
    "execution": {
     "iopub.execute_input": "2022-12-04T01:46:49.929504Z",
     "iopub.status.busy": "2022-12-04T01:46:49.929091Z",
     "iopub.status.idle": "2022-12-04T01:46:49.933686Z",
     "shell.execute_reply": "2022-12-04T01:46:49.932736Z"
    },
    "papermill": {
     "duration": 0.040812,
     "end_time": "2022-12-04T01:46:49.935785",
     "exception": false,
     "start_time": "2022-12-04T01:46:49.894973",
     "status": "completed"
    },
    "tags": []
   },
   "outputs": [],
   "source": [
    "feminine_stopwords = ['her', 'hers', 'herself', 'she', \"she's\"]"
   ]
  },
  {
   "cell_type": "code",
   "execution_count": 35,
   "id": "c35890ca",
   "metadata": {
    "execution": {
     "iopub.execute_input": "2022-12-04T01:46:49.999765Z",
     "iopub.status.busy": "2022-12-04T01:46:49.998737Z",
     "iopub.status.idle": "2022-12-04T01:46:50.630734Z",
     "shell.execute_reply": "2022-12-04T01:46:50.629386Z"
    },
    "papermill": {
     "duration": 0.666119,
     "end_time": "2022-12-04T01:46:50.633216",
     "exception": false,
     "start_time": "2022-12-04T01:46:49.967097",
     "status": "completed"
    },
    "tags": []
   },
   "outputs": [
    {
     "data": {
      "image/png": "[encoded data removed]",
      "text/plain": [
       "<Figure size 432x288 with 1 Axes>"
      ]
     },
     "metadata": {
      "needs_background": "light"
     },
     "output_type": "display_data"
    }
   ],
   "source": [
    "_=sns.violinplot(data=pd.DataFrame({'Author': data['author'], 'Prop. of feminine stop words': CountStopsProp(feminine_stopwords).transform(data).ravel()}), \n",
    "                 x=\"Author\", y=\"Prop. of feminine stop words\")\n",
    "plt.gca().set_yscale('log')"
   ]
  },
  {
   "cell_type": "markdown",
   "id": "97faa9a3",
   "metadata": {
    "papermill": {
     "duration": 0.030085,
     "end_time": "2022-12-04T01:46:50.694315",
     "exception": false,
     "start_time": "2022-12-04T01:46:50.664230",
     "status": "completed"
    },
    "tags": []
   },
   "source": [
    "The stop-words figures show some difference in use of all stop words, and what could be a relatively larger difference in feminine stop words (although it's hard to see from the log-scale figure as the number of feminine stop words in use is overall quite small).\n",
    "\n",
    "## 3.9 All-caps words\n",
    "\n",
    "Another idiomatic use of words is the occurence of ALL-CAPS WORDS. "
   ]
  },
  {
   "cell_type": "code",
   "execution_count": 36,
   "id": "b0903531",
   "metadata": {
    "execution": {
     "iopub.execute_input": "2022-12-04T01:46:50.757375Z",
     "iopub.status.busy": "2022-12-04T01:46:50.756948Z",
     "iopub.status.idle": "2022-12-04T01:46:51.338350Z",
     "shell.execute_reply": "2022-12-04T01:46:51.336892Z"
    },
    "papermill": {
     "duration": 0.616821,
     "end_time": "2022-12-04T01:46:51.341364",
     "exception": false,
     "start_time": "2022-12-04T01:46:50.724543",
     "status": "completed"
    },
    "tags": []
   },
   "outputs": [
    {
     "data": {
      "image/png": "[encoded data removed]",
      "text/plain": [
       "<Figure size 432x288 with 1 Axes>"
      ]
     },
     "metadata": {
      "needs_background": "light"
     },
     "output_type": "display_data"
    }
   ],
   "source": [
    "\n",
    "\n",
    "class CountAllcaps(FeatureExtractionClass):\n",
    "    def transform(self, X, y=None):\n",
    "        return np.array([len([z for z in qword_tokenizer.tokenize(txt) if z==z.upper()]) for txt in X['text']])[:,np.newaxis]\n",
    "_=sns.violinplot(data=pd.DataFrame({'Author': data['author'], \n",
    "                                    'Count of all-caps words': CountAllcaps().transform(data).ravel()}), \n",
    "                 x=\"Author\", y=\"Count of all-caps words\")\n",
    "\n"
   ]
  },
  {
   "cell_type": "markdown",
   "id": "4cd70f3c",
   "metadata": {
    "papermill": {
     "duration": 0.032069,
     "end_time": "2022-12-04T01:46:51.408024",
     "exception": false,
     "start_time": "2022-12-04T01:46:51.375955",
     "status": "completed"
    },
    "tags": []
   },
   "source": [
    "\n",
    "# <p style=\"background-color:darkred;color:white;font-family:verdana;font-size:120%;text-align:center;border-radius: 15px 50px;\">4. Combining feature extraction in a FeatureUnion</p>\n",
    "\n",
    "In preparation for creating a model pipeline, we can combine the feature engineering steps as a `FeatureUnion`. I previously wrote a [notebook](https://www.kaggle.com/code/nnjjpp/tps-may-2022-using-a-pipeline) demonstrating a pipeline and the `ColumnTransformer`. The main reason for setting up a pipeline here is so that we can apply exactly the same feature engineering and preprocessing steps to the training and test dataset without rewriting code. Briefly,\n",
    "\n",
    "- A [Pipeline](https://scikit-learn.org/stable/modules/generated/sklearn.pipeline.Pipeline.html) combines several steps (feature engineering, preprocessing, modelling) into one class so we can run everything with just one call to `fit`, and just as easily get predictions, scoring, etc.,\n",
    "- A [ColumnTransformer](https://scikit-learn.org/stable/modules/generated/sklearn.compose.ColumnTransformer.html) combines several different column transformations operating on different columns (e.g. we may want to scale a particular numerical variable, and one-hot encode a categorical variable),\n",
    "- A [FeatureUnion](https://scikit-learn.org/stable/modules/generated/sklearn.pipeline.FeatureUnion.html) creates several features from consecutive passes through the dataset. Each transformer in a `FeatureUnion` operates on all columns of the dataset, whereas each transformer in a `ColumnTransformer` operates on a different column (or set of columns). \n",
    "\n",
    "Since we are engineering different features from the one column (i.e. the 'text' column), we initially need a `FeatureUnion`. "
   ]
  },
  {
   "cell_type": "code",
   "execution_count": 37,
   "id": "fcdaa355",
   "metadata": {
    "execution": {
     "iopub.execute_input": "2022-12-04T01:46:51.474624Z",
     "iopub.status.busy": "2022-12-04T01:46:51.473975Z",
     "iopub.status.idle": "2022-12-04T01:46:51.526122Z",
     "shell.execute_reply": "2022-12-04T01:46:51.524921Z"
    },
    "papermill": {
     "duration": 0.089562,
     "end_time": "2022-12-04T01:46:51.528682",
     "exception": false,
     "start_time": "2022-12-04T01:46:51.439120",
     "status": "completed"
    },
    "tags": []
   },
   "outputs": [
    {
     "data": {
      "text/html": [
       "<style>#sk-3f9d5931-b0a8-4cbb-ba1f-176dec0ce2d3 {color: black;background-color: white;}#sk-3f9d5931-b0a8-4cbb-ba1f-176dec0ce2d3 pre{padding: 0;}#sk-3f9d5931-b0a8-4cbb-ba1f-176dec0ce2d3 div.sk-toggleable {background-color: white;}#sk-3f9d5931-b0a8-4cbb-ba1f-176dec0ce2d3 label.sk-toggleable__label {cursor: pointer;display: block;width: 100%;margin-bottom: 0;padding: 0.3em;box-sizing: border-box;text-align: center;}#sk-3f9d5931-b0a8-4cbb-ba1f-176dec0ce2d3 label.sk-toggleable__label-arrow:before {content: \"▸\";float: left;margin-right: 0.25em;color: #696969;}#sk-3f9d5931-b0a8-4cbb-ba1f-176dec0ce2d3 label.sk-toggleable__label-arrow:hover:before {color: black;}#sk-3f9d5931-b0a8-4cbb-ba1f-176dec0ce2d3 div.sk-estimator:hover label.sk-toggleable__label-arrow:before {color: black;}#sk-3f9d5931-b0a8-4cbb-ba1f-176dec0ce2d3 div.sk-toggleable__content {max-height: 0;max-width: 0;overflow: hidden;text-align: left;background-color: #f0f8ff;}#sk-3f9d5931-b0a8-4cbb-ba1f-176dec0ce2d3 div.sk-toggleable__content pre {margin: 0.2em;color: black;border-radius: 0.25em;background-color: #f0f8ff;}#sk-3f9d5931-b0a8-4cbb-ba1f-176dec0ce2d3 input.sk-toggleable__control:checked~div.sk-toggleable__content {max-height: 200px;max-width: 100%;overflow: auto;}#sk-3f9d5931-b0a8-4cbb-ba1f-176dec0ce2d3 input.sk-toggleable__control:checked~label.sk-toggleable__label-arrow:before {content: \"▾\";}#sk-3f9d5931-b0a8-4cbb-ba1f-176dec0ce2d3 div.sk-estimator input.sk-toggleable__control:checked~label.sk-toggleable__label {background-color: #d4ebff;}#sk-3f9d5931-b0a8-4cbb-ba1f-176dec0ce2d3 div.sk-label input.sk-toggleable__control:checked~label.sk-toggleable__label {background-color: #d4ebff;}#sk-3f9d5931-b0a8-4cbb-ba1f-176dec0ce2d3 input.sk-hidden--visually {border: 0;clip: rect(1px 1px 1px 1px);clip: rect(1px, 1px, 1px, 1px);height: 1px;margin: -1px;overflow: hidden;padding: 0;position: absolute;width: 1px;}#sk-3f9d5931-b0a8-4cbb-ba1f-176dec0ce2d3 div.sk-estimator {font-family: monospace;background-color: #f0f8ff;border: 1px dotted black;border-radius: 0.25em;box-sizing: border-box;margin-bottom: 0.5em;}#sk-3f9d5931-b0a8-4cbb-ba1f-176dec0ce2d3 div.sk-estimator:hover {background-color: #d4ebff;}#sk-3f9d5931-b0a8-4cbb-ba1f-176dec0ce2d3 div.sk-parallel-item::after {content: \"\";width: 100%;border-bottom: 1px solid gray;flex-grow: 1;}#sk-3f9d5931-b0a8-4cbb-ba1f-176dec0ce2d3 div.sk-label:hover label.sk-toggleable__label {background-color: #d4ebff;}#sk-3f9d5931-b0a8-4cbb-ba1f-176dec0ce2d3 div.sk-serial::before {content: \"\";position: absolute;border-left: 1px solid gray;box-sizing: border-box;top: 2em;bottom: 0;left: 50%;}#sk-3f9d5931-b0a8-4cbb-ba1f-176dec0ce2d3 div.sk-serial {display: flex;flex-direction: column;align-items: center;background-color: white;padding-right: 0.2em;padding-left: 0.2em;}#sk-3f9d5931-b0a8-4cbb-ba1f-176dec0ce2d3 div.sk-item {z-index: 1;}#sk-3f9d5931-b0a8-4cbb-ba1f-176dec0ce2d3 div.sk-parallel {display: flex;align-items: stretch;justify-content: center;background-color: white;}#sk-3f9d5931-b0a8-4cbb-ba1f-176dec0ce2d3 div.sk-parallel::before {content: \"\";position: absolute;border-left: 1px solid gray;box-sizing: border-box;top: 2em;bottom: 0;left: 50%;}#sk-3f9d5931-b0a8-4cbb-ba1f-176dec0ce2d3 div.sk-parallel-item {display: flex;flex-direction: column;position: relative;background-color: white;}#sk-3f9d5931-b0a8-4cbb-ba1f-176dec0ce2d3 div.sk-parallel-item:first-child::after {align-self: flex-end;width: 50%;}#sk-3f9d5931-b0a8-4cbb-ba1f-176dec0ce2d3 div.sk-parallel-item:last-child::after {align-self: flex-start;width: 50%;}#sk-3f9d5931-b0a8-4cbb-ba1f-176dec0ce2d3 div.sk-parallel-item:only-child::after {width: 0;}#sk-3f9d5931-b0a8-4cbb-ba1f-176dec0ce2d3 div.sk-dashed-wrapped {border: 1px dashed gray;margin: 0 0.4em 0.5em 0.4em;box-sizing: border-box;padding-bottom: 0.4em;background-color: white;position: relative;}#sk-3f9d5931-b0a8-4cbb-ba1f-176dec0ce2d3 div.sk-label label {font-family: monospace;font-weight: bold;background-color: white;display: inline-block;line-height: 1.2em;}#sk-3f9d5931-b0a8-4cbb-ba1f-176dec0ce2d3 div.sk-label-container {position: relative;z-index: 2;text-align: center;}#sk-3f9d5931-b0a8-4cbb-ba1f-176dec0ce2d3 div.sk-container {/* jupyter's `normalize.less` sets `[hidden] { display: none; }` but bootstrap.min.css set `[hidden] { display: none !important; }` so we also need the `!important` here to be able to override the default hidden behavior on the sphinx rendered scikit-learn.org. See: https://github.com/scikit-learn/scikit-learn/issues/21755 */display: inline-block !important;position: relative;}#sk-3f9d5931-b0a8-4cbb-ba1f-176dec0ce2d3 div.sk-text-repr-fallback {display: none;}</style><div id=\"sk-3f9d5931-b0a8-4cbb-ba1f-176dec0ce2d3\" class=\"sk-top-container\"><div class=\"sk-text-repr-fallback\"><pre>FeatureUnion(transformer_list=[(&#x27;text_length&#x27;, TextLength()),\n",
       "                               (&#x27;punctuation_proportion&#x27;,\n",
       "                                CountPunctuationProp()),\n",
       "                               (&#x27;semicolon_count&#x27;, CountSemicolons()),\n",
       "                               (&#x27;std_word_length&#x27;, StdWordLength()),\n",
       "                               (&#x27;stopwords_proportion&#x27;,\n",
       "                                CountStopsProp(stopwords={&#x27;a&#x27;, &#x27;about&#x27;, &#x27;above&#x27;,\n",
       "                                                          &#x27;after&#x27;, &#x27;again&#x27;,\n",
       "                                                          &#x27;against&#x27;, &#x27;ain&#x27;,\n",
       "                                                          &#x27;all&#x27;, &#x27;am&#x27;, &#x27;an&#x27;,\n",
       "                                                          &#x27;and&#x27;, &#x27;any&#x27;, &#x27;are&#x27;,\n",
       "                                                          &#x27;aren&#x27;, &quot;aren&#x27;t&quot;,\n",
       "                                                          &#x27;as&#x27;, &#x27;at&#x27;, &#x27;be&#x27;,\n",
       "                                                          &#x27;because&#x27;, &#x27;been&#x27;,\n",
       "                                                          &#x27;before&#x27;, &#x27;being&#x27;,\n",
       "                                                          &#x27;below&#x27;, &#x27;between&#x27;,\n",
       "                                                          &#x27;both&#x27;, &#x27;but&#x27;, &#x27;by&#x27;,\n",
       "                                                          &#x27;can&#x27;, &#x27;couldn&#x27;,\n",
       "                                                          &quot;couldn&#x27;t&quot;, ...})),\n",
       "                               (&#x27;feminine_stopwords_proportion&#x27;,\n",
       "                                CountStopsProp(stopwords=[&#x27;her&#x27;, &#x27;hers&#x27;,\n",
       "                                                          &#x27;herself&#x27;, &#x27;she&#x27;,\n",
       "                                                          &quot;she&#x27;s&quot;])),\n",
       "                               (&#x27;allcaps_count&#x27;, CountAllcaps())])</pre><b>Please rerun this cell to show the HTML repr or trust the notebook.</b></div><div class=\"sk-container\" hidden><div class=\"sk-item sk-dashed-wrapped\"><div class=\"sk-label-container\"><div class=\"sk-label sk-toggleable\"><input class=\"sk-toggleable__control sk-hidden--visually\" id=\"6e5f8e8c-1875-47eb-a402-b4732a15b799\" type=\"checkbox\" ><label for=\"6e5f8e8c-1875-47eb-a402-b4732a15b799\" class=\"sk-toggleable__label sk-toggleable__label-arrow\">FeatureUnion</label><div class=\"sk-toggleable__content\"><pre>FeatureUnion(transformer_list=[(&#x27;text_length&#x27;, TextLength()),\n",
       "                               (&#x27;punctuation_proportion&#x27;,\n",
       "                                CountPunctuationProp()),\n",
       "                               (&#x27;semicolon_count&#x27;, CountSemicolons()),\n",
       "                               (&#x27;std_word_length&#x27;, StdWordLength()),\n",
       "                               (&#x27;stopwords_proportion&#x27;,\n",
       "                                CountStopsProp(stopwords={&#x27;a&#x27;, &#x27;about&#x27;, &#x27;above&#x27;,\n",
       "                                                          &#x27;after&#x27;, &#x27;again&#x27;,\n",
       "                                                          &#x27;against&#x27;, &#x27;ain&#x27;,\n",
       "                                                          &#x27;all&#x27;, &#x27;am&#x27;, &#x27;an&#x27;,\n",
       "                                                          &#x27;and&#x27;, &#x27;any&#x27;, &#x27;are&#x27;,\n",
       "                                                          &#x27;aren&#x27;, &quot;aren&#x27;t&quot;,\n",
       "                                                          &#x27;as&#x27;, &#x27;at&#x27;, &#x27;be&#x27;,\n",
       "                                                          &#x27;because&#x27;, &#x27;been&#x27;,\n",
       "                                                          &#x27;before&#x27;, &#x27;being&#x27;,\n",
       "                                                          &#x27;below&#x27;, &#x27;between&#x27;,\n",
       "                                                          &#x27;both&#x27;, &#x27;but&#x27;, &#x27;by&#x27;,\n",
       "                                                          &#x27;can&#x27;, &#x27;couldn&#x27;,\n",
       "                                                          &quot;couldn&#x27;t&quot;, ...})),\n",
       "                               (&#x27;feminine_stopwords_proportion&#x27;,\n",
       "                                CountStopsProp(stopwords=[&#x27;her&#x27;, &#x27;hers&#x27;,\n",
       "                                                          &#x27;herself&#x27;, &#x27;she&#x27;,\n",
       "                                                          &quot;she&#x27;s&quot;])),\n",
       "                               (&#x27;allcaps_count&#x27;, CountAllcaps())])</pre></div></div></div><div class=\"sk-parallel\"><div class=\"sk-parallel-item\"><div class=\"sk-item\"><div class=\"sk-label-container\"><div class=\"sk-label sk-toggleable\"><label>text_length</label></div></div><div class=\"sk-serial\"><div class=\"sk-item\"><div class=\"sk-estimator sk-toggleable\"><input class=\"sk-toggleable__control sk-hidden--visually\" id=\"00330ea9-22d3-4456-911b-feb2d5e4c718\" type=\"checkbox\" ><label for=\"00330ea9-22d3-4456-911b-feb2d5e4c718\" class=\"sk-toggleable__label sk-toggleable__label-arrow\">TextLength</label><div class=\"sk-toggleable__content\"><pre>TextLength()</pre></div></div></div></div></div></div><div class=\"sk-parallel-item\"><div class=\"sk-item\"><div class=\"sk-label-container\"><div class=\"sk-label sk-toggleable\"><label>punctuation_proportion</label></div></div><div class=\"sk-serial\"><div class=\"sk-item\"><div class=\"sk-estimator sk-toggleable\"><input class=\"sk-toggleable__control sk-hidden--visually\" id=\"d74b2750-ad3f-4ff6-bb34-1cbd80ab36af\" type=\"checkbox\" ><label for=\"d74b2750-ad3f-4ff6-bb34-1cbd80ab36af\" class=\"sk-toggleable__label sk-toggleable__label-arrow\">CountPunctuationProp</label><div class=\"sk-toggleable__content\"><pre>CountPunctuationProp()</pre></div></div></div></div></div></div><div class=\"sk-parallel-item\"><div class=\"sk-item\"><div class=\"sk-label-container\"><div class=\"sk-label sk-toggleable\"><label>semicolon_count</label></div></div><div class=\"sk-serial\"><div class=\"sk-item\"><div class=\"sk-estimator sk-toggleable\"><input class=\"sk-toggleable__control sk-hidden--visually\" id=\"4edfdcf4-6ae1-4ef7-9811-00248e94d36b\" type=\"checkbox\" ><label for=\"4edfdcf4-6ae1-4ef7-9811-00248e94d36b\" class=\"sk-toggleable__label sk-toggleable__label-arrow\">CountSemicolons</label><div class=\"sk-toggleable__content\"><pre>CountSemicolons()</pre></div></div></div></div></div></div><div class=\"sk-parallel-item\"><div class=\"sk-item\"><div class=\"sk-label-container\"><div class=\"sk-label sk-toggleable\"><label>std_word_length</label></div></div><div class=\"sk-serial\"><div class=\"sk-item\"><div class=\"sk-estimator sk-toggleable\"><input class=\"sk-toggleable__control sk-hidden--visually\" id=\"078c76d0-55da-457f-b3bc-7a136734631a\" type=\"checkbox\" ><label for=\"078c76d0-55da-457f-b3bc-7a136734631a\" class=\"sk-toggleable__label sk-toggleable__label-arrow\">StdWordLength</label><div class=\"sk-toggleable__content\"><pre>StdWordLength()</pre></div></div></div></div></div></div><div class=\"sk-parallel-item\"><div class=\"sk-item\"><div class=\"sk-label-container\"><div class=\"sk-label sk-toggleable\"><label>stopwords_proportion</label></div></div><div class=\"sk-serial\"><div class=\"sk-item\"><div class=\"sk-estimator sk-toggleable\"><input class=\"sk-toggleable__control sk-hidden--visually\" id=\"abd0903f-4ebc-42de-a76c-ba8848320c26\" type=\"checkbox\" ><label for=\"abd0903f-4ebc-42de-a76c-ba8848320c26\" class=\"sk-toggleable__label sk-toggleable__label-arrow\">CountStopsProp</label><div class=\"sk-toggleable__content\"><pre>CountStopsProp(stopwords={&#x27;a&#x27;, &#x27;about&#x27;, &#x27;above&#x27;, &#x27;after&#x27;, &#x27;again&#x27;, &#x27;against&#x27;,\n",
       "                          &#x27;ain&#x27;, &#x27;all&#x27;, &#x27;am&#x27;, &#x27;an&#x27;, &#x27;and&#x27;, &#x27;any&#x27;, &#x27;are&#x27;, &#x27;aren&#x27;,\n",
       "                          &quot;aren&#x27;t&quot;, &#x27;as&#x27;, &#x27;at&#x27;, &#x27;be&#x27;, &#x27;because&#x27;, &#x27;been&#x27;,\n",
       "                          &#x27;before&#x27;, &#x27;being&#x27;, &#x27;below&#x27;, &#x27;between&#x27;, &#x27;both&#x27;, &#x27;but&#x27;,\n",
       "                          &#x27;by&#x27;, &#x27;can&#x27;, &#x27;couldn&#x27;, &quot;couldn&#x27;t&quot;, ...})</pre></div></div></div></div></div></div><div class=\"sk-parallel-item\"><div class=\"sk-item\"><div class=\"sk-label-container\"><div class=\"sk-label sk-toggleable\"><label>feminine_stopwords_proportion</label></div></div><div class=\"sk-serial\"><div class=\"sk-item\"><div class=\"sk-estimator sk-toggleable\"><input class=\"sk-toggleable__control sk-hidden--visually\" id=\"8fcc7b67-c95b-4959-bcd3-002b44430c10\" type=\"checkbox\" ><label for=\"8fcc7b67-c95b-4959-bcd3-002b44430c10\" class=\"sk-toggleable__label sk-toggleable__label-arrow\">CountStopsProp</label><div class=\"sk-toggleable__content\"><pre>CountStopsProp(stopwords=[&#x27;her&#x27;, &#x27;hers&#x27;, &#x27;herself&#x27;, &#x27;she&#x27;, &quot;she&#x27;s&quot;])</pre></div></div></div></div></div></div><div class=\"sk-parallel-item\"><div class=\"sk-item\"><div class=\"sk-label-container\"><div class=\"sk-label sk-toggleable\"><label>allcaps_count</label></div></div><div class=\"sk-serial\"><div class=\"sk-item\"><div class=\"sk-estimator sk-toggleable\"><input class=\"sk-toggleable__control sk-hidden--visually\" id=\"04df4af1-e9aa-4de3-889d-a0f100e34da5\" type=\"checkbox\" ><label for=\"04df4af1-e9aa-4de3-889d-a0f100e34da5\" class=\"sk-toggleable__label sk-toggleable__label-arrow\">CountAllcaps</label><div class=\"sk-toggleable__content\"><pre>CountAllcaps()</pre></div></div></div></div></div></div></div></div></div></div>"
      ],
      "text/plain": [
       "FeatureUnion(transformer_list=[('text_length', TextLength()),\n",
       "                               ('punctuation_proportion',\n",
       "                                CountPunctuationProp()),\n",
       "                               ('semicolon_count', CountSemicolons()),\n",
       "                               ('std_word_length', StdWordLength()),\n",
       "                               ('stopwords_proportion',\n",
       "                                CountStopsProp(stopwords={'a', 'about', 'above',\n",
       "                                                          'after', 'again',\n",
       "                                                          'against', 'ain',\n",
       "                                                          'all', 'am', 'an',\n",
       "                                                          'and', 'any', 'are',\n",
       "                                                          'aren', \"aren't\",\n",
       "                                                          'as', 'at', 'be',\n",
       "                                                          'because', 'been',\n",
       "                                                          'before', 'being',\n",
       "                                                          'below', 'between',\n",
       "                                                          'both', 'but', 'by',\n",
       "                                                          'can', 'couldn',\n",
       "                                                          \"couldn't\", ...})),\n",
       "                               ('feminine_stopwords_proportion',\n",
       "                                CountStopsProp(stopwords=['her', 'hers',\n",
       "                                                          'herself', 'she',\n",
       "                                                          \"she's\"])),\n",
       "                               ('allcaps_count', CountAllcaps())])"
      ]
     },
     "execution_count": 37,
     "metadata": {},
     "output_type": "execute_result"
    }
   ],
   "source": [
    "from sklearn.pipeline import FeatureUnion\n",
    "StyleExtractor = FeatureUnion([('text_length',TextLength()),\n",
    "                               ('punctuation_proportion', CountPunctuationProp()),\n",
    "                               ('semicolon_count', CountSemicolons()),\n",
    "                               #('mean_word_length', AvWordLength()),\n",
    "                               ('std_word_length',StdWordLength()),\n",
    "                               ('stopwords_proportion', CountStopsProp(eng_stopwords)),\n",
    "                               ('feminine_stopwords_proportion', CountStopsProp(feminine_stopwords)),\n",
    "                               ('allcaps_count', CountAllcaps()),\n",
    "                              ])\n",
    "StyleExtractor"
   ]
  },
  {
   "cell_type": "markdown",
   "id": "80eaa03f",
   "metadata": {
    "papermill": {
     "duration": 0.032527,
     "end_time": "2022-12-04T01:46:51.593016",
     "exception": false,
     "start_time": "2022-12-04T01:46:51.560489",
     "status": "completed"
    },
    "tags": []
   },
   "source": [
    "Let's try it out to make sure it works how we expect:"
   ]
  },
  {
   "cell_type": "code",
   "execution_count": 38,
   "id": "8713f40e",
   "metadata": {
    "execution": {
     "iopub.execute_input": "2022-12-04T01:46:51.660458Z",
     "iopub.status.busy": "2022-12-04T01:46:51.659778Z",
     "iopub.status.idle": "2022-12-04T01:46:51.688773Z",
     "shell.execute_reply": "2022-12-04T01:46:51.687550Z"
    },
    "papermill": {
     "duration": 0.065619,
     "end_time": "2022-12-04T01:46:51.691154",
     "exception": false,
     "start_time": "2022-12-04T01:46:51.625535",
     "status": "completed"
    },
    "tags": []
   },
   "outputs": [
    {
     "data": {
      "text/html": [
       "<div>\n",
       "<style scoped>\n",
       "    .dataframe tbody tr th:only-of-type {\n",
       "        vertical-align: middle;\n",
       "    }\n",
       "\n",
       "    .dataframe tbody tr th {\n",
       "        vertical-align: top;\n",
       "    }\n",
       "\n",
       "    .dataframe thead th {\n",
       "        text-align: right;\n",
       "    }\n",
       "</style>\n",
       "<table border=\"1\" class=\"dataframe\">\n",
       "  <thead>\n",
       "    <tr style=\"text-align: right;\">\n",
       "      <th></th>\n",
       "      <th>author</th>\n",
       "      <th>text</th>\n",
       "      <th>text_length</th>\n",
       "      <th>punctuation_proportion</th>\n",
       "      <th>semicolon_count</th>\n",
       "      <th>std_word_length</th>\n",
       "      <th>stopwords_proportion</th>\n",
       "      <th>feminine_stopwords_proportion</th>\n",
       "      <th>allcaps_count</th>\n",
       "    </tr>\n",
       "  </thead>\n",
       "  <tbody>\n",
       "    <tr>\n",
       "      <th>0</th>\n",
       "      <td>EAP</td>\n",
       "      <td>This process, however, afforded me no means of...</td>\n",
       "      <td>261.0</td>\n",
       "      <td>0.019157</td>\n",
       "      <td>0.0</td>\n",
       "      <td>2.516761</td>\n",
       "      <td>0.088123</td>\n",
       "      <td>0.000000</td>\n",
       "      <td>2.0</td>\n",
       "    </tr>\n",
       "    <tr>\n",
       "      <th>1</th>\n",
       "      <td>HPL</td>\n",
       "      <td>It never once occurred to me that the fumbling...</td>\n",
       "      <td>340.0</td>\n",
       "      <td>0.029412</td>\n",
       "      <td>2.0</td>\n",
       "      <td>2.712805</td>\n",
       "      <td>0.100000</td>\n",
       "      <td>0.000000</td>\n",
       "      <td>4.0</td>\n",
       "    </tr>\n",
       "    <tr>\n",
       "      <th>2</th>\n",
       "      <td>EAP</td>\n",
       "      <td>In his left hand was a gold snuff box, from wh...</td>\n",
       "      <td>173.0</td>\n",
       "      <td>0.023121</td>\n",
       "      <td>0.0</td>\n",
       "      <td>2.889990</td>\n",
       "      <td>0.075145</td>\n",
       "      <td>0.017341</td>\n",
       "      <td>0.0</td>\n",
       "    </tr>\n",
       "    <tr>\n",
       "      <th>3</th>\n",
       "      <td>MWS</td>\n",
       "      <td>How lovely is spring As we looked from Windsor...</td>\n",
       "      <td>270.0</td>\n",
       "      <td>0.025926</td>\n",
       "      <td>0.0</td>\n",
       "      <td>3.088959</td>\n",
       "      <td>0.092593</td>\n",
       "      <td>0.000000</td>\n",
       "      <td>2.0</td>\n",
       "    </tr>\n",
       "    <tr>\n",
       "      <th>4</th>\n",
       "      <td>HPL</td>\n",
       "      <td>Finding nothing else, not even gold, the Super...</td>\n",
       "      <td>305.0</td>\n",
       "      <td>0.029508</td>\n",
       "      <td>1.0</td>\n",
       "      <td>3.082142</td>\n",
       "      <td>0.072131</td>\n",
       "      <td>0.000000</td>\n",
       "      <td>0.0</td>\n",
       "    </tr>\n",
       "    <tr>\n",
       "      <th>5</th>\n",
       "      <td>MWS</td>\n",
       "      <td>A youth passed in solitude, my best years spen...</td>\n",
       "      <td>111.0</td>\n",
       "      <td>0.018018</td>\n",
       "      <td>0.0</td>\n",
       "      <td>2.486243</td>\n",
       "      <td>0.099099</td>\n",
       "      <td>0.000000</td>\n",
       "      <td>0.0</td>\n",
       "    </tr>\n",
       "  </tbody>\n",
       "</table>\n",
       "</div>"
      ],
      "text/plain": [
       "  author                                               text  text_length  \\\n",
       "0    EAP  This process, however, afforded me no means of...        261.0   \n",
       "1    HPL  It never once occurred to me that the fumbling...        340.0   \n",
       "2    EAP  In his left hand was a gold snuff box, from wh...        173.0   \n",
       "3    MWS  How lovely is spring As we looked from Windsor...        270.0   \n",
       "4    HPL  Finding nothing else, not even gold, the Super...        305.0   \n",
       "5    MWS  A youth passed in solitude, my best years spen...        111.0   \n",
       "\n",
       "   punctuation_proportion  semicolon_count  std_word_length  \\\n",
       "0                0.019157              0.0         2.516761   \n",
       "1                0.029412              2.0         2.712805   \n",
       "2                0.023121              0.0         2.889990   \n",
       "3                0.025926              0.0         3.088959   \n",
       "4                0.029508              1.0         3.082142   \n",
       "5                0.018018              0.0         2.486243   \n",
       "\n",
       "   stopwords_proportion  feminine_stopwords_proportion  allcaps_count  \n",
       "0              0.088123                       0.000000            2.0  \n",
       "1              0.100000                       0.000000            4.0  \n",
       "2              0.075145                       0.017341            0.0  \n",
       "3              0.092593                       0.000000            2.0  \n",
       "4              0.072131                       0.000000            0.0  \n",
       "5              0.099099                       0.000000            0.0  "
      ]
     },
     "execution_count": 38,
     "metadata": {},
     "output_type": "execute_result"
    }
   ],
   "source": [
    "data.loc[:5, ['author', 'text']].join(pd.DataFrame(StyleExtractor.transform(data.loc[15:20,:]),\n",
    "                                                    columns = [x[0] for x in StyleExtractor.transformer_list]))\n",
    "             \n"
   ]
  },
  {
   "cell_type": "markdown",
   "id": "188b31cd",
   "metadata": {
    "papermill": {
     "duration": 0.035838,
     "end_time": "2022-12-04T01:46:51.761272",
     "exception": false,
     "start_time": "2022-12-04T01:46:51.725434",
     "status": "completed"
    },
    "tags": []
   },
   "source": [
    "# <p style=\"background-color:darkred;color:white;font-family:verdana;text-align:center;font-size:120%;border-radius: 15px 50px;\">5. Baseline model using style-only features</p>\n",
    "\n",
    "Naive Bayes models are often used for document classification problems, and has been very successful for developing spam filters. Based on Bayes Theorem, such a model calculates the presence or absence of particular words as evidence for different classifications. For example, the word \"bitcoin\" in an email provides fairly strong evidence for an email being spam. Each feature is then applied independently, which makes a Naive Bayes model scalable and very fast to fit and calculate predictions.  Naive Bayes models are surprisingly effective, in spite of their simplicity. I created a [notebook exploring the gaussian Naive Bayes model](https://www.kaggle.com/code/nnjjpp/the-naive-bayes-classifier), which you may find interesting. Multinomial Naive Bayes models are normally used for document classification models over gaussian models since text features are typically count-based features, as we'll see below, whereas gaussian models are based on the assumption that zero evidence occurs at the mean value rather than zero. \n",
    "\n",
    "To get started with any model, we need to encode the author strings as ordinals, i.e. as (0, 1, 2)."
   ]
  },
  {
   "cell_type": "code",
   "execution_count": 39,
   "id": "c146cd32",
   "metadata": {
    "execution": {
     "iopub.execute_input": "2022-12-04T01:46:51.830302Z",
     "iopub.status.busy": "2022-12-04T01:46:51.829828Z",
     "iopub.status.idle": "2022-12-04T01:46:51.842961Z",
     "shell.execute_reply": "2022-12-04T01:46:51.841446Z"
    },
    "papermill": {
     "duration": 0.050642,
     "end_time": "2022-12-04T01:46:51.845630",
     "exception": false,
     "start_time": "2022-12-04T01:46:51.794988",
     "status": "completed"
    },
    "tags": []
   },
   "outputs": [
    {
     "name": "stdout",
     "output_type": "stream",
     "text": [
      "EAP encoded as 0\n",
      "HPL encoded as 1\n",
      "MWS encoded as 2\n"
     ]
    }
   ],
   "source": [
    "from sklearn.preprocessing import LabelEncoder\n",
    "author_encoder = LabelEncoder()\n",
    "author_codes = author_encoder.fit_transform(data['author'])\n",
    "authors012 = list(author_encoder.inverse_transform(range(3)))\n",
    "\n",
    "import itertools as it\n",
    "for encoding in zip(author_encoder.classes_, it.count()):\n",
    "    print(f'{encoding[0]} encoded as {encoding[1]}')"
   ]
  },
  {
   "cell_type": "markdown",
   "id": "5ff3efa4",
   "metadata": {
    "papermill": {
     "duration": 0.03427,
     "end_time": "2022-12-04T01:46:51.912869",
     "exception": false,
     "start_time": "2022-12-04T01:46:51.878599",
     "status": "completed"
    },
    "tags": []
   },
   "source": [
    "## 5.1 Multionmial Naive Bayes\n",
    "\n",
    "For the initial model, let's fit a [mutinomial Naive Bayes model](https://scikit-learn.org/stable/modules/generated/sklearn.naive_bayes.MultinomialNB.html) just to the style-based features:"
   ]
  },
  {
   "cell_type": "code",
   "execution_count": 40,
   "id": "6c8d9183",
   "metadata": {
    "execution": {
     "iopub.execute_input": "2022-12-04T01:46:51.982424Z",
     "iopub.status.busy": "2022-12-04T01:46:51.981465Z",
     "iopub.status.idle": "2022-12-04T01:46:55.862722Z",
     "shell.execute_reply": "2022-12-04T01:46:55.861155Z"
    },
    "papermill": {
     "duration": 3.920983,
     "end_time": "2022-12-04T01:46:55.867148",
     "exception": false,
     "start_time": "2022-12-04T01:46:51.946165",
     "status": "completed"
    },
    "tags": []
   },
   "outputs": [
    {
     "data": {
      "text/plain": [
       "1.0578702934145252"
      ]
     },
     "execution_count": 40,
     "metadata": {},
     "output_type": "execute_result"
    }
   ],
   "source": [
    "from sklearn.pipeline import Pipeline\n",
    "from sklearn.naive_bayes import MultinomialNB\n",
    "\n",
    "mnb_pipe = Pipeline([('style_features', StyleExtractor),\n",
    "                     ('MNB', MultinomialNB())])\n",
    "\n",
    "from sklearn.metrics import log_loss\n",
    "mnb_pipe.fit(data, author_codes)\n",
    "\n",
    "mn_author_probs = mnb_pipe.predict_proba(data)\n",
    "\n",
    "log_loss(author_codes, mn_author_probs)"
   ]
  },
  {
   "cell_type": "code",
   "execution_count": 41,
   "id": "2990702f",
   "metadata": {
    "execution": {
     "iopub.execute_input": "2022-12-04T01:46:55.991784Z",
     "iopub.status.busy": "2022-12-04T01:46:55.991357Z",
     "iopub.status.idle": "2022-12-04T01:47:05.514067Z",
     "shell.execute_reply": "2022-12-04T01:47:05.512164Z"
    },
    "papermill": {
     "duration": 9.560257,
     "end_time": "2022-12-04T01:47:05.517059",
     "exception": false,
     "start_time": "2022-12-04T01:46:55.956802",
     "status": "completed"
    },
    "tags": []
   },
   "outputs": [
    {
     "name": "stdout",
     "output_type": "stream",
     "text": [
      "Cross-validated (3-fold) log-loss error from baseline model: 1.058\n"
     ]
    }
   ],
   "source": [
    "from sklearn.model_selection import cross_validate, StratifiedKFold\n",
    "sfold5 = StratifiedKFold(n_splits = 5,\n",
    "                        shuffle = True,\n",
    "                        random_state = 123)\n",
    "baseline_cv_results = cross_validate(estimator = mnb_pipe,\n",
    "                                     cv = sfold5, \n",
    "                                     scoring = \"neg_log_loss\", \n",
    "                                     return_estimator = True,\n",
    "                                     X = data, y=author_codes)\n",
    "print(f'Cross-validated (3-fold) log-loss error from baseline model: {-np.mean(baseline_cv_results[\"test_score\"]):.3f}')"
   ]
  },
  {
   "cell_type": "markdown",
   "id": "091231e6",
   "metadata": {
    "papermill": {
     "duration": 0.033763,
     "end_time": "2022-12-04T01:47:05.584922",
     "exception": false,
     "start_time": "2022-12-04T01:47:05.551159",
     "status": "completed"
    },
    "tags": []
   },
   "source": [
    "The baseline MNB model with style features does a tiny bit better than the score of 1.09 from the sample submission (which just takes prediction probabilities equal to the observed proportion of authors in the training dataset)."
   ]
  },
  {
   "cell_type": "code",
   "execution_count": 42,
   "id": "6f517061",
   "metadata": {
    "execution": {
     "iopub.execute_input": "2022-12-04T01:47:05.656591Z",
     "iopub.status.busy": "2022-12-04T01:47:05.655888Z",
     "iopub.status.idle": "2022-12-04T01:47:05.863808Z",
     "shell.execute_reply": "2022-12-04T01:47:05.862432Z"
    },
    "papermill": {
     "duration": 0.24786,
     "end_time": "2022-12-04T01:47:05.866921",
     "exception": false,
     "start_time": "2022-12-04T01:47:05.619061",
     "status": "completed"
    },
    "tags": []
   },
   "outputs": [
    {
     "name": "stdout",
     "output_type": "stream",
     "text": [
      "[[6268  603 1029]\n",
      " [4208  497  930]\n",
      " [3830  318 1896]]\n"
     ]
    },
    {
     "data": {
      "image/png": "[encoded data removed]",
      "text/plain": [
       "<Figure size 432x288 with 2 Axes>"
      ]
     },
     "metadata": {
      "needs_background": "light"
     },
     "output_type": "display_data"
    }
   ],
   "source": [
    "from sklearn.metrics import confusion_matrix\n",
    "def plot_confusion_matrix(model_probs):\n",
    "    cm = confusion_matrix(author_codes, np.argmax(model_probs,1))\n",
    "    print(cm)\n",
    "    ax = sns.heatmap(cm,\n",
    "           xticklabels=authors012,\n",
    "           yticklabels=authors012)\n",
    "    _=ax.set_xlabel('Predicted')\n",
    "    _=ax.set_ylabel('Actual')\n",
    "plot_confusion_matrix(mn_author_probs)"
   ]
  },
  {
   "cell_type": "markdown",
   "id": "75d81e2a",
   "metadata": {
    "papermill": {
     "duration": 0.035057,
     "end_time": "2022-12-04T01:47:05.936009",
     "exception": false,
     "start_time": "2022-12-04T01:47:05.900952",
     "status": "completed"
    },
    "tags": []
   },
   "source": [
    "The calibration confusion matrix doesn't look great, and the baseline model basically looks like the sample submission. However, let's have a look at the validation confusion matrix (calculated on the output from `cross_validate()`):"
   ]
  },
  {
   "cell_type": "code",
   "execution_count": 43,
   "id": "1a6b8242",
   "metadata": {
    "execution": {
     "iopub.execute_input": "2022-12-04T01:47:06.007475Z",
     "iopub.status.busy": "2022-12-04T01:47:06.007078Z",
     "iopub.status.idle": "2022-12-04T01:47:08.293062Z",
     "shell.execute_reply": "2022-12-04T01:47:08.291803Z"
    },
    "papermill": {
     "duration": 2.324532,
     "end_time": "2022-12-04T01:47:08.295638",
     "exception": false,
     "start_time": "2022-12-04T01:47:05.971106",
     "status": "completed"
    },
    "tags": []
   },
   "outputs": [
    {
     "name": "stdout",
     "output_type": "stream",
     "text": [
      "Cross-validated confusion matrix: baseline model\n",
      "Fold 1: cv log loss: 1.059\n",
      "Fold 2: cv log loss: 1.058\n",
      "Fold 3: cv log loss: 1.060\n",
      "Fold 4: cv log loss: 1.056\n",
      "Fold 5: cv log loss: 1.059\n",
      "[[6262  612 1026]\n",
      " [4204  496  935]\n",
      " [3830  317 1897]]\n"
     ]
    },
    {
     "data": {
      "image/png": "[encoded data removed]",
      "text/plain": [
       "<Figure size 432x288 with 2 Axes>"
      ]
     },
     "metadata": {
      "needs_background": "light"
     },
     "output_type": "display_data"
    }
   ],
   "source": [
    "def plot_cv_confusion_matrix(cross_validate_output, cv_splitter):\n",
    "    # cross_validate_output is output from cross_validate\n",
    "    # note we need `return_estimator=True`\n",
    "    cv_probs = np.zeros((data.shape[0],3))\n",
    "    for i,xy in enumerate(cv_splitter.split(data, author_codes)):\n",
    "        fold_ix=xy[1]\n",
    "        cv_probs[fold_ix,:] = cross_validate_output['estimator'][i].predict_proba(data.iloc[fold_ix,:])\n",
    "        print(f\"Fold {i+1}: cv log loss: {log_loss(data.iloc[fold_ix,:]['author'],cv_probs[fold_ix,:]):.3f}\")\n",
    "    plot_confusion_matrix(cv_probs)\n",
    "print('Cross-validated confusion matrix: baseline model')\n",
    "plot_cv_confusion_matrix(baseline_cv_results, sfold5)"
   ]
  },
  {
   "cell_type": "markdown",
   "id": "4285ad2d",
   "metadata": {
    "papermill": {
     "duration": 0.034566,
     "end_time": "2022-12-04T01:47:08.364536",
     "exception": false,
     "start_time": "2022-12-04T01:47:08.329970",
     "status": "completed"
    },
    "tags": []
   },
   "source": [
    "There's not too much difference between calibration and validation confusion matrix. Let's see if XGBoost can do any better:\n",
    "\n",
    "## 5.2 XGBoost Classifier\n",
    "\n",
    "[XGBoost](https://xgboost.readthedocs.io/en/stable/python/python_api.html) is pretty much my go-to model these days, and works for pretty much anything."
   ]
  },
  {
   "cell_type": "code",
   "execution_count": 44,
   "id": "c6ecd7c0",
   "metadata": {
    "execution": {
     "iopub.execute_input": "2022-12-04T01:47:08.436533Z",
     "iopub.status.busy": "2022-12-04T01:47:08.436137Z",
     "iopub.status.idle": "2022-12-04T01:47:15.880208Z",
     "shell.execute_reply": "2022-12-04T01:47:15.879064Z"
    },
    "papermill": {
     "duration": 7.484561,
     "end_time": "2022-12-04T01:47:15.883473",
     "exception": false,
     "start_time": "2022-12-04T01:47:08.398912",
     "status": "completed"
    },
    "tags": []
   },
   "outputs": [
    {
     "name": "stdout",
     "output_type": "stream",
     "text": [
      "0.7220088461776396\n"
     ]
    }
   ],
   "source": [
    "from xgboost import XGBClassifier\n",
    "xgb_pipe = Pipeline([('style_features', StyleExtractor),\n",
    "                     ('xgb', XGBClassifier(n_estimators = 100,\n",
    "                                           tree_method = xgboost_tree_method)),])\n",
    "xgb_pipe.fit(data, author_codes)\n",
    "\n",
    "xgb_author_probs = xgb_pipe.predict_proba(data)\n",
    "\n",
    "print(log_loss(author_codes, xgb_author_probs))"
   ]
  },
  {
   "cell_type": "code",
   "execution_count": 45,
   "id": "64f78369",
   "metadata": {
    "execution": {
     "iopub.execute_input": "2022-12-04T01:47:15.957381Z",
     "iopub.status.busy": "2022-12-04T01:47:15.955923Z",
     "iopub.status.idle": "2022-12-04T01:47:40.999411Z",
     "shell.execute_reply": "2022-12-04T01:47:40.998364Z"
    },
    "papermill": {
     "duration": 25.082438,
     "end_time": "2022-12-04T01:47:41.002159",
     "exception": false,
     "start_time": "2022-12-04T01:47:15.919721",
     "status": "completed"
    },
    "tags": []
   },
   "outputs": [
    {
     "name": "stdout",
     "output_type": "stream",
     "text": [
      "Cross-validated (3-fold) log-loss error from XGB baseline model: 0.958\n"
     ]
    }
   ],
   "source": [
    "xgb_baseline_cv_results = cross_validate(estimator = xgb_pipe,\n",
    "                                         cv = sfold5, \n",
    "                                         scoring = \"neg_log_loss\", \n",
    "                                         return_estimator=True,\n",
    "                                         X = data, y=author_codes)\n",
    "print(f'Cross-validated (3-fold) log-loss error from XGB baseline model: {-np.mean(xgb_baseline_cv_results[\"test_score\"]):.3f}')"
   ]
  },
  {
   "cell_type": "code",
   "execution_count": 46,
   "id": "57bc601c",
   "metadata": {
    "execution": {
     "iopub.execute_input": "2022-12-04T01:47:41.076675Z",
     "iopub.status.busy": "2022-12-04T01:47:41.076260Z",
     "iopub.status.idle": "2022-12-04T01:47:43.362478Z",
     "shell.execute_reply": "2022-12-04T01:47:43.361168Z"
    },
    "papermill": {
     "duration": 2.326377,
     "end_time": "2022-12-04T01:47:43.365219",
     "exception": false,
     "start_time": "2022-12-04T01:47:41.038842",
     "status": "completed"
    },
    "tags": []
   },
   "outputs": [
    {
     "name": "stdout",
     "output_type": "stream",
     "text": [
      "Fold 1: cv log loss: 0.960\n",
      "Fold 2: cv log loss: 0.953\n",
      "Fold 3: cv log loss: 0.950\n",
      "Fold 4: cv log loss: 0.951\n",
      "Fold 5: cv log loss: 0.977\n",
      "[[5293 1378 1229]\n",
      " [1827 3099  709]\n",
      " [2585 1215 2244]]\n"
     ]
    },
    {
     "data": {
      "image/png": "[encoded data removed]",
      "text/plain": [
       "<Figure size 432x288 with 2 Axes>"
      ]
     },
     "metadata": {
      "needs_background": "light"
     },
     "output_type": "display_data"
    }
   ],
   "source": [
    "plot_cv_confusion_matrix(xgb_baseline_cv_results, sfold5)"
   ]
  },
  {
   "cell_type": "markdown",
   "id": "a4a0be22",
   "metadata": {
    "papermill": {
     "duration": 0.035822,
     "end_time": "2022-12-04T01:47:43.436525",
     "exception": false,
     "start_time": "2022-12-04T01:47:43.400703",
     "status": "completed"
    },
    "tags": []
   },
   "source": [
    "This looks quite a bit better than the Naive Bayes model, we can also use the XGBoost model to get feature importances, something which is difficult (if not impossible) to do with the NB model."
   ]
  },
  {
   "cell_type": "code",
   "execution_count": 47,
   "id": "b930d9dc",
   "metadata": {
    "execution": {
     "iopub.execute_input": "2022-12-04T01:47:43.510904Z",
     "iopub.status.busy": "2022-12-04T01:47:43.509692Z",
     "iopub.status.idle": "2022-12-04T01:47:43.690193Z",
     "shell.execute_reply": "2022-12-04T01:47:43.689141Z"
    },
    "papermill": {
     "duration": 0.220328,
     "end_time": "2022-12-04T01:47:43.692877",
     "exception": false,
     "start_time": "2022-12-04T01:47:43.472549",
     "status": "completed"
    },
    "tags": []
   },
   "outputs": [
    {
     "data": {
      "image/png": "[encoded data removed]",
      "text/plain": [
       "<Figure size 432x288 with 1 Axes>"
      ]
     },
     "metadata": {
      "needs_background": "light"
     },
     "output_type": "display_data"
    }
   ],
   "source": [
    "\n",
    "_=sns.barplot(y=[x[0] for x in StyleExtractor.transformer_list],\n",
    "            x=xgb_pipe.steps[1][1].feature_importances_)\n"
   ]
  },
  {
   "cell_type": "markdown",
   "id": "c8f2b04a",
   "metadata": {
    "papermill": {
     "duration": 0.03665,
     "end_time": "2022-12-04T01:47:43.767432",
     "exception": false,
     "start_time": "2022-12-04T01:47:43.730782",
     "status": "completed"
    },
    "tags": []
   },
   "source": [
    "Looks like we have engineered a few useful features. Interestingly, the use of semicolons and feminine stop words turned out to be very important features. "
   ]
  },
  {
   "cell_type": "markdown",
   "id": "2fec6a07",
   "metadata": {
    "papermill": {
     "duration": 0.036036,
     "end_time": "2022-12-04T01:47:43.839312",
     "exception": false,
     "start_time": "2022-12-04T01:47:43.803276",
     "status": "completed"
    },
    "tags": []
   },
   "source": [
    "# <p style=\"background-color:darkred;color:white;font-family:verdana;font-size:120%;text-align:center;border-radius: 15px 50px;\">6. Engineering features from words and characters</p>\n",
    "\n",
    "This section describes how to engineer word- and character-based features. In it, I provide examples of Bag Of Words and Term Frequency-Inverse Document Frequency (TF-IDF) vectorization. Those already familiar with this may wish to skip ahead to the next section.\n",
    "\n",
    "## 6.1 Word level feature engineering\n",
    "\n",
    "So far we have engineered features based on things like word length, punctuation and stop-word proportion. The count of feminine stop words was the first attempt to extract information about the actual content of the texts (specifically the hypothesis that MWS would write about women more often that EAP and HPL). \n",
    "\n",
    "Extending this idea, why not take a count of all (or almost all) words in the texts and use this information to identify authors? After all, different authors will be writing about different concepts and probably have favourite words. The two main ways of doing this are Bag-of-Words and TF-IDF. The book \"Feature Engineering for Machine Learning\" By Alice Zheng and Amanda Casari (O'Reilly, 2018) provides a good explanation of these. Essentially:\n",
    "\n",
    "- Bag-of-words feature engineering creates counts of words in each text, and returns a (normally sparse) set of vectors. It's kind of like word-level one hot encoding  but with frequencies.\n",
    "\n",
    "- Term frequency-Inverse document frequency (TF-IDF) vectorization does something similar, but more frequent words are weighted less than rarer words. \n",
    "\n",
    "Normally, stop-words are excluded, punctuation is removed and everthing is converted to lower-case.\n",
    "\n",
    "Let's take a look using a couple of made-up examples:"
   ]
  },
  {
   "cell_type": "code",
   "execution_count": 48,
   "id": "bd583abb",
   "metadata": {
    "execution": {
     "iopub.execute_input": "2022-12-04T01:47:43.913120Z",
     "iopub.status.busy": "2022-12-04T01:47:43.912672Z",
     "iopub.status.idle": "2022-12-04T01:47:43.918303Z",
     "shell.execute_reply": "2022-12-04T01:47:43.917277Z"
    },
    "papermill": {
     "duration": 0.04558,
     "end_time": "2022-12-04T01:47:43.920489",
     "exception": false,
     "start_time": "2022-12-04T01:47:43.874909",
     "status": "completed"
    },
    "tags": []
   },
   "outputs": [],
   "source": [
    "silly_examples = ['Cat on the mat',\n",
    "                  'Mat rat',\n",
    "                  'The cat, the rat and the baseball bat',\n",
    "                  'Cats are OK',\n",
    "                  'Dude, where is my car, cat and fast car',\n",
    "                  'Fast and bulbous',\n",
    "                  'The cat that likes cats loves TV',\n",
    "                  'I don''t know what you are talkin'' about']"
   ]
  },
  {
   "cell_type": "markdown",
   "id": "25cb1a28",
   "metadata": {
    "papermill": {
     "duration": 0.035914,
     "end_time": "2022-12-04T01:47:43.993377",
     "exception": false,
     "start_time": "2022-12-04T01:47:43.957463",
     "status": "completed"
    },
    "tags": []
   },
   "source": [
    "### 6.1.1 Bag of words"
   ]
  },
  {
   "cell_type": "code",
   "execution_count": 49,
   "id": "065196f2",
   "metadata": {
    "execution": {
     "iopub.execute_input": "2022-12-04T01:47:44.068566Z",
     "iopub.status.busy": "2022-12-04T01:47:44.068077Z",
     "iopub.status.idle": "2022-12-04T01:47:44.095209Z",
     "shell.execute_reply": "2022-12-04T01:47:44.093972Z"
    },
    "papermill": {
     "duration": 0.068833,
     "end_time": "2022-12-04T01:47:44.098163",
     "exception": false,
     "start_time": "2022-12-04T01:47:44.029330",
     "status": "completed"
    },
    "tags": []
   },
   "outputs": [
    {
     "data": {
      "text/html": [
       "<div>\n",
       "<style scoped>\n",
       "    .dataframe tbody tr th:only-of-type {\n",
       "        vertical-align: middle;\n",
       "    }\n",
       "\n",
       "    .dataframe tbody tr th {\n",
       "        vertical-align: top;\n",
       "    }\n",
       "\n",
       "    .dataframe thead th {\n",
       "        text-align: right;\n",
       "    }\n",
       "</style>\n",
       "<table border=\"1\" class=\"dataframe\">\n",
       "  <thead>\n",
       "    <tr style=\"text-align: right;\">\n",
       "      <th></th>\n",
       "      <th>baseball</th>\n",
       "      <th>bat</th>\n",
       "      <th>bulbous</th>\n",
       "      <th>car</th>\n",
       "      <th>cat</th>\n",
       "      <th>cats</th>\n",
       "      <th>dont</th>\n",
       "      <th>dude</th>\n",
       "      <th>fast</th>\n",
       "      <th>know</th>\n",
       "      <th>likes</th>\n",
       "      <th>loves</th>\n",
       "      <th>mat</th>\n",
       "      <th>ok</th>\n",
       "      <th>rat</th>\n",
       "      <th>talkin</th>\n",
       "      <th>tv</th>\n",
       "    </tr>\n",
       "  </thead>\n",
       "  <tbody>\n",
       "    <tr>\n",
       "      <th>Cat on the mat</th>\n",
       "      <td>0</td>\n",
       "      <td>0</td>\n",
       "      <td>0</td>\n",
       "      <td>0</td>\n",
       "      <td>1</td>\n",
       "      <td>0</td>\n",
       "      <td>0</td>\n",
       "      <td>0</td>\n",
       "      <td>0</td>\n",
       "      <td>0</td>\n",
       "      <td>0</td>\n",
       "      <td>0</td>\n",
       "      <td>1</td>\n",
       "      <td>0</td>\n",
       "      <td>0</td>\n",
       "      <td>0</td>\n",
       "      <td>0</td>\n",
       "    </tr>\n",
       "    <tr>\n",
       "      <th>Mat rat</th>\n",
       "      <td>0</td>\n",
       "      <td>0</td>\n",
       "      <td>0</td>\n",
       "      <td>0</td>\n",
       "      <td>0</td>\n",
       "      <td>0</td>\n",
       "      <td>0</td>\n",
       "      <td>0</td>\n",
       "      <td>0</td>\n",
       "      <td>0</td>\n",
       "      <td>0</td>\n",
       "      <td>0</td>\n",
       "      <td>1</td>\n",
       "      <td>0</td>\n",
       "      <td>1</td>\n",
       "      <td>0</td>\n",
       "      <td>0</td>\n",
       "    </tr>\n",
       "    <tr>\n",
       "      <th>The cat, the rat and the baseball bat</th>\n",
       "      <td>1</td>\n",
       "      <td>1</td>\n",
       "      <td>0</td>\n",
       "      <td>0</td>\n",
       "      <td>1</td>\n",
       "      <td>0</td>\n",
       "      <td>0</td>\n",
       "      <td>0</td>\n",
       "      <td>0</td>\n",
       "      <td>0</td>\n",
       "      <td>0</td>\n",
       "      <td>0</td>\n",
       "      <td>0</td>\n",
       "      <td>0</td>\n",
       "      <td>1</td>\n",
       "      <td>0</td>\n",
       "      <td>0</td>\n",
       "    </tr>\n",
       "    <tr>\n",
       "      <th>Cats are OK</th>\n",
       "      <td>0</td>\n",
       "      <td>0</td>\n",
       "      <td>0</td>\n",
       "      <td>0</td>\n",
       "      <td>0</td>\n",
       "      <td>1</td>\n",
       "      <td>0</td>\n",
       "      <td>0</td>\n",
       "      <td>0</td>\n",
       "      <td>0</td>\n",
       "      <td>0</td>\n",
       "      <td>0</td>\n",
       "      <td>0</td>\n",
       "      <td>1</td>\n",
       "      <td>0</td>\n",
       "      <td>0</td>\n",
       "      <td>0</td>\n",
       "    </tr>\n",
       "    <tr>\n",
       "      <th>Dude, where is my car, cat and fast car</th>\n",
       "      <td>0</td>\n",
       "      <td>0</td>\n",
       "      <td>0</td>\n",
       "      <td>2</td>\n",
       "      <td>1</td>\n",
       "      <td>0</td>\n",
       "      <td>0</td>\n",
       "      <td>1</td>\n",
       "      <td>1</td>\n",
       "      <td>0</td>\n",
       "      <td>0</td>\n",
       "      <td>0</td>\n",
       "      <td>0</td>\n",
       "      <td>0</td>\n",
       "      <td>0</td>\n",
       "      <td>0</td>\n",
       "      <td>0</td>\n",
       "    </tr>\n",
       "    <tr>\n",
       "      <th>Fast and bulbous</th>\n",
       "      <td>0</td>\n",
       "      <td>0</td>\n",
       "      <td>1</td>\n",
       "      <td>0</td>\n",
       "      <td>0</td>\n",
       "      <td>0</td>\n",
       "      <td>0</td>\n",
       "      <td>0</td>\n",
       "      <td>1</td>\n",
       "      <td>0</td>\n",
       "      <td>0</td>\n",
       "      <td>0</td>\n",
       "      <td>0</td>\n",
       "      <td>0</td>\n",
       "      <td>0</td>\n",
       "      <td>0</td>\n",
       "      <td>0</td>\n",
       "    </tr>\n",
       "    <tr>\n",
       "      <th>The cat that likes cats loves TV</th>\n",
       "      <td>0</td>\n",
       "      <td>0</td>\n",
       "      <td>0</td>\n",
       "      <td>0</td>\n",
       "      <td>1</td>\n",
       "      <td>1</td>\n",
       "      <td>0</td>\n",
       "      <td>0</td>\n",
       "      <td>0</td>\n",
       "      <td>0</td>\n",
       "      <td>1</td>\n",
       "      <td>1</td>\n",
       "      <td>0</td>\n",
       "      <td>0</td>\n",
       "      <td>0</td>\n",
       "      <td>0</td>\n",
       "      <td>1</td>\n",
       "    </tr>\n",
       "    <tr>\n",
       "      <th>I dont know what you are talkin about</th>\n",
       "      <td>0</td>\n",
       "      <td>0</td>\n",
       "      <td>0</td>\n",
       "      <td>0</td>\n",
       "      <td>0</td>\n",
       "      <td>0</td>\n",
       "      <td>1</td>\n",
       "      <td>0</td>\n",
       "      <td>0</td>\n",
       "      <td>1</td>\n",
       "      <td>0</td>\n",
       "      <td>0</td>\n",
       "      <td>0</td>\n",
       "      <td>0</td>\n",
       "      <td>0</td>\n",
       "      <td>1</td>\n",
       "      <td>0</td>\n",
       "    </tr>\n",
       "  </tbody>\n",
       "</table>\n",
       "</div>"
      ],
      "text/plain": [
       "                                         baseball  bat  bulbous  car  cat  \\\n",
       "Cat on the mat                                  0    0        0    0    1   \n",
       "Mat rat                                         0    0        0    0    0   \n",
       "The cat, the rat and the baseball bat           1    1        0    0    1   \n",
       "Cats are OK                                     0    0        0    0    0   \n",
       "Dude, where is my car, cat and fast car         0    0        0    2    1   \n",
       "Fast and bulbous                                0    0        1    0    0   \n",
       "The cat that likes cats loves TV                0    0        0    0    1   \n",
       "I dont know what you are talkin about           0    0        0    0    0   \n",
       "\n",
       "                                         cats  dont  dude  fast  know  likes  \\\n",
       "Cat on the mat                              0     0     0     0     0      0   \n",
       "Mat rat                                     0     0     0     0     0      0   \n",
       "The cat, the rat and the baseball bat       0     0     0     0     0      0   \n",
       "Cats are OK                                 1     0     0     0     0      0   \n",
       "Dude, where is my car, cat and fast car     0     0     1     1     0      0   \n",
       "Fast and bulbous                            0     0     0     1     0      0   \n",
       "The cat that likes cats loves TV            1     0     0     0     0      1   \n",
       "I dont know what you are talkin about       0     1     0     0     1      0   \n",
       "\n",
       "                                         loves  mat  ok  rat  talkin  tv  \n",
       "Cat on the mat                               0    1   0    0       0   0  \n",
       "Mat rat                                      0    1   0    1       0   0  \n",
       "The cat, the rat and the baseball bat        0    0   0    1       0   0  \n",
       "Cats are OK                                  0    0   1    0       0   0  \n",
       "Dude, where is my car, cat and fast car      0    0   0    0       0   0  \n",
       "Fast and bulbous                             0    0   0    0       0   0  \n",
       "The cat that likes cats loves TV             1    0   0    0       0   1  \n",
       "I dont know what you are talkin about        0    0   0    0       1   0  "
      ]
     },
     "execution_count": 49,
     "metadata": {},
     "output_type": "execute_result"
    }
   ],
   "source": [
    "from sklearn.feature_extraction.text import CountVectorizer\n",
    "\n",
    "countVec = CountVectorizer(stop_words='english')\n",
    "bag_of_words = countVec.fit_transform(silly_examples)\n",
    "\n",
    "bow = pd.DataFrame(data=bag_of_words.todense(),index=silly_examples,columns = countVec.get_feature_names_out())\n",
    "bow"
   ]
  },
  {
   "cell_type": "markdown",
   "id": "d36029b7",
   "metadata": {
    "papermill": {
     "duration": 0.036393,
     "end_time": "2022-12-04T01:47:44.171705",
     "exception": false,
     "start_time": "2022-12-04T01:47:44.135312",
     "status": "completed"
    },
    "tags": []
   },
   "source": [
    "The output from `CountVectorizer` contains the count of each word in the vocabulary (essentially every word in the data except for excluded stop words) for each text in the corpus. Note that, as punctuation is removed, \"don't\" becomes \"dont\" which could cause problems in certain instances but is probably OK. Also, \"cat\" and \"cats\" are considered separate words. Depending on the level of detail required, a more sophisticated [approach](https://en.wikipedia.org/wiki/Stemming) (i.e. [stemming](https://stackoverflow.com/questions/45336491/sklearn-feature-extraction-from-text-normalize-text-features-by-merging-plur)) may be useful. I haven't used it but the [NLTK stemming module](https://www.nltk.org/api/nltk.stem.html) looks good for this."
   ]
  },
  {
   "cell_type": "code",
   "execution_count": 50,
   "id": "55a316d8",
   "metadata": {
    "execution": {
     "iopub.execute_input": "2022-12-04T01:47:44.245399Z",
     "iopub.status.busy": "2022-12-04T01:47:44.245002Z",
     "iopub.status.idle": "2022-12-04T01:47:44.628433Z",
     "shell.execute_reply": "2022-12-04T01:47:44.626912Z"
    },
    "papermill": {
     "duration": 0.423339,
     "end_time": "2022-12-04T01:47:44.631080",
     "exception": false,
     "start_time": "2022-12-04T01:47:44.207741",
     "status": "completed"
    },
    "tags": []
   },
   "outputs": [
    {
     "data": {
      "image/png": "[encoded data removed]",
      "text/plain": [
       "<Figure size 432x288 with 2 Axes>"
      ]
     },
     "metadata": {
      "needs_background": "light"
     },
     "output_type": "display_data"
    }
   ],
   "source": [
    "_=sns.heatmap(bow)"
   ]
  },
  {
   "cell_type": "markdown",
   "id": "021b428f",
   "metadata": {
    "papermill": {
     "duration": 0.036455,
     "end_time": "2022-12-04T01:47:44.704569",
     "exception": false,
     "start_time": "2022-12-04T01:47:44.668114",
     "status": "completed"
    },
    "tags": []
   },
   "source": [
    "### 6.1.2 TF-IDF (Text frequency-inverse document frequency)\n",
    "\n",
    "Bag of words is useful, but suffers from a particular problem. When every text is about cats, the occurrence of the word \"cat\" doesn't really provide much information as every author is going to be using the word \"cat\" a lot. More information should be present if an author uses a relatively rare word a lot compared to frequent occurrences of common words. Specifically, it would be good to weight less frequent words more. Enter [TF-IDF](https://en.wikipedia.org/wiki/Tf%E2%80%93idf). Essentially, the TF-IDF score of a particular word in a text is given by:\n",
    "\n",
    "$$ \\mathrm{TFIDF}(\\text{word}; \\text{document}) = \\frac{\\text{frequency of word in document}}{\\text{relative rareness of word across all documents}}$$\n",
    "\n",
    "There are some subtleties involved, and different ways to calculate these. "
   ]
  },
  {
   "cell_type": "code",
   "execution_count": 51,
   "id": "6560f437",
   "metadata": {
    "execution": {
     "iopub.execute_input": "2022-12-04T01:47:44.783817Z",
     "iopub.status.busy": "2022-12-04T01:47:44.783025Z",
     "iopub.status.idle": "2022-12-04T01:47:44.818578Z",
     "shell.execute_reply": "2022-12-04T01:47:44.817282Z"
    },
    "papermill": {
     "duration": 0.078089,
     "end_time": "2022-12-04T01:47:44.821100",
     "exception": false,
     "start_time": "2022-12-04T01:47:44.743011",
     "status": "completed"
    },
    "tags": []
   },
   "outputs": [
    {
     "data": {
      "text/html": [
       "<div>\n",
       "<style scoped>\n",
       "    .dataframe tbody tr th:only-of-type {\n",
       "        vertical-align: middle;\n",
       "    }\n",
       "\n",
       "    .dataframe tbody tr th {\n",
       "        vertical-align: top;\n",
       "    }\n",
       "\n",
       "    .dataframe thead th {\n",
       "        text-align: right;\n",
       "    }\n",
       "</style>\n",
       "<table border=\"1\" class=\"dataframe\">\n",
       "  <thead>\n",
       "    <tr style=\"text-align: right;\">\n",
       "      <th></th>\n",
       "      <th>baseball</th>\n",
       "      <th>bat</th>\n",
       "      <th>bulbous</th>\n",
       "      <th>car</th>\n",
       "      <th>cat</th>\n",
       "      <th>cats</th>\n",
       "      <th>dont</th>\n",
       "      <th>dude</th>\n",
       "      <th>fast</th>\n",
       "      <th>know</th>\n",
       "      <th>likes</th>\n",
       "      <th>loves</th>\n",
       "      <th>mat</th>\n",
       "      <th>ok</th>\n",
       "      <th>rat</th>\n",
       "      <th>talkin</th>\n",
       "      <th>tv</th>\n",
       "    </tr>\n",
       "  </thead>\n",
       "  <tbody>\n",
       "    <tr>\n",
       "      <th>Cat on the mat</th>\n",
       "      <td>0.000000</td>\n",
       "      <td>0.000000</td>\n",
       "      <td>0.00000</td>\n",
       "      <td>0.000000</td>\n",
       "      <td>0.603358</td>\n",
       "      <td>0.000000</td>\n",
       "      <td>0.00000</td>\n",
       "      <td>0.000000</td>\n",
       "      <td>0.000000</td>\n",
       "      <td>0.00000</td>\n",
       "      <td>0.000000</td>\n",
       "      <td>0.000000</td>\n",
       "      <td>0.797471</td>\n",
       "      <td>0.00000</td>\n",
       "      <td>0.000000</td>\n",
       "      <td>0.00000</td>\n",
       "      <td>0.000000</td>\n",
       "    </tr>\n",
       "    <tr>\n",
       "      <th>Mat rat</th>\n",
       "      <td>0.000000</td>\n",
       "      <td>0.000000</td>\n",
       "      <td>0.00000</td>\n",
       "      <td>0.000000</td>\n",
       "      <td>0.000000</td>\n",
       "      <td>0.000000</td>\n",
       "      <td>0.00000</td>\n",
       "      <td>0.000000</td>\n",
       "      <td>0.000000</td>\n",
       "      <td>0.00000</td>\n",
       "      <td>0.000000</td>\n",
       "      <td>0.000000</td>\n",
       "      <td>0.707107</td>\n",
       "      <td>0.00000</td>\n",
       "      <td>0.707107</td>\n",
       "      <td>0.00000</td>\n",
       "      <td>0.000000</td>\n",
       "    </tr>\n",
       "    <tr>\n",
       "      <th>The cat, the rat and the baseball bat</th>\n",
       "      <td>0.567556</td>\n",
       "      <td>0.567556</td>\n",
       "      <td>0.00000</td>\n",
       "      <td>0.000000</td>\n",
       "      <td>0.359876</td>\n",
       "      <td>0.000000</td>\n",
       "      <td>0.00000</td>\n",
       "      <td>0.000000</td>\n",
       "      <td>0.000000</td>\n",
       "      <td>0.00000</td>\n",
       "      <td>0.000000</td>\n",
       "      <td>0.000000</td>\n",
       "      <td>0.000000</td>\n",
       "      <td>0.00000</td>\n",
       "      <td>0.475656</td>\n",
       "      <td>0.00000</td>\n",
       "      <td>0.000000</td>\n",
       "    </tr>\n",
       "    <tr>\n",
       "      <th>Cats are OK</th>\n",
       "      <td>0.000000</td>\n",
       "      <td>0.000000</td>\n",
       "      <td>0.00000</td>\n",
       "      <td>0.000000</td>\n",
       "      <td>0.000000</td>\n",
       "      <td>0.642328</td>\n",
       "      <td>0.00000</td>\n",
       "      <td>0.000000</td>\n",
       "      <td>0.000000</td>\n",
       "      <td>0.00000</td>\n",
       "      <td>0.000000</td>\n",
       "      <td>0.000000</td>\n",
       "      <td>0.000000</td>\n",
       "      <td>0.76643</td>\n",
       "      <td>0.000000</td>\n",
       "      <td>0.00000</td>\n",
       "      <td>0.000000</td>\n",
       "    </tr>\n",
       "    <tr>\n",
       "      <th>Dude, where is my car, cat and fast car</th>\n",
       "      <td>0.000000</td>\n",
       "      <td>0.000000</td>\n",
       "      <td>0.00000</td>\n",
       "      <td>0.809482</td>\n",
       "      <td>0.256638</td>\n",
       "      <td>0.000000</td>\n",
       "      <td>0.00000</td>\n",
       "      <td>0.404741</td>\n",
       "      <td>0.339205</td>\n",
       "      <td>0.00000</td>\n",
       "      <td>0.000000</td>\n",
       "      <td>0.000000</td>\n",
       "      <td>0.000000</td>\n",
       "      <td>0.00000</td>\n",
       "      <td>0.000000</td>\n",
       "      <td>0.00000</td>\n",
       "      <td>0.000000</td>\n",
       "    </tr>\n",
       "    <tr>\n",
       "      <th>Fast and bulbous</th>\n",
       "      <td>0.000000</td>\n",
       "      <td>0.000000</td>\n",
       "      <td>0.76643</td>\n",
       "      <td>0.000000</td>\n",
       "      <td>0.000000</td>\n",
       "      <td>0.000000</td>\n",
       "      <td>0.00000</td>\n",
       "      <td>0.000000</td>\n",
       "      <td>0.642328</td>\n",
       "      <td>0.00000</td>\n",
       "      <td>0.000000</td>\n",
       "      <td>0.000000</td>\n",
       "      <td>0.000000</td>\n",
       "      <td>0.00000</td>\n",
       "      <td>0.000000</td>\n",
       "      <td>0.00000</td>\n",
       "      <td>0.000000</td>\n",
       "    </tr>\n",
       "    <tr>\n",
       "      <th>The cat that likes cats loves TV</th>\n",
       "      <td>0.000000</td>\n",
       "      <td>0.000000</td>\n",
       "      <td>0.00000</td>\n",
       "      <td>0.000000</td>\n",
       "      <td>0.312981</td>\n",
       "      <td>0.413674</td>\n",
       "      <td>0.00000</td>\n",
       "      <td>0.000000</td>\n",
       "      <td>0.000000</td>\n",
       "      <td>0.00000</td>\n",
       "      <td>0.493598</td>\n",
       "      <td>0.493598</td>\n",
       "      <td>0.000000</td>\n",
       "      <td>0.00000</td>\n",
       "      <td>0.000000</td>\n",
       "      <td>0.00000</td>\n",
       "      <td>0.493598</td>\n",
       "    </tr>\n",
       "    <tr>\n",
       "      <th>I dont know what you are talkin about</th>\n",
       "      <td>0.000000</td>\n",
       "      <td>0.000000</td>\n",
       "      <td>0.00000</td>\n",
       "      <td>0.000000</td>\n",
       "      <td>0.000000</td>\n",
       "      <td>0.000000</td>\n",
       "      <td>0.57735</td>\n",
       "      <td>0.000000</td>\n",
       "      <td>0.000000</td>\n",
       "      <td>0.57735</td>\n",
       "      <td>0.000000</td>\n",
       "      <td>0.000000</td>\n",
       "      <td>0.000000</td>\n",
       "      <td>0.00000</td>\n",
       "      <td>0.000000</td>\n",
       "      <td>0.57735</td>\n",
       "      <td>0.000000</td>\n",
       "    </tr>\n",
       "  </tbody>\n",
       "</table>\n",
       "</div>"
      ],
      "text/plain": [
       "                                         baseball       bat  bulbous  \\\n",
       "Cat on the mat                           0.000000  0.000000  0.00000   \n",
       "Mat rat                                  0.000000  0.000000  0.00000   \n",
       "The cat, the rat and the baseball bat    0.567556  0.567556  0.00000   \n",
       "Cats are OK                              0.000000  0.000000  0.00000   \n",
       "Dude, where is my car, cat and fast car  0.000000  0.000000  0.00000   \n",
       "Fast and bulbous                         0.000000  0.000000  0.76643   \n",
       "The cat that likes cats loves TV         0.000000  0.000000  0.00000   \n",
       "I dont know what you are talkin about    0.000000  0.000000  0.00000   \n",
       "\n",
       "                                              car       cat      cats  \\\n",
       "Cat on the mat                           0.000000  0.603358  0.000000   \n",
       "Mat rat                                  0.000000  0.000000  0.000000   \n",
       "The cat, the rat and the baseball bat    0.000000  0.359876  0.000000   \n",
       "Cats are OK                              0.000000  0.000000  0.642328   \n",
       "Dude, where is my car, cat and fast car  0.809482  0.256638  0.000000   \n",
       "Fast and bulbous                         0.000000  0.000000  0.000000   \n",
       "The cat that likes cats loves TV         0.000000  0.312981  0.413674   \n",
       "I dont know what you are talkin about    0.000000  0.000000  0.000000   \n",
       "\n",
       "                                            dont      dude      fast     know  \\\n",
       "Cat on the mat                           0.00000  0.000000  0.000000  0.00000   \n",
       "Mat rat                                  0.00000  0.000000  0.000000  0.00000   \n",
       "The cat, the rat and the baseball bat    0.00000  0.000000  0.000000  0.00000   \n",
       "Cats are OK                              0.00000  0.000000  0.000000  0.00000   \n",
       "Dude, where is my car, cat and fast car  0.00000  0.404741  0.339205  0.00000   \n",
       "Fast and bulbous                         0.00000  0.000000  0.642328  0.00000   \n",
       "The cat that likes cats loves TV         0.00000  0.000000  0.000000  0.00000   \n",
       "I dont know what you are talkin about    0.57735  0.000000  0.000000  0.57735   \n",
       "\n",
       "                                            likes     loves       mat  \\\n",
       "Cat on the mat                           0.000000  0.000000  0.797471   \n",
       "Mat rat                                  0.000000  0.000000  0.707107   \n",
       "The cat, the rat and the baseball bat    0.000000  0.000000  0.000000   \n",
       "Cats are OK                              0.000000  0.000000  0.000000   \n",
       "Dude, where is my car, cat and fast car  0.000000  0.000000  0.000000   \n",
       "Fast and bulbous                         0.000000  0.000000  0.000000   \n",
       "The cat that likes cats loves TV         0.493598  0.493598  0.000000   \n",
       "I dont know what you are talkin about    0.000000  0.000000  0.000000   \n",
       "\n",
       "                                              ok       rat   talkin        tv  \n",
       "Cat on the mat                           0.00000  0.000000  0.00000  0.000000  \n",
       "Mat rat                                  0.00000  0.707107  0.00000  0.000000  \n",
       "The cat, the rat and the baseball bat    0.00000  0.475656  0.00000  0.000000  \n",
       "Cats are OK                              0.76643  0.000000  0.00000  0.000000  \n",
       "Dude, where is my car, cat and fast car  0.00000  0.000000  0.00000  0.000000  \n",
       "Fast and bulbous                         0.00000  0.000000  0.00000  0.000000  \n",
       "The cat that likes cats loves TV         0.00000  0.000000  0.00000  0.493598  \n",
       "I dont know what you are talkin about    0.00000  0.000000  0.57735  0.000000  "
      ]
     },
     "execution_count": 51,
     "metadata": {},
     "output_type": "execute_result"
    }
   ],
   "source": [
    "from sklearn.feature_extraction.text import TfidfVectorizer\n",
    "\n",
    "tfidf_vec = TfidfVectorizer(max_features=None, \n",
    "                strip_accents='unicode', analyzer='word', token_pattern=r'\\w{1,}',\n",
    "                ngram_range=(1, 1), \n",
    "                stop_words = 'english')\n",
    "\n",
    "tfidf = tfidf_vec.fit_transform(silly_examples)\n",
    "tfidf_df = pd.DataFrame(data=tfidf.todense(),index=silly_examples,columns = tfidf_vec.get_feature_names_out())\n",
    "\n",
    "tfidf_df"
   ]
  },
  {
   "cell_type": "code",
   "execution_count": 52,
   "id": "5d3ec1af",
   "metadata": {
    "execution": {
     "iopub.execute_input": "2022-12-04T01:47:44.899267Z",
     "iopub.status.busy": "2022-12-04T01:47:44.898774Z",
     "iopub.status.idle": "2022-12-04T01:47:45.271847Z",
     "shell.execute_reply": "2022-12-04T01:47:45.270351Z"
    },
    "papermill": {
     "duration": 0.415507,
     "end_time": "2022-12-04T01:47:45.274786",
     "exception": false,
     "start_time": "2022-12-04T01:47:44.859279",
     "status": "completed"
    },
    "tags": []
   },
   "outputs": [
    {
     "data": {
      "image/png": "[encoded data removed]",
      "text/plain": [
       "<Figure size 432x288 with 2 Axes>"
      ]
     },
     "metadata": {
      "needs_background": "light"
     },
     "output_type": "display_data"
    }
   ],
   "source": [
    "_=sns.heatmap(tfidf_df)"
   ]
  },
  {
   "cell_type": "markdown",
   "id": "0cfb53dc",
   "metadata": {
    "papermill": {
     "duration": 0.037447,
     "end_time": "2022-12-04T01:47:45.350396",
     "exception": false,
     "start_time": "2022-12-04T01:47:45.312949",
     "status": "completed"
    },
    "tags": []
   },
   "source": [
    "Straight away we can see that TF-IDF is different from bag of words in that occurrences of words in the texts are weighted differently. Bag-of-words feature extraction, values in the results matrix was a whole number, being the count of the word in each text.\n",
    "\n",
    "TF-IDF has different values for each word/instance combination. Notice that:\n",
    "- The double \"car\" has a high feature value similar to bag-of-words result before,\n",
    "- \"Bulbous\" and \"OK\" are identified as unusual words in the text corpus, and so have larger feature values.\n",
    "- \"Cat\" is pretty frequent across all texts, and so when it does occur it has a relatively small feature value.\n",
    "- When a word is part of a smaller-length sentence it assumes more importance (the \"cat\" in \"cat on the mat\" is more important than the \"cat\" in \"The cat, the rat and the baseball bat\").\n",
    "- Within a text, less frequent words are more important than more frequent words (\"cat\" is less important than \"TV\" in \"The cat that likes cats loves TV\").\n",
    "\n",
    "N-grams (two or more words) can also be considered, which identifies unusual combinations of words in a corpus.\n",
    "\n",
    "## 6.2 Letter-level TF-IDF\n",
    "\n",
    "If I know anything about HPL, it is that he was prone to making up ridiculous sounding names and utterances using uncommon combinations of letters, e.g.:\n"
   ]
  },
  {
   "cell_type": "code",
   "execution_count": 53,
   "id": "d512f12a",
   "metadata": {
    "execution": {
     "iopub.execute_input": "2022-12-04T01:47:45.428824Z",
     "iopub.status.busy": "2022-12-04T01:47:45.428423Z",
     "iopub.status.idle": "2022-12-04T01:47:45.438235Z",
     "shell.execute_reply": "2022-12-04T01:47:45.436694Z"
    },
    "papermill": {
     "duration": 0.052047,
     "end_time": "2022-12-04T01:47:45.440920",
     "exception": false,
     "start_time": "2022-12-04T01:47:45.388873",
     "status": "completed"
    },
    "tags": []
   },
   "outputs": [
    {
     "name": "stdout",
     "output_type": "stream",
     "text": [
      "Hieroglyphics had covered the walls and pillars, and from some undetermined point below had come a voice that was not a voice; a chaotic sensation which only fancy could transmute into sound, but which he attempted to render by the almost unpronounceable jumble of letters, \"Cthulhu fhtagn\".\n"
     ]
    }
   ],
   "source": [
    "print(data.loc[data['id']==\"id26901\",'text'].iloc[0])"
   ]
  },
  {
   "cell_type": "markdown",
   "id": "0652212b",
   "metadata": {
    "papermill": {
     "duration": 0.037516,
     "end_time": "2022-12-04T01:47:45.517480",
     "exception": false,
     "start_time": "2022-12-04T01:47:45.479964",
     "status": "completed"
    },
    "tags": []
   },
   "source": [
    "One way to extract this kind of information is using letter-level TF-IDF. Basically, treat individual charaters as words, and increase the value of `ngram_range`, which considers multiple letters"
   ]
  },
  {
   "cell_type": "code",
   "execution_count": 54,
   "id": "612e6415",
   "metadata": {
    "execution": {
     "iopub.execute_input": "2022-12-04T01:47:45.597332Z",
     "iopub.status.busy": "2022-12-04T01:47:45.596874Z",
     "iopub.status.idle": "2022-12-04T01:47:45.630738Z",
     "shell.execute_reply": "2022-12-04T01:47:45.629464Z"
    },
    "papermill": {
     "duration": 0.077517,
     "end_time": "2022-12-04T01:47:45.633216",
     "exception": false,
     "start_time": "2022-12-04T01:47:45.555699",
     "status": "completed"
    },
    "tags": []
   },
   "outputs": [
    {
     "data": {
      "text/html": [
       "<div>\n",
       "<style scoped>\n",
       "    .dataframe tbody tr th:only-of-type {\n",
       "        vertical-align: middle;\n",
       "    }\n",
       "\n",
       "    .dataframe tbody tr th {\n",
       "        vertical-align: top;\n",
       "    }\n",
       "\n",
       "    .dataframe thead th {\n",
       "        text-align: right;\n",
       "    }\n",
       "</style>\n",
       "<table border=\"1\" class=\"dataframe\">\n",
       "  <thead>\n",
       "    <tr style=\"text-align: right;\">\n",
       "      <th></th>\n",
       "      <th>ab</th>\n",
       "      <th>an</th>\n",
       "      <th>ar</th>\n",
       "      <th>ba</th>\n",
       "      <th>bu</th>\n",
       "      <th>ca</th>\n",
       "      <th>do</th>\n",
       "      <th>du</th>\n",
       "      <th>fa</th>\n",
       "      <th>i</th>\n",
       "      <th>...</th>\n",
       "      <th>ts</th>\n",
       "      <th>tv</th>\n",
       "      <th>ude</th>\n",
       "      <th>ulb</th>\n",
       "      <th>us</th>\n",
       "      <th>ut</th>\n",
       "      <th>ves</th>\n",
       "      <th>wha</th>\n",
       "      <th>whe</th>\n",
       "      <th>you</th>\n",
       "    </tr>\n",
       "  </thead>\n",
       "  <tbody>\n",
       "    <tr>\n",
       "      <th>Cat on the mat</th>\n",
       "      <td>0.000000</td>\n",
       "      <td>0.000000</td>\n",
       "      <td>0.000000</td>\n",
       "      <td>0.000000</td>\n",
       "      <td>0.000000</td>\n",
       "      <td>0.218430</td>\n",
       "      <td>0.000000</td>\n",
       "      <td>0.000000</td>\n",
       "      <td>0.000000</td>\n",
       "      <td>0.000000</td>\n",
       "      <td>...</td>\n",
       "      <td>0.000000</td>\n",
       "      <td>0.000000</td>\n",
       "      <td>0.000000</td>\n",
       "      <td>0.000000</td>\n",
       "      <td>0.000000</td>\n",
       "      <td>0.000000</td>\n",
       "      <td>0.000000</td>\n",
       "      <td>0.000000</td>\n",
       "      <td>0.000000</td>\n",
       "      <td>0.000000</td>\n",
       "    </tr>\n",
       "    <tr>\n",
       "      <th>Mat rat</th>\n",
       "      <td>0.000000</td>\n",
       "      <td>0.000000</td>\n",
       "      <td>0.000000</td>\n",
       "      <td>0.000000</td>\n",
       "      <td>0.000000</td>\n",
       "      <td>0.000000</td>\n",
       "      <td>0.000000</td>\n",
       "      <td>0.000000</td>\n",
       "      <td>0.000000</td>\n",
       "      <td>0.000000</td>\n",
       "      <td>...</td>\n",
       "      <td>0.000000</td>\n",
       "      <td>0.000000</td>\n",
       "      <td>0.000000</td>\n",
       "      <td>0.000000</td>\n",
       "      <td>0.000000</td>\n",
       "      <td>0.000000</td>\n",
       "      <td>0.000000</td>\n",
       "      <td>0.000000</td>\n",
       "      <td>0.000000</td>\n",
       "      <td>0.000000</td>\n",
       "    </tr>\n",
       "    <tr>\n",
       "      <th>The cat, the rat and the baseball bat</th>\n",
       "      <td>0.000000</td>\n",
       "      <td>0.126422</td>\n",
       "      <td>0.000000</td>\n",
       "      <td>0.349621</td>\n",
       "      <td>0.000000</td>\n",
       "      <td>0.098116</td>\n",
       "      <td>0.000000</td>\n",
       "      <td>0.000000</td>\n",
       "      <td>0.000000</td>\n",
       "      <td>0.000000</td>\n",
       "      <td>...</td>\n",
       "      <td>0.000000</td>\n",
       "      <td>0.000000</td>\n",
       "      <td>0.000000</td>\n",
       "      <td>0.000000</td>\n",
       "      <td>0.000000</td>\n",
       "      <td>0.000000</td>\n",
       "      <td>0.000000</td>\n",
       "      <td>0.000000</td>\n",
       "      <td>0.000000</td>\n",
       "      <td>0.000000</td>\n",
       "    </tr>\n",
       "    <tr>\n",
       "      <th>Cats are OK</th>\n",
       "      <td>0.000000</td>\n",
       "      <td>0.000000</td>\n",
       "      <td>0.343217</td>\n",
       "      <td>0.000000</td>\n",
       "      <td>0.000000</td>\n",
       "      <td>0.229856</td>\n",
       "      <td>0.000000</td>\n",
       "      <td>0.000000</td>\n",
       "      <td>0.000000</td>\n",
       "      <td>0.000000</td>\n",
       "      <td>...</td>\n",
       "      <td>0.343217</td>\n",
       "      <td>0.000000</td>\n",
       "      <td>0.000000</td>\n",
       "      <td>0.000000</td>\n",
       "      <td>0.000000</td>\n",
       "      <td>0.000000</td>\n",
       "      <td>0.000000</td>\n",
       "      <td>0.000000</td>\n",
       "      <td>0.000000</td>\n",
       "      <td>0.000000</td>\n",
       "    </tr>\n",
       "    <tr>\n",
       "      <th>Dude, where is my car, cat and fast car</th>\n",
       "      <td>0.000000</td>\n",
       "      <td>0.136661</td>\n",
       "      <td>0.000000</td>\n",
       "      <td>0.000000</td>\n",
       "      <td>0.000000</td>\n",
       "      <td>0.318189</td>\n",
       "      <td>0.000000</td>\n",
       "      <td>0.188969</td>\n",
       "      <td>0.158371</td>\n",
       "      <td>0.000000</td>\n",
       "      <td>...</td>\n",
       "      <td>0.000000</td>\n",
       "      <td>0.000000</td>\n",
       "      <td>0.188969</td>\n",
       "      <td>0.000000</td>\n",
       "      <td>0.000000</td>\n",
       "      <td>0.000000</td>\n",
       "      <td>0.000000</td>\n",
       "      <td>0.000000</td>\n",
       "      <td>0.188969</td>\n",
       "      <td>0.000000</td>\n",
       "    </tr>\n",
       "    <tr>\n",
       "      <th>Fast and bulbous</th>\n",
       "      <td>0.000000</td>\n",
       "      <td>0.217253</td>\n",
       "      <td>0.000000</td>\n",
       "      <td>0.000000</td>\n",
       "      <td>0.300409</td>\n",
       "      <td>0.000000</td>\n",
       "      <td>0.000000</td>\n",
       "      <td>0.000000</td>\n",
       "      <td>0.251766</td>\n",
       "      <td>0.000000</td>\n",
       "      <td>...</td>\n",
       "      <td>0.000000</td>\n",
       "      <td>0.000000</td>\n",
       "      <td>0.000000</td>\n",
       "      <td>0.300409</td>\n",
       "      <td>0.300409</td>\n",
       "      <td>0.000000</td>\n",
       "      <td>0.000000</td>\n",
       "      <td>0.000000</td>\n",
       "      <td>0.000000</td>\n",
       "      <td>0.000000</td>\n",
       "    </tr>\n",
       "    <tr>\n",
       "      <th>The cat that likes cats loves TV</th>\n",
       "      <td>0.000000</td>\n",
       "      <td>0.000000</td>\n",
       "      <td>0.000000</td>\n",
       "      <td>0.000000</td>\n",
       "      <td>0.000000</td>\n",
       "      <td>0.230272</td>\n",
       "      <td>0.000000</td>\n",
       "      <td>0.000000</td>\n",
       "      <td>0.000000</td>\n",
       "      <td>0.000000</td>\n",
       "      <td>...</td>\n",
       "      <td>0.171919</td>\n",
       "      <td>0.205134</td>\n",
       "      <td>0.000000</td>\n",
       "      <td>0.000000</td>\n",
       "      <td>0.000000</td>\n",
       "      <td>0.000000</td>\n",
       "      <td>0.205134</td>\n",
       "      <td>0.000000</td>\n",
       "      <td>0.000000</td>\n",
       "      <td>0.000000</td>\n",
       "    </tr>\n",
       "    <tr>\n",
       "      <th>I dont know what you are talkin about</th>\n",
       "      <td>0.191444</td>\n",
       "      <td>0.000000</td>\n",
       "      <td>0.160445</td>\n",
       "      <td>0.000000</td>\n",
       "      <td>0.000000</td>\n",
       "      <td>0.000000</td>\n",
       "      <td>0.191444</td>\n",
       "      <td>0.000000</td>\n",
       "      <td>0.000000</td>\n",
       "      <td>0.191444</td>\n",
       "      <td>...</td>\n",
       "      <td>0.000000</td>\n",
       "      <td>0.000000</td>\n",
       "      <td>0.000000</td>\n",
       "      <td>0.000000</td>\n",
       "      <td>0.000000</td>\n",
       "      <td>0.191444</td>\n",
       "      <td>0.000000</td>\n",
       "      <td>0.191444</td>\n",
       "      <td>0.000000</td>\n",
       "      <td>0.191444</td>\n",
       "    </tr>\n",
       "  </tbody>\n",
       "</table>\n",
       "<p>8 rows × 97 columns</p>\n",
       "</div>"
      ],
      "text/plain": [
       "                                               ab        an        ar  \\\n",
       "Cat on the mat                           0.000000  0.000000  0.000000   \n",
       "Mat rat                                  0.000000  0.000000  0.000000   \n",
       "The cat, the rat and the baseball bat    0.000000  0.126422  0.000000   \n",
       "Cats are OK                              0.000000  0.000000  0.343217   \n",
       "Dude, where is my car, cat and fast car  0.000000  0.136661  0.000000   \n",
       "Fast and bulbous                         0.000000  0.217253  0.000000   \n",
       "The cat that likes cats loves TV         0.000000  0.000000  0.000000   \n",
       "I dont know what you are talkin about    0.191444  0.000000  0.160445   \n",
       "\n",
       "                                               ba        bu        ca  \\\n",
       "Cat on the mat                           0.000000  0.000000  0.218430   \n",
       "Mat rat                                  0.000000  0.000000  0.000000   \n",
       "The cat, the rat and the baseball bat    0.349621  0.000000  0.098116   \n",
       "Cats are OK                              0.000000  0.000000  0.229856   \n",
       "Dude, where is my car, cat and fast car  0.000000  0.000000  0.318189   \n",
       "Fast and bulbous                         0.000000  0.300409  0.000000   \n",
       "The cat that likes cats loves TV         0.000000  0.000000  0.230272   \n",
       "I dont know what you are talkin about    0.000000  0.000000  0.000000   \n",
       "\n",
       "                                               do        du        fa  \\\n",
       "Cat on the mat                           0.000000  0.000000  0.000000   \n",
       "Mat rat                                  0.000000  0.000000  0.000000   \n",
       "The cat, the rat and the baseball bat    0.000000  0.000000  0.000000   \n",
       "Cats are OK                              0.000000  0.000000  0.000000   \n",
       "Dude, where is my car, cat and fast car  0.000000  0.188969  0.158371   \n",
       "Fast and bulbous                         0.000000  0.000000  0.251766   \n",
       "The cat that likes cats loves TV         0.000000  0.000000  0.000000   \n",
       "I dont know what you are talkin about    0.191444  0.000000  0.000000   \n",
       "\n",
       "                                               i   ...       ts        tv   \\\n",
       "Cat on the mat                           0.000000  ...  0.000000  0.000000   \n",
       "Mat rat                                  0.000000  ...  0.000000  0.000000   \n",
       "The cat, the rat and the baseball bat    0.000000  ...  0.000000  0.000000   \n",
       "Cats are OK                              0.000000  ...  0.343217  0.000000   \n",
       "Dude, where is my car, cat and fast car  0.000000  ...  0.000000  0.000000   \n",
       "Fast and bulbous                         0.000000  ...  0.000000  0.000000   \n",
       "The cat that likes cats loves TV         0.000000  ...  0.171919  0.205134   \n",
       "I dont know what you are talkin about    0.191444  ...  0.000000  0.000000   \n",
       "\n",
       "                                              ude       ulb       us   \\\n",
       "Cat on the mat                           0.000000  0.000000  0.000000   \n",
       "Mat rat                                  0.000000  0.000000  0.000000   \n",
       "The cat, the rat and the baseball bat    0.000000  0.000000  0.000000   \n",
       "Cats are OK                              0.000000  0.000000  0.000000   \n",
       "Dude, where is my car, cat and fast car  0.188969  0.000000  0.000000   \n",
       "Fast and bulbous                         0.000000  0.300409  0.300409   \n",
       "The cat that likes cats loves TV         0.000000  0.000000  0.000000   \n",
       "I dont know what you are talkin about    0.000000  0.000000  0.000000   \n",
       "\n",
       "                                              ut        ves       wha  \\\n",
       "Cat on the mat                           0.000000  0.000000  0.000000   \n",
       "Mat rat                                  0.000000  0.000000  0.000000   \n",
       "The cat, the rat and the baseball bat    0.000000  0.000000  0.000000   \n",
       "Cats are OK                              0.000000  0.000000  0.000000   \n",
       "Dude, where is my car, cat and fast car  0.000000  0.000000  0.000000   \n",
       "Fast and bulbous                         0.000000  0.000000  0.000000   \n",
       "The cat that likes cats loves TV         0.000000  0.205134  0.000000   \n",
       "I dont know what you are talkin about    0.191444  0.000000  0.191444   \n",
       "\n",
       "                                              whe       you  \n",
       "Cat on the mat                           0.000000  0.000000  \n",
       "Mat rat                                  0.000000  0.000000  \n",
       "The cat, the rat and the baseball bat    0.000000  0.000000  \n",
       "Cats are OK                              0.000000  0.000000  \n",
       "Dude, where is my car, cat and fast car  0.188969  0.000000  \n",
       "Fast and bulbous                         0.000000  0.000000  \n",
       "The cat that likes cats loves TV         0.000000  0.000000  \n",
       "I dont know what you are talkin about    0.000000  0.191444  \n",
       "\n",
       "[8 rows x 97 columns]"
      ]
     },
     "execution_count": 54,
     "metadata": {},
     "output_type": "execute_result"
    }
   ],
   "source": [
    "tfidf2_vec = TfidfVectorizer(max_features=None, \n",
    "                strip_accents='unicode', analyzer='char_wb',\n",
    "                ngram_range=(3, 3), \n",
    "                stop_words = 'english')\n",
    "\n",
    "tfidf2 = tfidf2_vec.fit_transform(silly_examples)\n",
    "tfidf2_df = pd.DataFrame(data=tfidf2.todense(),index=silly_examples,columns = tfidf2_vec.get_feature_names_out())\n",
    "\n",
    "tfidf2_df"
   ]
  },
  {
   "cell_type": "markdown",
   "id": "cbe532a9",
   "metadata": {
    "papermill": {
     "duration": 0.038565,
     "end_time": "2022-12-04T01:47:45.710228",
     "exception": false,
     "start_time": "2022-12-04T01:47:45.671663",
     "status": "completed"
    },
    "tags": []
   },
   "source": [
    "# <p style=\"background-color:darkred;color:white;font-family:verdana;font-size:120%;text-align:center;border-radius: 15px 50px;\">7. Combining style, words, and character features</p>\n",
    "\n",
    "Next, we put this all together into a pipeline. \n",
    "\n",
    "I ran into some problems when `analyzer` is equal to 'char_wb' in the call to scikit-learn's `TfidfVectorizer` (i.e. for letter-level TF-IDF). Basically, [TfidfVectorizer calculates ngrams across words](https://stackoverflow.com/questions/74257904/eliminate-unigrams-in-char-level-tf-idf) (i.e. including spaces). I'd rather get ngrams within words, so [I put together a custom analyzer](https://stackoverflow.com/a/74258388/14278409) callable based on the source code of `TfidfVectorizer`, which is `char_wb_ngrams()` below. The specification of `ngram_range` gets a bit fiddly, so I created a transformer class for this directly, which is `NgramVectorizer`. That way, `ngram_range` can be specified directly in, for example, `GridSearchCV`, which we do later. \n",
    "\n",
    "There is also an option to preprocess text by stripping out punctuation. Once again, we'll consider the effect of this when tuning hyperparameters below. "
   ]
  },
  {
   "cell_type": "code",
   "execution_count": 55,
   "id": "230161e3",
   "metadata": {
    "execution": {
     "iopub.execute_input": "2022-12-04T01:47:45.788788Z",
     "iopub.status.busy": "2022-12-04T01:47:45.788371Z",
     "iopub.status.idle": "2022-12-04T01:47:45.802175Z",
     "shell.execute_reply": "2022-12-04T01:47:45.801150Z"
    },
    "papermill": {
     "duration": 0.056216,
     "end_time": "2022-12-04T01:47:45.804873",
     "exception": false,
     "start_time": "2022-12-04T01:47:45.748657",
     "status": "completed"
    },
    "tags": []
   },
   "outputs": [],
   "source": [
    "from functools import partial\n",
    "\n",
    "def strip_punctuation(astr):\n",
    "    stripped = astr\n",
    "    for p in punct:\n",
    "        stripped = stripped.replace(p,'')\n",
    "    return stripped\n",
    "def char_wb_ngrams(text_document, ngram_range):\n",
    "    \"\"\"Callable for TfidfVectorizer analyzer, based on _char_wb_ngrams from TfidfVectorizer source code at\n",
    "    https://github.com/scikit-learn/scikit-learn/blob/f3f51f9b6/sklearn/feature_extraction/text.py\"\"\"\n",
    "\n",
    "    # See https://stackoverflow.com/questions/74257904/eliminate-unigrams-in-char-level-tf-idf\n",
    "    \n",
    "    ngrams = []\n",
    "    min_n, max_n = ngram_range\n",
    "\n",
    "    for w in text_document.lower().split():\n",
    "        # This line in _char_wb_ngrams pads words with spaces and needs to be removed:\n",
    "        #w = \" \" + w + \" \"\n",
    "        w_len = len(w)\n",
    "        for n in range(min_n, max_n + 1):\n",
    "            offset = 0\n",
    "            ngrams.append(w[offset : offset + n])\n",
    "            while offset + n < w_len:\n",
    "                offset += 1\n",
    "                ngrams.append(w[offset : offset + n])\n",
    "            if offset == 0:  # count a short word (w_len < n) only once\n",
    "                break\n",
    "    return ngrams\n",
    "def char_wb_ngrams_stripped(text_document, ngram_range):\n",
    "    return char_wb_ngrams(strip_punctuation(text_document), ngram_range)\n",
    "class NgramVectorizer(FeatureExtractionClass):\n",
    "    def __init__(self, ngram_range, strip_punctuation = True):\n",
    "        self.ngram_range = ngram_range\n",
    "        self.strip_punctuation = strip_punctuation\n",
    "    def get_feature_names_out(self, input_features=None):\n",
    "        return self.vectorizer.get_feature_names_out(input_features)\n",
    "    def fit(self, X, y=None):\n",
    "        if self.strip_punctuation:\n",
    "            self.vectorizer = TfidfVectorizer(max_features=None, \n",
    "                                              strip_accents='unicode', \n",
    "                                              analyzer=partial(char_wb_ngrams_stripped, \n",
    "                                                               ngram_range=self.ngram_range))\n",
    "        else:\n",
    "            self.vectorizer = TfidfVectorizer(max_features=None, \n",
    "                                              strip_accents='unicode', \n",
    "                                              analyzer=partial(char_wb_ngrams, \n",
    "                                                               ngram_range=self.ngram_range))\n",
    "                \n",
    "        self.vectorizer.fit(X, y)\n",
    "        return self\n",
    "    def transform(self, X, y=None):\n",
    "        return self.vectorizer.transform(X)\n"
   ]
  },
  {
   "cell_type": "markdown",
   "id": "f3fdc55f",
   "metadata": {
    "papermill": {
     "duration": 0.054003,
     "end_time": "2022-12-04T01:47:45.906425",
     "exception": false,
     "start_time": "2022-12-04T01:47:45.852422",
     "status": "completed"
    },
    "tags": []
   },
   "source": [
    "## 7.1 XGBoost pipeline\n",
    "\n",
    "And now, assemble the pipeline with an XGBoost model as the final estimator in the pipeline."
   ]
  },
  {
   "cell_type": "code",
   "execution_count": 56,
   "id": "200a9175",
   "metadata": {
    "execution": {
     "iopub.execute_input": "2022-12-04T01:47:45.994169Z",
     "iopub.status.busy": "2022-12-04T01:47:45.993706Z",
     "iopub.status.idle": "2022-12-04T01:47:46.008499Z",
     "shell.execute_reply": "2022-12-04T01:47:46.007319Z"
    },
    "papermill": {
     "duration": 0.057169,
     "end_time": "2022-12-04T01:47:46.011267",
     "exception": false,
     "start_time": "2022-12-04T01:47:45.954098",
     "status": "completed"
    },
    "tags": []
   },
   "outputs": [],
   "source": [
    "from sklearn.compose import ColumnTransformer\n",
    "\n",
    "xgb_pipe_with_tfidf = Pipeline([('feature_extraction', \n",
    "                                 FeatureUnion([('style_features', StyleExtractor),\n",
    "                                               ('tf_idf', ColumnTransformer(transformers=[('just_on_text_column',\n",
    "                                                                                           FeatureUnion([('word_tf_idf', TfidfVectorizer(max_features=None, \n",
    "                                                                                                                                         strip_accents='unicode', \n",
    "                                                                                                                                         analyzer='word', \n",
    "                                                                                                                                         token_pattern=r'\\w{1,}',\n",
    "                                                                                                                                         ngram_range=(1, 1), \n",
    "                                                                                                                                         stop_words = 'english')),\n",
    "                                                                                                         ('letter_tf_idf', NgramVectorizer(ngram_range = (2,3)))]),\n",
    "                                                                                                                           \n",
    "                                                                                           'text'),], # To apply just to the text column\n",
    "                                                                            remainder='drop'))])),\n",
    "                                ('xgb_classifier', XGBClassifier(n_estimators=25 if QUICKRUN else 100, \n",
    "                                                                 tree_method = xgboost_tree_method))])\n"
   ]
  },
  {
   "cell_type": "markdown",
   "id": "7e7a456a",
   "metadata": {
    "papermill": {
     "duration": 0.044984,
     "end_time": "2022-12-04T01:47:46.096481",
     "exception": false,
     "start_time": "2022-12-04T01:47:46.051497",
     "status": "completed"
    },
    "tags": []
   },
   "source": [
    "A few words on the pipeline. The style features extraction is applied using a `FeatureUnion`, as before. Since we use the 'text_length' and 'nwords' columns for this, we pass the whole dataset into the `FeatureUnion`. The TF-IDF vectorizers work only on the 'text' column, so this needs to be passed into a `ColumnTransformer` that works just on the one column. Within the `ColumnTransformer`, the two TF-IDF vectorizers are also placed within a `FeatureUnion`. After these transformations, we apply the model to the output."
   ]
  },
  {
   "cell_type": "code",
   "execution_count": 57,
   "id": "8c71734e",
   "metadata": {
    "execution": {
     "iopub.execute_input": "2022-12-04T01:47:46.179728Z",
     "iopub.status.busy": "2022-12-04T01:47:46.179076Z",
     "iopub.status.idle": "2022-12-04T01:47:46.647965Z",
     "shell.execute_reply": "2022-12-04T01:47:46.646338Z"
    },
    "papermill": {
     "duration": 0.513854,
     "end_time": "2022-12-04T01:47:46.650927",
     "exception": false,
     "start_time": "2022-12-04T01:47:46.137073",
     "status": "completed"
    },
    "tags": []
   },
   "outputs": [
    {
     "data": {
      "text/html": [
       "<style>#sk-a2a6feda-6599-4caf-afb1-e92634a4d109 {color: black;background-color: white;}#sk-a2a6feda-6599-4caf-afb1-e92634a4d109 pre{padding: 0;}#sk-a2a6feda-6599-4caf-afb1-e92634a4d109 div.sk-toggleable {background-color: white;}#sk-a2a6feda-6599-4caf-afb1-e92634a4d109 label.sk-toggleable__label {cursor: pointer;display: block;width: 100%;margin-bottom: 0;padding: 0.3em;box-sizing: border-box;text-align: center;}#sk-a2a6feda-6599-4caf-afb1-e92634a4d109 label.sk-toggleable__label-arrow:before {content: \"▸\";float: left;margin-right: 0.25em;color: #696969;}#sk-a2a6feda-6599-4caf-afb1-e92634a4d109 label.sk-toggleable__label-arrow:hover:before {color: black;}#sk-a2a6feda-6599-4caf-afb1-e92634a4d109 div.sk-estimator:hover label.sk-toggleable__label-arrow:before {color: black;}#sk-a2a6feda-6599-4caf-afb1-e92634a4d109 div.sk-toggleable__content {max-height: 0;max-width: 0;overflow: hidden;text-align: left;background-color: #f0f8ff;}#sk-a2a6feda-6599-4caf-afb1-e92634a4d109 div.sk-toggleable__content pre {margin: 0.2em;color: black;border-radius: 0.25em;background-color: #f0f8ff;}#sk-a2a6feda-6599-4caf-afb1-e92634a4d109 input.sk-toggleable__control:checked~div.sk-toggleable__content {max-height: 200px;max-width: 100%;overflow: auto;}#sk-a2a6feda-6599-4caf-afb1-e92634a4d109 input.sk-toggleable__control:checked~label.sk-toggleable__label-arrow:before {content: \"▾\";}#sk-a2a6feda-6599-4caf-afb1-e92634a4d109 div.sk-estimator input.sk-toggleable__control:checked~label.sk-toggleable__label {background-color: #d4ebff;}#sk-a2a6feda-6599-4caf-afb1-e92634a4d109 div.sk-label input.sk-toggleable__control:checked~label.sk-toggleable__label {background-color: #d4ebff;}#sk-a2a6feda-6599-4caf-afb1-e92634a4d109 input.sk-hidden--visually {border: 0;clip: rect(1px 1px 1px 1px);clip: rect(1px, 1px, 1px, 1px);height: 1px;margin: -1px;overflow: hidden;padding: 0;position: absolute;width: 1px;}#sk-a2a6feda-6599-4caf-afb1-e92634a4d109 div.sk-estimator {font-family: monospace;background-color: #f0f8ff;border: 1px dotted black;border-radius: 0.25em;box-sizing: border-box;margin-bottom: 0.5em;}#sk-a2a6feda-6599-4caf-afb1-e92634a4d109 div.sk-estimator:hover {background-color: #d4ebff;}#sk-a2a6feda-6599-4caf-afb1-e92634a4d109 div.sk-parallel-item::after {content: \"\";width: 100%;border-bottom: 1px solid gray;flex-grow: 1;}#sk-a2a6feda-6599-4caf-afb1-e92634a4d109 div.sk-label:hover label.sk-toggleable__label {background-color: #d4ebff;}#sk-a2a6feda-6599-4caf-afb1-e92634a4d109 div.sk-serial::before {content: \"\";position: absolute;border-left: 1px solid gray;box-sizing: border-box;top: 2em;bottom: 0;left: 50%;}#sk-a2a6feda-6599-4caf-afb1-e92634a4d109 div.sk-serial {display: flex;flex-direction: column;align-items: center;background-color: white;padding-right: 0.2em;padding-left: 0.2em;}#sk-a2a6feda-6599-4caf-afb1-e92634a4d109 div.sk-item {z-index: 1;}#sk-a2a6feda-6599-4caf-afb1-e92634a4d109 div.sk-parallel {display: flex;align-items: stretch;justify-content: center;background-color: white;}#sk-a2a6feda-6599-4caf-afb1-e92634a4d109 div.sk-parallel::before {content: \"\";position: absolute;border-left: 1px solid gray;box-sizing: border-box;top: 2em;bottom: 0;left: 50%;}#sk-a2a6feda-6599-4caf-afb1-e92634a4d109 div.sk-parallel-item {display: flex;flex-direction: column;position: relative;background-color: white;}#sk-a2a6feda-6599-4caf-afb1-e92634a4d109 div.sk-parallel-item:first-child::after {align-self: flex-end;width: 50%;}#sk-a2a6feda-6599-4caf-afb1-e92634a4d109 div.sk-parallel-item:last-child::after {align-self: flex-start;width: 50%;}#sk-a2a6feda-6599-4caf-afb1-e92634a4d109 div.sk-parallel-item:only-child::after {width: 0;}#sk-a2a6feda-6599-4caf-afb1-e92634a4d109 div.sk-dashed-wrapped {border: 1px dashed gray;margin: 0 0.4em 0.5em 0.4em;box-sizing: border-box;padding-bottom: 0.4em;background-color: white;position: relative;}#sk-a2a6feda-6599-4caf-afb1-e92634a4d109 div.sk-label label {font-family: monospace;font-weight: bold;background-color: white;display: inline-block;line-height: 1.2em;}#sk-a2a6feda-6599-4caf-afb1-e92634a4d109 div.sk-label-container {position: relative;z-index: 2;text-align: center;}#sk-a2a6feda-6599-4caf-afb1-e92634a4d109 div.sk-container {/* jupyter's `normalize.less` sets `[hidden] { display: none; }` but bootstrap.min.css set `[hidden] { display: none !important; }` so we also need the `!important` here to be able to override the default hidden behavior on the sphinx rendered scikit-learn.org. See: https://github.com/scikit-learn/scikit-learn/issues/21755 */display: inline-block !important;position: relative;}#sk-a2a6feda-6599-4caf-afb1-e92634a4d109 div.sk-text-repr-fallback {display: none;}</style><div id=\"sk-a2a6feda-6599-4caf-afb1-e92634a4d109\" class=\"sk-top-container\"><div class=\"sk-text-repr-fallback\"><pre>Pipeline(steps=[(&#x27;feature_extraction&#x27;,\n",
       "                 FeatureUnion(transformer_list=[(&#x27;style_features&#x27;,\n",
       "                                                 FeatureUnion(transformer_list=[(&#x27;text_length&#x27;,\n",
       "                                                                                 TextLength()),\n",
       "                                                                                (&#x27;punctuation_proportion&#x27;,\n",
       "                                                                                 CountPunctuationProp()),\n",
       "                                                                                (&#x27;semicolon_count&#x27;,\n",
       "                                                                                 CountSemicolons()),\n",
       "                                                                                (&#x27;std_word_length&#x27;,\n",
       "                                                                                 StdWordLength()),\n",
       "                                                                                (&#x27;stopwords_proportion&#x27;,\n",
       "                                                                                 CountStopsProp(stopwords={&#x27;a&#x27;,\n",
       "                                                                                                           &#x27;about&#x27;,\n",
       "                                                                                                           &#x27;above&#x27;,\n",
       "                                                                                                           &#x27;after&#x27;,\n",
       "                                                                                                           &#x27;...\n",
       "                               gamma=None, gpu_id=None, grow_policy=None,\n",
       "                               importance_type=None,\n",
       "                               interaction_constraints=None, learning_rate=None,\n",
       "                               max_bin=None, max_cat_to_onehot=None,\n",
       "                               max_delta_step=None, max_depth=None,\n",
       "                               max_leaves=None, min_child_weight=None,\n",
       "                               missing=nan, monotone_constraints=None,\n",
       "                               n_estimators=100, n_jobs=None,\n",
       "                               num_parallel_tree=None, predictor=None,\n",
       "                               random_state=None, reg_alpha=None,\n",
       "                               reg_lambda=None, ...))])</pre><b>Please rerun this cell to show the HTML repr or trust the notebook.</b></div><div class=\"sk-container\" hidden><div class=\"sk-item sk-dashed-wrapped\"><div class=\"sk-label-container\"><div class=\"sk-label sk-toggleable\"><input class=\"sk-toggleable__control sk-hidden--visually\" id=\"29f7da43-3e9e-4d8b-b0f7-7c3f0a4c751f\" type=\"checkbox\" ><label for=\"29f7da43-3e9e-4d8b-b0f7-7c3f0a4c751f\" class=\"sk-toggleable__label sk-toggleable__label-arrow\">Pipeline</label><div class=\"sk-toggleable__content\"><pre>Pipeline(steps=[(&#x27;feature_extraction&#x27;,\n",
       "                 FeatureUnion(transformer_list=[(&#x27;style_features&#x27;,\n",
       "                                                 FeatureUnion(transformer_list=[(&#x27;text_length&#x27;,\n",
       "                                                                                 TextLength()),\n",
       "                                                                                (&#x27;punctuation_proportion&#x27;,\n",
       "                                                                                 CountPunctuationProp()),\n",
       "                                                                                (&#x27;semicolon_count&#x27;,\n",
       "                                                                                 CountSemicolons()),\n",
       "                                                                                (&#x27;std_word_length&#x27;,\n",
       "                                                                                 StdWordLength()),\n",
       "                                                                                (&#x27;stopwords_proportion&#x27;,\n",
       "                                                                                 CountStopsProp(stopwords={&#x27;a&#x27;,\n",
       "                                                                                                           &#x27;about&#x27;,\n",
       "                                                                                                           &#x27;above&#x27;,\n",
       "                                                                                                           &#x27;after&#x27;,\n",
       "                                                                                                           &#x27;...\n",
       "                               gamma=None, gpu_id=None, grow_policy=None,\n",
       "                               importance_type=None,\n",
       "                               interaction_constraints=None, learning_rate=None,\n",
       "                               max_bin=None, max_cat_to_onehot=None,\n",
       "                               max_delta_step=None, max_depth=None,\n",
       "                               max_leaves=None, min_child_weight=None,\n",
       "                               missing=nan, monotone_constraints=None,\n",
       "                               n_estimators=100, n_jobs=None,\n",
       "                               num_parallel_tree=None, predictor=None,\n",
       "                               random_state=None, reg_alpha=None,\n",
       "                               reg_lambda=None, ...))])</pre></div></div></div><div class=\"sk-serial\"><div class=\"sk-item sk-dashed-wrapped\"><div class=\"sk-label-container\"><div class=\"sk-label sk-toggleable\"><input class=\"sk-toggleable__control sk-hidden--visually\" id=\"b4a31dfa-3a84-4213-b0f8-d4058d71357c\" type=\"checkbox\" ><label for=\"b4a31dfa-3a84-4213-b0f8-d4058d71357c\" class=\"sk-toggleable__label sk-toggleable__label-arrow\">feature_extraction: FeatureUnion</label><div class=\"sk-toggleable__content\"><pre>FeatureUnion(transformer_list=[(&#x27;style_features&#x27;,\n",
       "                                FeatureUnion(transformer_list=[(&#x27;text_length&#x27;,\n",
       "                                                                TextLength()),\n",
       "                                                               (&#x27;punctuation_proportion&#x27;,\n",
       "                                                                CountPunctuationProp()),\n",
       "                                                               (&#x27;semicolon_count&#x27;,\n",
       "                                                                CountSemicolons()),\n",
       "                                                               (&#x27;std_word_length&#x27;,\n",
       "                                                                StdWordLength()),\n",
       "                                                               (&#x27;stopwords_proportion&#x27;,\n",
       "                                                                CountStopsProp(stopwords={&#x27;a&#x27;,\n",
       "                                                                                          &#x27;about&#x27;,\n",
       "                                                                                          &#x27;above&#x27;,\n",
       "                                                                                          &#x27;after&#x27;,\n",
       "                                                                                          &#x27;again&#x27;,\n",
       "                                                                                          &#x27;against&#x27;,\n",
       "                                                                                          &#x27;ain&#x27;,\n",
       "                                                                                          &#x27;all&#x27;,\n",
       "                                                                                          &#x27;am&#x27;,\n",
       "                                                                                          &#x27;an&#x27;...\n",
       "                                                                CountStopsProp(stopwords=[&#x27;her&#x27;,\n",
       "                                                                                          &#x27;hers&#x27;,\n",
       "                                                                                          &#x27;herself&#x27;,\n",
       "                                                                                          &#x27;she&#x27;,\n",
       "                                                                                          &quot;she&#x27;s&quot;])),\n",
       "                                                               (&#x27;allcaps_count&#x27;,\n",
       "                                                                CountAllcaps())])),\n",
       "                               (&#x27;tf_idf&#x27;,\n",
       "                                ColumnTransformer(transformers=[(&#x27;just_on_text_column&#x27;,\n",
       "                                                                 FeatureUnion(transformer_list=[(&#x27;word_tf_idf&#x27;,\n",
       "                                                                                                 TfidfVectorizer(stop_words=&#x27;english&#x27;,\n",
       "                                                                                                                 strip_accents=&#x27;unicode&#x27;,\n",
       "                                                                                                                 token_pattern=&#x27;\\\\w{1,}&#x27;)),\n",
       "                                                                                                (&#x27;letter_tf_idf&#x27;,\n",
       "                                                                                                 NgramVectorizer(ngram_range=(2,\n",
       "                                                                                                                              3)))]),\n",
       "                                                                 &#x27;text&#x27;)]))])</pre></div></div></div><div class=\"sk-parallel\"><div class=\"sk-parallel-item\"><div class=\"sk-item\"><div class=\"sk-label-container\"><div class=\"sk-label sk-toggleable\"><label>style_features</label></div></div><div class=\"sk-serial\"><div class=\"sk-item sk-dashed-wrapped\"><div class=\"sk-parallel\"><div class=\"sk-parallel-item\"><div class=\"sk-item\"><div class=\"sk-label-container\"><div class=\"sk-label sk-toggleable\"><label>text_length</label></div></div><div class=\"sk-serial\"><div class=\"sk-item\"><div class=\"sk-estimator sk-toggleable\"><input class=\"sk-toggleable__control sk-hidden--visually\" id=\"3a2aa846-949c-496a-8161-e5bf080e5023\" type=\"checkbox\" ><label for=\"3a2aa846-949c-496a-8161-e5bf080e5023\" class=\"sk-toggleable__label sk-toggleable__label-arrow\">TextLength</label><div class=\"sk-toggleable__content\"><pre>TextLength()</pre></div></div></div></div></div></div><div class=\"sk-parallel-item\"><div class=\"sk-item\"><div class=\"sk-label-container\"><div class=\"sk-label sk-toggleable\"><label>punctuation_proportion</label></div></div><div class=\"sk-serial\"><div class=\"sk-item\"><div class=\"sk-estimator sk-toggleable\"><input class=\"sk-toggleable__control sk-hidden--visually\" id=\"40bd5399-cfa6-414a-b120-d1e8bc1611f2\" type=\"checkbox\" ><label for=\"40bd5399-cfa6-414a-b120-d1e8bc1611f2\" class=\"sk-toggleable__label sk-toggleable__label-arrow\">CountPunctuationProp</label><div class=\"sk-toggleable__content\"><pre>CountPunctuationProp()</pre></div></div></div></div></div></div><div class=\"sk-parallel-item\"><div class=\"sk-item\"><div class=\"sk-label-container\"><div class=\"sk-label sk-toggleable\"><label>semicolon_count</label></div></div><div class=\"sk-serial\"><div class=\"sk-item\"><div class=\"sk-estimator sk-toggleable\"><input class=\"sk-toggleable__control sk-hidden--visually\" id=\"d4274d4a-b01a-4d79-b30b-e36e3a0a985c\" type=\"checkbox\" ><label for=\"d4274d4a-b01a-4d79-b30b-e36e3a0a985c\" class=\"sk-toggleable__label sk-toggleable__label-arrow\">CountSemicolons</label><div class=\"sk-toggleable__content\"><pre>CountSemicolons()</pre></div></div></div></div></div></div><div class=\"sk-parallel-item\"><div class=\"sk-item\"><div class=\"sk-label-container\"><div class=\"sk-label sk-toggleable\"><label>std_word_length</label></div></div><div class=\"sk-serial\"><div class=\"sk-item\"><div class=\"sk-estimator sk-toggleable\"><input class=\"sk-toggleable__control sk-hidden--visually\" id=\"bd5f6ce7-524d-479f-b2a5-e3227df6cf8d\" type=\"checkbox\" ><label for=\"bd5f6ce7-524d-479f-b2a5-e3227df6cf8d\" class=\"sk-toggleable__label sk-toggleable__label-arrow\">StdWordLength</label><div class=\"sk-toggleable__content\"><pre>StdWordLength()</pre></div></div></div></div></div></div><div class=\"sk-parallel-item\"><div class=\"sk-item\"><div class=\"sk-label-container\"><div class=\"sk-label sk-toggleable\"><label>stopwords_proportion</label></div></div><div class=\"sk-serial\"><div class=\"sk-item\"><div class=\"sk-estimator sk-toggleable\"><input class=\"sk-toggleable__control sk-hidden--visually\" id=\"c3f1d64d-ef50-471e-a632-c848202d3e38\" type=\"checkbox\" ><label for=\"c3f1d64d-ef50-471e-a632-c848202d3e38\" class=\"sk-toggleable__label sk-toggleable__label-arrow\">CountStopsProp</label><div class=\"sk-toggleable__content\"><pre>CountStopsProp(stopwords={&#x27;a&#x27;, &#x27;about&#x27;, &#x27;above&#x27;, &#x27;after&#x27;, &#x27;again&#x27;, &#x27;against&#x27;,\n",
       "                          &#x27;ain&#x27;, &#x27;all&#x27;, &#x27;am&#x27;, &#x27;an&#x27;, &#x27;and&#x27;, &#x27;any&#x27;, &#x27;are&#x27;, &#x27;aren&#x27;,\n",
       "                          &quot;aren&#x27;t&quot;, &#x27;as&#x27;, &#x27;at&#x27;, &#x27;be&#x27;, &#x27;because&#x27;, &#x27;been&#x27;,\n",
       "                          &#x27;before&#x27;, &#x27;being&#x27;, &#x27;below&#x27;, &#x27;between&#x27;, &#x27;both&#x27;, &#x27;but&#x27;,\n",
       "                          &#x27;by&#x27;, &#x27;can&#x27;, &#x27;couldn&#x27;, &quot;couldn&#x27;t&quot;, ...})</pre></div></div></div></div></div></div><div class=\"sk-parallel-item\"><div class=\"sk-item\"><div class=\"sk-label-container\"><div class=\"sk-label sk-toggleable\"><label>feminine_stopwords_proportion</label></div></div><div class=\"sk-serial\"><div class=\"sk-item\"><div class=\"sk-estimator sk-toggleable\"><input class=\"sk-toggleable__control sk-hidden--visually\" id=\"d71bfa0b-531f-478c-af22-b51464857e31\" type=\"checkbox\" ><label for=\"d71bfa0b-531f-478c-af22-b51464857e31\" class=\"sk-toggleable__label sk-toggleable__label-arrow\">CountStopsProp</label><div class=\"sk-toggleable__content\"><pre>CountStopsProp(stopwords=[&#x27;her&#x27;, &#x27;hers&#x27;, &#x27;herself&#x27;, &#x27;she&#x27;, &quot;she&#x27;s&quot;])</pre></div></div></div></div></div></div><div class=\"sk-parallel-item\"><div class=\"sk-item\"><div class=\"sk-label-container\"><div class=\"sk-label sk-toggleable\"><label>allcaps_count</label></div></div><div class=\"sk-serial\"><div class=\"sk-item\"><div class=\"sk-estimator sk-toggleable\"><input class=\"sk-toggleable__control sk-hidden--visually\" id=\"4447c756-1fe5-4eb9-90af-7d21948c1a19\" type=\"checkbox\" ><label for=\"4447c756-1fe5-4eb9-90af-7d21948c1a19\" class=\"sk-toggleable__label sk-toggleable__label-arrow\">CountAllcaps</label><div class=\"sk-toggleable__content\"><pre>CountAllcaps()</pre></div></div></div></div></div></div></div></div></div></div></div><div class=\"sk-parallel-item\"><div class=\"sk-item\"><div class=\"sk-label-container\"><div class=\"sk-label sk-toggleable\"><label>tf_idf</label></div></div><div class=\"sk-serial\"><div class=\"sk-item sk-dashed-wrapped\"><div class=\"sk-parallel\"><div class=\"sk-parallel-item\"><div class=\"sk-item\"><div class=\"sk-label-container\"><div class=\"sk-label sk-toggleable\"><input class=\"sk-toggleable__control sk-hidden--visually\" id=\"05072cdf-a730-4498-b1b8-56a817dba076\" type=\"checkbox\" ><label for=\"05072cdf-a730-4498-b1b8-56a817dba076\" class=\"sk-toggleable__label sk-toggleable__label-arrow\">just_on_text_column</label><div class=\"sk-toggleable__content\"><pre>text</pre></div></div></div><div class=\"sk-serial\"><div class=\"sk-item sk-dashed-wrapped\"><div class=\"sk-parallel\"><div class=\"sk-parallel-item\"><div class=\"sk-item\"><div class=\"sk-label-container\"><div class=\"sk-label sk-toggleable\"><label>word_tf_idf</label></div></div><div class=\"sk-serial\"><div class=\"sk-item\"><div class=\"sk-estimator sk-toggleable\"><input class=\"sk-toggleable__control sk-hidden--visually\" id=\"1979805b-c8f6-413e-9d0d-4af8f257edcd\" type=\"checkbox\" ><label for=\"1979805b-c8f6-413e-9d0d-4af8f257edcd\" class=\"sk-toggleable__label sk-toggleable__label-arrow\">TfidfVectorizer</label><div class=\"sk-toggleable__content\"><pre>TfidfVectorizer(stop_words=&#x27;english&#x27;, strip_accents=&#x27;unicode&#x27;,\n",
       "                token_pattern=&#x27;\\\\w{1,}&#x27;)</pre></div></div></div></div></div></div><div class=\"sk-parallel-item\"><div class=\"sk-item\"><div class=\"sk-label-container\"><div class=\"sk-label sk-toggleable\"><label>letter_tf_idf</label></div></div><div class=\"sk-serial\"><div class=\"sk-item\"><div class=\"sk-estimator sk-toggleable\"><input class=\"sk-toggleable__control sk-hidden--visually\" id=\"ef0b7f1a-b11a-45b7-b799-6b3028680c7b\" type=\"checkbox\" ><label for=\"ef0b7f1a-b11a-45b7-b799-6b3028680c7b\" class=\"sk-toggleable__label sk-toggleable__label-arrow\">NgramVectorizer</label><div class=\"sk-toggleable__content\"><pre>NgramVectorizer(ngram_range=(2, 3))</pre></div></div></div></div></div></div></div></div></div></div></div></div></div></div></div></div></div></div><div class=\"sk-item\"><div class=\"sk-estimator sk-toggleable\"><input class=\"sk-toggleable__control sk-hidden--visually\" id=\"74c7261c-fb58-4eea-9b10-948cd2348a9b\" type=\"checkbox\" ><label for=\"74c7261c-fb58-4eea-9b10-948cd2348a9b\" class=\"sk-toggleable__label sk-toggleable__label-arrow\">XGBClassifier</label><div class=\"sk-toggleable__content\"><pre>XGBClassifier(base_score=None, booster=None, callbacks=None,\n",
       "              colsample_bylevel=None, colsample_bynode=None,\n",
       "              colsample_bytree=None, early_stopping_rounds=None,\n",
       "              enable_categorical=False, eval_metric=None, gamma=None,\n",
       "              gpu_id=None, grow_policy=None, importance_type=None,\n",
       "              interaction_constraints=None, learning_rate=None, max_bin=None,\n",
       "              max_cat_to_onehot=None, max_delta_step=None, max_depth=None,\n",
       "              max_leaves=None, min_child_weight=None, missing=nan,\n",
       "              monotone_constraints=None, n_estimators=100, n_jobs=None,\n",
       "              num_parallel_tree=None, predictor=None, random_state=None,\n",
       "              reg_alpha=None, reg_lambda=None, ...)</pre></div></div></div></div></div></div></div>"
      ],
      "text/plain": [
       "Pipeline(steps=[('feature_extraction',\n",
       "                 FeatureUnion(transformer_list=[('style_features',\n",
       "                                                 FeatureUnion(transformer_list=[('text_length',\n",
       "                                                                                 TextLength()),\n",
       "                                                                                ('punctuation_proportion',\n",
       "                                                                                 CountPunctuationProp()),\n",
       "                                                                                ('semicolon_count',\n",
       "                                                                                 CountSemicolons()),\n",
       "                                                                                ('std_word_length',\n",
       "                                                                                 StdWordLength()),\n",
       "                                                                                ('stopwords_proportion',\n",
       "                                                                                 CountStopsProp(stopwords={'a',\n",
       "                                                                                                           'about',\n",
       "                                                                                                           'above',\n",
       "                                                                                                           'after',\n",
       "                                                                                                           '...\n",
       "                               gamma=None, gpu_id=None, grow_policy=None,\n",
       "                               importance_type=None,\n",
       "                               interaction_constraints=None, learning_rate=None,\n",
       "                               max_bin=None, max_cat_to_onehot=None,\n",
       "                               max_delta_step=None, max_depth=None,\n",
       "                               max_leaves=None, min_child_weight=None,\n",
       "                               missing=nan, monotone_constraints=None,\n",
       "                               n_estimators=100, n_jobs=None,\n",
       "                               num_parallel_tree=None, predictor=None,\n",
       "                               random_state=None, reg_alpha=None,\n",
       "                               reg_lambda=None, ...))])"
      ]
     },
     "execution_count": 57,
     "metadata": {},
     "output_type": "execute_result"
    }
   ],
   "source": [
    "xgb_pipe_with_tfidf"
   ]
  },
  {
   "cell_type": "code",
   "execution_count": 58,
   "id": "54762f09",
   "metadata": {
    "execution": {
     "iopub.execute_input": "2022-12-04T01:47:46.731238Z",
     "iopub.status.busy": "2022-12-04T01:47:46.730805Z",
     "iopub.status.idle": "2022-12-04T01:50:42.141370Z",
     "shell.execute_reply": "2022-12-04T01:50:42.139961Z"
    },
    "papermill": {
     "duration": 175.486938,
     "end_time": "2022-12-04T01:50:42.177223",
     "exception": false,
     "start_time": "2022-12-04T01:47:46.690285",
     "status": "completed"
    },
    "tags": []
   },
   "outputs": [
    {
     "name": "stdout",
     "output_type": "stream",
     "text": [
      "CPU times: user 11min, sys: 855 ms, total: 11min 1s\n",
      "Wall time: 2min 55s\n"
     ]
    }
   ],
   "source": [
    "%%time \n",
    "_=xgb_pipe_with_tfidf.fit(data, author_codes)\n"
   ]
  },
  {
   "cell_type": "code",
   "execution_count": 59,
   "id": "7224f1d9",
   "metadata": {
    "execution": {
     "iopub.execute_input": "2022-12-04T01:50:42.258599Z",
     "iopub.status.busy": "2022-12-04T01:50:42.258210Z",
     "iopub.status.idle": "2022-12-04T01:50:48.076708Z",
     "shell.execute_reply": "2022-12-04T01:50:48.075593Z"
    },
    "papermill": {
     "duration": 5.861362,
     "end_time": "2022-12-04T01:50:48.079283",
     "exception": false,
     "start_time": "2022-12-04T01:50:42.217921",
     "status": "completed"
    },
    "tags": []
   },
   "outputs": [
    {
     "name": "stdout",
     "output_type": "stream",
     "text": [
      "CPU times: user 6.23 s, sys: 81.9 ms, total: 6.31 s\n",
      "Wall time: 5.81 s\n"
     ]
    }
   ],
   "source": [
    "%%time\n",
    "xgb2_author_probs = xgb_pipe_with_tfidf.predict_proba(data)\n",
    "\n"
   ]
  },
  {
   "cell_type": "code",
   "execution_count": 60,
   "id": "a4a79961",
   "metadata": {
    "execution": {
     "iopub.execute_input": "2022-12-04T01:50:48.165145Z",
     "iopub.status.busy": "2022-12-04T01:50:48.164586Z",
     "iopub.status.idle": "2022-12-04T01:50:48.178604Z",
     "shell.execute_reply": "2022-12-04T01:50:48.176963Z"
    },
    "papermill": {
     "duration": 0.06037,
     "end_time": "2022-12-04T01:50:48.181620",
     "exception": false,
     "start_time": "2022-12-04T01:50:48.121250",
     "status": "completed"
    },
    "tags": []
   },
   "outputs": [
    {
     "name": "stdout",
     "output_type": "stream",
     "text": [
      "Calibration log-loss score (XGB model): 0.339\n"
     ]
    }
   ],
   "source": [
    "print(f'Calibration log-loss score (XGB model): {log_loss(author_codes, xgb2_author_probs):.3f}')"
   ]
  },
  {
   "cell_type": "code",
   "execution_count": 61,
   "id": "0d9bc0a7",
   "metadata": {
    "execution": {
     "iopub.execute_input": "2022-12-04T01:50:48.264252Z",
     "iopub.status.busy": "2022-12-04T01:50:48.262910Z",
     "iopub.status.idle": "2022-12-04T02:02:25.279224Z",
     "shell.execute_reply": "2022-12-04T02:02:25.278008Z"
    },
    "papermill": {
     "duration": 697.093658,
     "end_time": "2022-12-04T02:02:25.315323",
     "exception": false,
     "start_time": "2022-12-04T01:50:48.221665",
     "status": "completed"
    },
    "tags": []
   },
   "outputs": [
    {
     "name": "stdout",
     "output_type": "stream",
     "text": [
      "Average validation log-loss score (XGB model): 0.618\n",
      "CPU times: user 43min 28s, sys: 2.95 s, total: 43min 31s\n",
      "Wall time: 11min 36s\n"
     ]
    }
   ],
   "source": [
    "%%time\n",
    "\n",
    "XGBcvscore = cross_validate(estimator = xgb_pipe_with_tfidf, \n",
    "                            cv = sfold5, \n",
    "                            scoring = 'neg_log_loss',\n",
    "                            return_estimator = True,\n",
    "                            X = data, y=author_codes)\n",
    "              \n",
    "print(f'Average validation log-loss score (XGB model): {-np.mean(XGBcvscore[\"test_score\"]):.3f}')"
   ]
  },
  {
   "cell_type": "code",
   "execution_count": 62,
   "id": "b6aceb48",
   "metadata": {
    "execution": {
     "iopub.execute_input": "2022-12-04T02:02:25.477786Z",
     "iopub.status.busy": "2022-12-04T02:02:25.477366Z",
     "iopub.status.idle": "2022-12-04T02:02:31.825575Z",
     "shell.execute_reply": "2022-12-04T02:02:31.824327Z"
    },
    "papermill": {
     "duration": 6.47383,
     "end_time": "2022-12-04T02:02:31.828517",
     "exception": false,
     "start_time": "2022-12-04T02:02:25.354687",
     "status": "completed"
    },
    "tags": []
   },
   "outputs": [
    {
     "name": "stdout",
     "output_type": "stream",
     "text": [
      "Cross-validated confusion matrix: XGB model\n",
      "Fold 1: cv log loss: 0.623\n",
      "Fold 2: cv log loss: 0.616\n",
      "Fold 3: cv log loss: 0.623\n",
      "Fold 4: cv log loss: 0.615\n",
      "Fold 5: cv log loss: 0.613\n",
      "[[6469  683  748]\n",
      " [1238 3984  413]\n",
      " [1402  527 4115]]\n"
     ]
    },
    {
     "data": {
      "image/png": "[encoded data removed]",
      "text/plain": [
       "<Figure size 432x288 with 2 Axes>"
      ]
     },
     "metadata": {
      "needs_background": "light"
     },
     "output_type": "display_data"
    }
   ],
   "source": [
    "print('Cross-validated confusion matrix: XGB model')\n",
    "plot_cv_confusion_matrix(XGBcvscore, sfold5)"
   ]
  },
  {
   "cell_type": "code",
   "execution_count": 63,
   "id": "39804b8b",
   "metadata": {
    "execution": {
     "iopub.execute_input": "2022-12-04T02:02:31.917345Z",
     "iopub.status.busy": "2022-12-04T02:02:31.916909Z",
     "iopub.status.idle": "2022-12-04T02:02:33.211522Z",
     "shell.execute_reply": "2022-12-04T02:02:33.210173Z"
    },
    "papermill": {
     "duration": 1.341137,
     "end_time": "2022-12-04T02:02:33.214477",
     "exception": false,
     "start_time": "2022-12-04T02:02:31.873340",
     "status": "completed"
    },
    "tags": []
   },
   "outputs": [
    {
     "data": {
      "image/png": "[encoded data removed]",
      "text/plain": [
       "<Figure size 576x1008 with 1 Axes>"
      ]
     },
     "metadata": {
      "needs_background": "light"
     },
     "output_type": "display_data"
    }
   ],
   "source": [
    "feature_names = [x[0] for x in StyleExtractor.transformer_list] + \\\n",
    "                [x.replace('just_on_text_column__','') for x in xgb_pipe_with_tfidf.steps[0][1].transformer_list[1][1].get_feature_names_out()]\n",
    "\n",
    "plt.figure(figsize=(8,14))\n",
    "feature_importance = xgb_pipe_with_tfidf.steps[-1][1].feature_importances_\n",
    "important_feature_names = [feature_names[x] for x in np.argsort(feature_importance)[::-1][:50]]\n",
    "plotdata=pd.DataFrame({'Feature name':important_feature_names,\n",
    "                      'Feature importance':[feature_importance[x] for x in np.argsort(feature_importance)[::-1][:50]]})\n",
    "_=sns.barplot(data=plotdata, x = 'Feature importance', y= 'Feature name')"
   ]
  },
  {
   "cell_type": "markdown",
   "id": "b777abd7",
   "metadata": {
    "papermill": {
     "duration": 0.042277,
     "end_time": "2022-12-04T02:02:33.301615",
     "exception": false,
     "start_time": "2022-12-04T02:02:33.259338",
     "status": "completed"
    },
    "tags": []
   },
   "source": [
    "The important features here tend to be a mix of the style-based features (feminine stop words and punctuation especially), word-based TF-IDF features (particularly proper nouns such as \"Raymond\" and \"Perdita\") and the character-based TF-IDF features, which tend to be closely associated with particular words (\"lov\" is clearly \"love\"/\"loved\"/\"loving\", etc.), rather than the uncommon ngrams like \"fht\" that I assumed would be associated with HPL.\n",
    "\n",
    "## 7.2 Multinomial Naive Bayes pipeline\n",
    "\n",
    "Let's see how the MNB model performs with all the engineered features in the pipeline."
   ]
  },
  {
   "cell_type": "code",
   "execution_count": 64,
   "id": "80257ca2",
   "metadata": {
    "execution": {
     "iopub.execute_input": "2022-12-04T02:02:33.391899Z",
     "iopub.status.busy": "2022-12-04T02:02:33.391469Z",
     "iopub.status.idle": "2022-12-04T02:02:33.839323Z",
     "shell.execute_reply": "2022-12-04T02:02:33.837938Z"
    },
    "papermill": {
     "duration": 0.496949,
     "end_time": "2022-12-04T02:02:33.842034",
     "exception": false,
     "start_time": "2022-12-04T02:02:33.345085",
     "status": "completed"
    },
    "tags": []
   },
   "outputs": [
    {
     "data": {
      "text/html": [
       "<style>#sk-e71e33b0-e5c5-442a-b55d-bcd1927e088d {color: black;background-color: white;}#sk-e71e33b0-e5c5-442a-b55d-bcd1927e088d pre{padding: 0;}#sk-e71e33b0-e5c5-442a-b55d-bcd1927e088d div.sk-toggleable {background-color: white;}#sk-e71e33b0-e5c5-442a-b55d-bcd1927e088d label.sk-toggleable__label {cursor: pointer;display: block;width: 100%;margin-bottom: 0;padding: 0.3em;box-sizing: border-box;text-align: center;}#sk-e71e33b0-e5c5-442a-b55d-bcd1927e088d label.sk-toggleable__label-arrow:before {content: \"▸\";float: left;margin-right: 0.25em;color: #696969;}#sk-e71e33b0-e5c5-442a-b55d-bcd1927e088d label.sk-toggleable__label-arrow:hover:before {color: black;}#sk-e71e33b0-e5c5-442a-b55d-bcd1927e088d div.sk-estimator:hover label.sk-toggleable__label-arrow:before {color: black;}#sk-e71e33b0-e5c5-442a-b55d-bcd1927e088d div.sk-toggleable__content {max-height: 0;max-width: 0;overflow: hidden;text-align: left;background-color: #f0f8ff;}#sk-e71e33b0-e5c5-442a-b55d-bcd1927e088d div.sk-toggleable__content pre {margin: 0.2em;color: black;border-radius: 0.25em;background-color: #f0f8ff;}#sk-e71e33b0-e5c5-442a-b55d-bcd1927e088d input.sk-toggleable__control:checked~div.sk-toggleable__content {max-height: 200px;max-width: 100%;overflow: auto;}#sk-e71e33b0-e5c5-442a-b55d-bcd1927e088d input.sk-toggleable__control:checked~label.sk-toggleable__label-arrow:before {content: \"▾\";}#sk-e71e33b0-e5c5-442a-b55d-bcd1927e088d div.sk-estimator input.sk-toggleable__control:checked~label.sk-toggleable__label {background-color: #d4ebff;}#sk-e71e33b0-e5c5-442a-b55d-bcd1927e088d div.sk-label input.sk-toggleable__control:checked~label.sk-toggleable__label {background-color: #d4ebff;}#sk-e71e33b0-e5c5-442a-b55d-bcd1927e088d input.sk-hidden--visually {border: 0;clip: rect(1px 1px 1px 1px);clip: rect(1px, 1px, 1px, 1px);height: 1px;margin: -1px;overflow: hidden;padding: 0;position: absolute;width: 1px;}#sk-e71e33b0-e5c5-442a-b55d-bcd1927e088d div.sk-estimator {font-family: monospace;background-color: #f0f8ff;border: 1px dotted black;border-radius: 0.25em;box-sizing: border-box;margin-bottom: 0.5em;}#sk-e71e33b0-e5c5-442a-b55d-bcd1927e088d div.sk-estimator:hover {background-color: #d4ebff;}#sk-e71e33b0-e5c5-442a-b55d-bcd1927e088d div.sk-parallel-item::after {content: \"\";width: 100%;border-bottom: 1px solid gray;flex-grow: 1;}#sk-e71e33b0-e5c5-442a-b55d-bcd1927e088d div.sk-label:hover label.sk-toggleable__label {background-color: #d4ebff;}#sk-e71e33b0-e5c5-442a-b55d-bcd1927e088d div.sk-serial::before {content: \"\";position: absolute;border-left: 1px solid gray;box-sizing: border-box;top: 2em;bottom: 0;left: 50%;}#sk-e71e33b0-e5c5-442a-b55d-bcd1927e088d div.sk-serial {display: flex;flex-direction: column;align-items: center;background-color: white;padding-right: 0.2em;padding-left: 0.2em;}#sk-e71e33b0-e5c5-442a-b55d-bcd1927e088d div.sk-item {z-index: 1;}#sk-e71e33b0-e5c5-442a-b55d-bcd1927e088d div.sk-parallel {display: flex;align-items: stretch;justify-content: center;background-color: white;}#sk-e71e33b0-e5c5-442a-b55d-bcd1927e088d div.sk-parallel::before {content: \"\";position: absolute;border-left: 1px solid gray;box-sizing: border-box;top: 2em;bottom: 0;left: 50%;}#sk-e71e33b0-e5c5-442a-b55d-bcd1927e088d div.sk-parallel-item {display: flex;flex-direction: column;position: relative;background-color: white;}#sk-e71e33b0-e5c5-442a-b55d-bcd1927e088d div.sk-parallel-item:first-child::after {align-self: flex-end;width: 50%;}#sk-e71e33b0-e5c5-442a-b55d-bcd1927e088d div.sk-parallel-item:last-child::after {align-self: flex-start;width: 50%;}#sk-e71e33b0-e5c5-442a-b55d-bcd1927e088d div.sk-parallel-item:only-child::after {width: 0;}#sk-e71e33b0-e5c5-442a-b55d-bcd1927e088d div.sk-dashed-wrapped {border: 1px dashed gray;margin: 0 0.4em 0.5em 0.4em;box-sizing: border-box;padding-bottom: 0.4em;background-color: white;position: relative;}#sk-e71e33b0-e5c5-442a-b55d-bcd1927e088d div.sk-label label {font-family: monospace;font-weight: bold;background-color: white;display: inline-block;line-height: 1.2em;}#sk-e71e33b0-e5c5-442a-b55d-bcd1927e088d div.sk-label-container {position: relative;z-index: 2;text-align: center;}#sk-e71e33b0-e5c5-442a-b55d-bcd1927e088d div.sk-container {/* jupyter's `normalize.less` sets `[hidden] { display: none; }` but bootstrap.min.css set `[hidden] { display: none !important; }` so we also need the `!important` here to be able to override the default hidden behavior on the sphinx rendered scikit-learn.org. See: https://github.com/scikit-learn/scikit-learn/issues/21755 */display: inline-block !important;position: relative;}#sk-e71e33b0-e5c5-442a-b55d-bcd1927e088d div.sk-text-repr-fallback {display: none;}</style><div id=\"sk-e71e33b0-e5c5-442a-b55d-bcd1927e088d\" class=\"sk-top-container\"><div class=\"sk-text-repr-fallback\"><pre>Pipeline(steps=[(&#x27;feature_extraction&#x27;,\n",
       "                 FeatureUnion(transformer_list=[(&#x27;style_features&#x27;,\n",
       "                                                 FeatureUnion(transformer_list=[(&#x27;text_length&#x27;,\n",
       "                                                                                 TextLength()),\n",
       "                                                                                (&#x27;punctuation_proportion&#x27;,\n",
       "                                                                                 CountPunctuationProp()),\n",
       "                                                                                (&#x27;semicolon_count&#x27;,\n",
       "                                                                                 CountSemicolons()),\n",
       "                                                                                (&#x27;std_word_length&#x27;,\n",
       "                                                                                 StdWordLength()),\n",
       "                                                                                (&#x27;stopwords_proportion&#x27;,\n",
       "                                                                                 CountStopsProp(stopwords={&#x27;a&#x27;,\n",
       "                                                                                                           &#x27;about&#x27;,\n",
       "                                                                                                           &#x27;above&#x27;,\n",
       "                                                                                                           &#x27;after&#x27;,\n",
       "                                                                                                           &#x27;...\n",
       "                                                                                                           &#x27;herself&#x27;,\n",
       "                                                                                                           &#x27;she&#x27;,\n",
       "                                                                                                           &quot;she&#x27;s&quot;])),\n",
       "                                                                                (&#x27;allcaps_count&#x27;,\n",
       "                                                                                 CountAllcaps())])),\n",
       "                                                (&#x27;tf_idf&#x27;,\n",
       "                                                 ColumnTransformer(transformers=[(&#x27;just_on_text_column&#x27;,\n",
       "                                                                                  FeatureUnion(transformer_list=[(&#x27;word_tf_idf&#x27;,\n",
       "                                                                                                                  TfidfVectorizer(stop_words=&#x27;english&#x27;,\n",
       "                                                                                                                                  strip_accents=&#x27;unicode&#x27;,\n",
       "                                                                                                                                  token_pattern=&#x27;\\\\w{1,}&#x27;)),\n",
       "                                                                                                                 (&#x27;letter_tf_idf&#x27;,\n",
       "                                                                                                                  NgramVectorizer(ngram_range=(2,\n",
       "                                                                                                                                               3)))]),\n",
       "                                                                                  &#x27;text&#x27;)]))])),\n",
       "                (&#x27;MNB&#x27;, MultinomialNB())])</pre><b>Please rerun this cell to show the HTML repr or trust the notebook.</b></div><div class=\"sk-container\" hidden><div class=\"sk-item sk-dashed-wrapped\"><div class=\"sk-label-container\"><div class=\"sk-label sk-toggleable\"><input class=\"sk-toggleable__control sk-hidden--visually\" id=\"02cbba23-8c1a-489d-ab63-e10f118c63b4\" type=\"checkbox\" ><label for=\"02cbba23-8c1a-489d-ab63-e10f118c63b4\" class=\"sk-toggleable__label sk-toggleable__label-arrow\">Pipeline</label><div class=\"sk-toggleable__content\"><pre>Pipeline(steps=[(&#x27;feature_extraction&#x27;,\n",
       "                 FeatureUnion(transformer_list=[(&#x27;style_features&#x27;,\n",
       "                                                 FeatureUnion(transformer_list=[(&#x27;text_length&#x27;,\n",
       "                                                                                 TextLength()),\n",
       "                                                                                (&#x27;punctuation_proportion&#x27;,\n",
       "                                                                                 CountPunctuationProp()),\n",
       "                                                                                (&#x27;semicolon_count&#x27;,\n",
       "                                                                                 CountSemicolons()),\n",
       "                                                                                (&#x27;std_word_length&#x27;,\n",
       "                                                                                 StdWordLength()),\n",
       "                                                                                (&#x27;stopwords_proportion&#x27;,\n",
       "                                                                                 CountStopsProp(stopwords={&#x27;a&#x27;,\n",
       "                                                                                                           &#x27;about&#x27;,\n",
       "                                                                                                           &#x27;above&#x27;,\n",
       "                                                                                                           &#x27;after&#x27;,\n",
       "                                                                                                           &#x27;...\n",
       "                                                                                                           &#x27;herself&#x27;,\n",
       "                                                                                                           &#x27;she&#x27;,\n",
       "                                                                                                           &quot;she&#x27;s&quot;])),\n",
       "                                                                                (&#x27;allcaps_count&#x27;,\n",
       "                                                                                 CountAllcaps())])),\n",
       "                                                (&#x27;tf_idf&#x27;,\n",
       "                                                 ColumnTransformer(transformers=[(&#x27;just_on_text_column&#x27;,\n",
       "                                                                                  FeatureUnion(transformer_list=[(&#x27;word_tf_idf&#x27;,\n",
       "                                                                                                                  TfidfVectorizer(stop_words=&#x27;english&#x27;,\n",
       "                                                                                                                                  strip_accents=&#x27;unicode&#x27;,\n",
       "                                                                                                                                  token_pattern=&#x27;\\\\w{1,}&#x27;)),\n",
       "                                                                                                                 (&#x27;letter_tf_idf&#x27;,\n",
       "                                                                                                                  NgramVectorizer(ngram_range=(2,\n",
       "                                                                                                                                               3)))]),\n",
       "                                                                                  &#x27;text&#x27;)]))])),\n",
       "                (&#x27;MNB&#x27;, MultinomialNB())])</pre></div></div></div><div class=\"sk-serial\"><div class=\"sk-item sk-dashed-wrapped\"><div class=\"sk-label-container\"><div class=\"sk-label sk-toggleable\"><input class=\"sk-toggleable__control sk-hidden--visually\" id=\"da4912c3-70c2-4871-b42a-194c72a08eba\" type=\"checkbox\" ><label for=\"da4912c3-70c2-4871-b42a-194c72a08eba\" class=\"sk-toggleable__label sk-toggleable__label-arrow\">feature_extraction: FeatureUnion</label><div class=\"sk-toggleable__content\"><pre>FeatureUnion(transformer_list=[(&#x27;style_features&#x27;,\n",
       "                                FeatureUnion(transformer_list=[(&#x27;text_length&#x27;,\n",
       "                                                                TextLength()),\n",
       "                                                               (&#x27;punctuation_proportion&#x27;,\n",
       "                                                                CountPunctuationProp()),\n",
       "                                                               (&#x27;semicolon_count&#x27;,\n",
       "                                                                CountSemicolons()),\n",
       "                                                               (&#x27;std_word_length&#x27;,\n",
       "                                                                StdWordLength()),\n",
       "                                                               (&#x27;stopwords_proportion&#x27;,\n",
       "                                                                CountStopsProp(stopwords={&#x27;a&#x27;,\n",
       "                                                                                          &#x27;about&#x27;,\n",
       "                                                                                          &#x27;above&#x27;,\n",
       "                                                                                          &#x27;after&#x27;,\n",
       "                                                                                          &#x27;again&#x27;,\n",
       "                                                                                          &#x27;against&#x27;,\n",
       "                                                                                          &#x27;ain&#x27;,\n",
       "                                                                                          &#x27;all&#x27;,\n",
       "                                                                                          &#x27;am&#x27;,\n",
       "                                                                                          &#x27;an&#x27;...\n",
       "                                                                CountStopsProp(stopwords=[&#x27;her&#x27;,\n",
       "                                                                                          &#x27;hers&#x27;,\n",
       "                                                                                          &#x27;herself&#x27;,\n",
       "                                                                                          &#x27;she&#x27;,\n",
       "                                                                                          &quot;she&#x27;s&quot;])),\n",
       "                                                               (&#x27;allcaps_count&#x27;,\n",
       "                                                                CountAllcaps())])),\n",
       "                               (&#x27;tf_idf&#x27;,\n",
       "                                ColumnTransformer(transformers=[(&#x27;just_on_text_column&#x27;,\n",
       "                                                                 FeatureUnion(transformer_list=[(&#x27;word_tf_idf&#x27;,\n",
       "                                                                                                 TfidfVectorizer(stop_words=&#x27;english&#x27;,\n",
       "                                                                                                                 strip_accents=&#x27;unicode&#x27;,\n",
       "                                                                                                                 token_pattern=&#x27;\\\\w{1,}&#x27;)),\n",
       "                                                                                                (&#x27;letter_tf_idf&#x27;,\n",
       "                                                                                                 NgramVectorizer(ngram_range=(2,\n",
       "                                                                                                                              3)))]),\n",
       "                                                                 &#x27;text&#x27;)]))])</pre></div></div></div><div class=\"sk-parallel\"><div class=\"sk-parallel-item\"><div class=\"sk-item\"><div class=\"sk-label-container\"><div class=\"sk-label sk-toggleable\"><label>style_features</label></div></div><div class=\"sk-serial\"><div class=\"sk-item sk-dashed-wrapped\"><div class=\"sk-parallel\"><div class=\"sk-parallel-item\"><div class=\"sk-item\"><div class=\"sk-label-container\"><div class=\"sk-label sk-toggleable\"><label>text_length</label></div></div><div class=\"sk-serial\"><div class=\"sk-item\"><div class=\"sk-estimator sk-toggleable\"><input class=\"sk-toggleable__control sk-hidden--visually\" id=\"bc27087f-1fa2-4daf-a1bc-82d434623e38\" type=\"checkbox\" ><label for=\"bc27087f-1fa2-4daf-a1bc-82d434623e38\" class=\"sk-toggleable__label sk-toggleable__label-arrow\">TextLength</label><div class=\"sk-toggleable__content\"><pre>TextLength()</pre></div></div></div></div></div></div><div class=\"sk-parallel-item\"><div class=\"sk-item\"><div class=\"sk-label-container\"><div class=\"sk-label sk-toggleable\"><label>punctuation_proportion</label></div></div><div class=\"sk-serial\"><div class=\"sk-item\"><div class=\"sk-estimator sk-toggleable\"><input class=\"sk-toggleable__control sk-hidden--visually\" id=\"5c3fee43-13d0-41cb-90dc-952e71ac8725\" type=\"checkbox\" ><label for=\"5c3fee43-13d0-41cb-90dc-952e71ac8725\" class=\"sk-toggleable__label sk-toggleable__label-arrow\">CountPunctuationProp</label><div class=\"sk-toggleable__content\"><pre>CountPunctuationProp()</pre></div></div></div></div></div></div><div class=\"sk-parallel-item\"><div class=\"sk-item\"><div class=\"sk-label-container\"><div class=\"sk-label sk-toggleable\"><label>semicolon_count</label></div></div><div class=\"sk-serial\"><div class=\"sk-item\"><div class=\"sk-estimator sk-toggleable\"><input class=\"sk-toggleable__control sk-hidden--visually\" id=\"7dee9f78-affa-47d8-97e0-9371b6b403f1\" type=\"checkbox\" ><label for=\"7dee9f78-affa-47d8-97e0-9371b6b403f1\" class=\"sk-toggleable__label sk-toggleable__label-arrow\">CountSemicolons</label><div class=\"sk-toggleable__content\"><pre>CountSemicolons()</pre></div></div></div></div></div></div><div class=\"sk-parallel-item\"><div class=\"sk-item\"><div class=\"sk-label-container\"><div class=\"sk-label sk-toggleable\"><label>std_word_length</label></div></div><div class=\"sk-serial\"><div class=\"sk-item\"><div class=\"sk-estimator sk-toggleable\"><input class=\"sk-toggleable__control sk-hidden--visually\" id=\"c9cd537e-9d3b-48ba-a720-63cd62d6dce4\" type=\"checkbox\" ><label for=\"c9cd537e-9d3b-48ba-a720-63cd62d6dce4\" class=\"sk-toggleable__label sk-toggleable__label-arrow\">StdWordLength</label><div class=\"sk-toggleable__content\"><pre>StdWordLength()</pre></div></div></div></div></div></div><div class=\"sk-parallel-item\"><div class=\"sk-item\"><div class=\"sk-label-container\"><div class=\"sk-label sk-toggleable\"><label>stopwords_proportion</label></div></div><div class=\"sk-serial\"><div class=\"sk-item\"><div class=\"sk-estimator sk-toggleable\"><input class=\"sk-toggleable__control sk-hidden--visually\" id=\"f09e7a93-edb9-4b46-b66c-0c5fa6942fa4\" type=\"checkbox\" ><label for=\"f09e7a93-edb9-4b46-b66c-0c5fa6942fa4\" class=\"sk-toggleable__label sk-toggleable__label-arrow\">CountStopsProp</label><div class=\"sk-toggleable__content\"><pre>CountStopsProp(stopwords={&#x27;a&#x27;, &#x27;about&#x27;, &#x27;above&#x27;, &#x27;after&#x27;, &#x27;again&#x27;, &#x27;against&#x27;,\n",
       "                          &#x27;ain&#x27;, &#x27;all&#x27;, &#x27;am&#x27;, &#x27;an&#x27;, &#x27;and&#x27;, &#x27;any&#x27;, &#x27;are&#x27;, &#x27;aren&#x27;,\n",
       "                          &quot;aren&#x27;t&quot;, &#x27;as&#x27;, &#x27;at&#x27;, &#x27;be&#x27;, &#x27;because&#x27;, &#x27;been&#x27;,\n",
       "                          &#x27;before&#x27;, &#x27;being&#x27;, &#x27;below&#x27;, &#x27;between&#x27;, &#x27;both&#x27;, &#x27;but&#x27;,\n",
       "                          &#x27;by&#x27;, &#x27;can&#x27;, &#x27;couldn&#x27;, &quot;couldn&#x27;t&quot;, ...})</pre></div></div></div></div></div></div><div class=\"sk-parallel-item\"><div class=\"sk-item\"><div class=\"sk-label-container\"><div class=\"sk-label sk-toggleable\"><label>feminine_stopwords_proportion</label></div></div><div class=\"sk-serial\"><div class=\"sk-item\"><div class=\"sk-estimator sk-toggleable\"><input class=\"sk-toggleable__control sk-hidden--visually\" id=\"ffed5631-782e-413a-bfdb-eb9e4d6b7aad\" type=\"checkbox\" ><label for=\"ffed5631-782e-413a-bfdb-eb9e4d6b7aad\" class=\"sk-toggleable__label sk-toggleable__label-arrow\">CountStopsProp</label><div class=\"sk-toggleable__content\"><pre>CountStopsProp(stopwords=[&#x27;her&#x27;, &#x27;hers&#x27;, &#x27;herself&#x27;, &#x27;she&#x27;, &quot;she&#x27;s&quot;])</pre></div></div></div></div></div></div><div class=\"sk-parallel-item\"><div class=\"sk-item\"><div class=\"sk-label-container\"><div class=\"sk-label sk-toggleable\"><label>allcaps_count</label></div></div><div class=\"sk-serial\"><div class=\"sk-item\"><div class=\"sk-estimator sk-toggleable\"><input class=\"sk-toggleable__control sk-hidden--visually\" id=\"33cbcf4e-8157-40c8-9200-be3979094f49\" type=\"checkbox\" ><label for=\"33cbcf4e-8157-40c8-9200-be3979094f49\" class=\"sk-toggleable__label sk-toggleable__label-arrow\">CountAllcaps</label><div class=\"sk-toggleable__content\"><pre>CountAllcaps()</pre></div></div></div></div></div></div></div></div></div></div></div><div class=\"sk-parallel-item\"><div class=\"sk-item\"><div class=\"sk-label-container\"><div class=\"sk-label sk-toggleable\"><label>tf_idf</label></div></div><div class=\"sk-serial\"><div class=\"sk-item sk-dashed-wrapped\"><div class=\"sk-parallel\"><div class=\"sk-parallel-item\"><div class=\"sk-item\"><div class=\"sk-label-container\"><div class=\"sk-label sk-toggleable\"><input class=\"sk-toggleable__control sk-hidden--visually\" id=\"c6848672-dc2d-44a3-840d-faf45f932a5d\" type=\"checkbox\" ><label for=\"c6848672-dc2d-44a3-840d-faf45f932a5d\" class=\"sk-toggleable__label sk-toggleable__label-arrow\">just_on_text_column</label><div class=\"sk-toggleable__content\"><pre>text</pre></div></div></div><div class=\"sk-serial\"><div class=\"sk-item sk-dashed-wrapped\"><div class=\"sk-parallel\"><div class=\"sk-parallel-item\"><div class=\"sk-item\"><div class=\"sk-label-container\"><div class=\"sk-label sk-toggleable\"><label>word_tf_idf</label></div></div><div class=\"sk-serial\"><div class=\"sk-item\"><div class=\"sk-estimator sk-toggleable\"><input class=\"sk-toggleable__control sk-hidden--visually\" id=\"9f774d6b-3c1e-48c7-898c-68b8186efc0b\" type=\"checkbox\" ><label for=\"9f774d6b-3c1e-48c7-898c-68b8186efc0b\" class=\"sk-toggleable__label sk-toggleable__label-arrow\">TfidfVectorizer</label><div class=\"sk-toggleable__content\"><pre>TfidfVectorizer(stop_words=&#x27;english&#x27;, strip_accents=&#x27;unicode&#x27;,\n",
       "                token_pattern=&#x27;\\\\w{1,}&#x27;)</pre></div></div></div></div></div></div><div class=\"sk-parallel-item\"><div class=\"sk-item\"><div class=\"sk-label-container\"><div class=\"sk-label sk-toggleable\"><label>letter_tf_idf</label></div></div><div class=\"sk-serial\"><div class=\"sk-item\"><div class=\"sk-estimator sk-toggleable\"><input class=\"sk-toggleable__control sk-hidden--visually\" id=\"38e7cc0d-c4b9-4d1b-bf81-0e8ae38dd0e9\" type=\"checkbox\" ><label for=\"38e7cc0d-c4b9-4d1b-bf81-0e8ae38dd0e9\" class=\"sk-toggleable__label sk-toggleable__label-arrow\">NgramVectorizer</label><div class=\"sk-toggleable__content\"><pre>NgramVectorizer(ngram_range=(2, 3))</pre></div></div></div></div></div></div></div></div></div></div></div></div></div></div></div></div></div></div><div class=\"sk-item\"><div class=\"sk-estimator sk-toggleable\"><input class=\"sk-toggleable__control sk-hidden--visually\" id=\"82676d03-0662-4473-8a65-d9e32dceff9e\" type=\"checkbox\" ><label for=\"82676d03-0662-4473-8a65-d9e32dceff9e\" class=\"sk-toggleable__label sk-toggleable__label-arrow\">MultinomialNB</label><div class=\"sk-toggleable__content\"><pre>MultinomialNB()</pre></div></div></div></div></div></div></div>"
      ],
      "text/plain": [
       "Pipeline(steps=[('feature_extraction',\n",
       "                 FeatureUnion(transformer_list=[('style_features',\n",
       "                                                 FeatureUnion(transformer_list=[('text_length',\n",
       "                                                                                 TextLength()),\n",
       "                                                                                ('punctuation_proportion',\n",
       "                                                                                 CountPunctuationProp()),\n",
       "                                                                                ('semicolon_count',\n",
       "                                                                                 CountSemicolons()),\n",
       "                                                                                ('std_word_length',\n",
       "                                                                                 StdWordLength()),\n",
       "                                                                                ('stopwords_proportion',\n",
       "                                                                                 CountStopsProp(stopwords={'a',\n",
       "                                                                                                           'about',\n",
       "                                                                                                           'above',\n",
       "                                                                                                           'after',\n",
       "                                                                                                           '...\n",
       "                                                                                                           'herself',\n",
       "                                                                                                           'she',\n",
       "                                                                                                           \"she's\"])),\n",
       "                                                                                ('allcaps_count',\n",
       "                                                                                 CountAllcaps())])),\n",
       "                                                ('tf_idf',\n",
       "                                                 ColumnTransformer(transformers=[('just_on_text_column',\n",
       "                                                                                  FeatureUnion(transformer_list=[('word_tf_idf',\n",
       "                                                                                                                  TfidfVectorizer(stop_words='english',\n",
       "                                                                                                                                  strip_accents='unicode',\n",
       "                                                                                                                                  token_pattern='\\\\w{1,}')),\n",
       "                                                                                                                 ('letter_tf_idf',\n",
       "                                                                                                                  NgramVectorizer(ngram_range=(2,\n",
       "                                                                                                                                               3)))]),\n",
       "                                                                                  'text')]))])),\n",
       "                ('MNB', MultinomialNB())])"
      ]
     },
     "execution_count": 64,
     "metadata": {},
     "output_type": "execute_result"
    }
   ],
   "source": [
    "MNB_pipe_with_tfidf = Pipeline([xgb_pipe_with_tfidf.steps[0],\n",
    "                               ('MNB', MultinomialNB())])\n",
    "MNB_pipe_with_tfidf"
   ]
  },
  {
   "cell_type": "code",
   "execution_count": 65,
   "id": "1e135dd5",
   "metadata": {
    "execution": {
     "iopub.execute_input": "2022-12-04T02:02:33.928901Z",
     "iopub.status.busy": "2022-12-04T02:02:33.928454Z",
     "iopub.status.idle": "2022-12-04T02:02:48.334313Z",
     "shell.execute_reply": "2022-12-04T02:02:48.332989Z"
    },
    "papermill": {
     "duration": 14.452514,
     "end_time": "2022-12-04T02:02:48.336940",
     "exception": false,
     "start_time": "2022-12-04T02:02:33.884426",
     "status": "completed"
    },
    "tags": []
   },
   "outputs": [
    {
     "name": "stdout",
     "output_type": "stream",
     "text": [
      "Calibration log-loss score (MNB model): 0.395\n",
      "CPU times: user 14.2 s, sys: 198 ms, total: 14.4 s\n",
      "Wall time: 14.4 s\n"
     ]
    }
   ],
   "source": [
    "%%time\n",
    "MNB_pipe_with_tfidf.fit(data, author_codes)\n",
    "print(f'Calibration log-loss score (MNB model): {log_loss(author_codes, MNB_pipe_with_tfidf.predict_proba(data)):.3f}')"
   ]
  },
  {
   "cell_type": "code",
   "execution_count": 66,
   "id": "11c1cdcd",
   "metadata": {
    "execution": {
     "iopub.execute_input": "2022-12-04T02:02:48.426559Z",
     "iopub.status.busy": "2022-12-04T02:02:48.426147Z",
     "iopub.status.idle": "2022-12-04T02:03:29.047770Z",
     "shell.execute_reply": "2022-12-04T02:03:29.046538Z"
    },
    "papermill": {
     "duration": 40.714269,
     "end_time": "2022-12-04T02:03:29.094812",
     "exception": false,
     "start_time": "2022-12-04T02:02:48.380543",
     "status": "completed"
    },
    "tags": []
   },
   "outputs": [
    {
     "name": "stdout",
     "output_type": "stream",
     "text": [
      "Average validation log-loss score (MNB model): 0.553\n"
     ]
    }
   ],
   "source": [
    "MNBcvscore = cross_validate(estimator = MNB_pipe_with_tfidf, \n",
    "                            cv = sfold5, \n",
    "                            scoring = 'neg_log_loss', \n",
    "                            return_estimator = True,              \n",
    "                            X = data, y=author_codes)\n",
    "\n",
    "print(f'Average validation log-loss score (MNB model): {-np.mean(MNBcvscore[\"test_score\"]):.3f}')"
   ]
  },
  {
   "cell_type": "markdown",
   "id": "fcd1af1b",
   "metadata": {
    "papermill": {
     "duration": 0.043365,
     "end_time": "2022-12-04T02:03:29.181954",
     "exception": false,
     "start_time": "2022-12-04T02:03:29.138589",
     "status": "completed"
    },
    "tags": []
   },
   "source": [
    "Whereas the XGBoost model including TF-IDF features does better in training-set log loss compared to cross-validated log loss, the MNB model including TF-IDF does better in the average cross-validated log loss. This suggests that the XGB pipe as implemented above is overfitting the training data. The confusion matrix from the MNB model looks pretty good, although the main problem seems to be HPL texts miscategorised as EAP:"
   ]
  },
  {
   "cell_type": "code",
   "execution_count": 67,
   "id": "73df7dc0",
   "metadata": {
    "execution": {
     "iopub.execute_input": "2022-12-04T02:03:29.272574Z",
     "iopub.status.busy": "2022-12-04T02:03:29.271925Z",
     "iopub.status.idle": "2022-12-04T02:03:35.259226Z",
     "shell.execute_reply": "2022-12-04T02:03:35.257871Z"
    },
    "papermill": {
     "duration": 6.035477,
     "end_time": "2022-12-04T02:03:35.261598",
     "exception": false,
     "start_time": "2022-12-04T02:03:29.226121",
     "status": "completed"
    },
    "tags": []
   },
   "outputs": [
    {
     "name": "stdout",
     "output_type": "stream",
     "text": [
      "Cross-validated confusion matrix: MNB model\n",
      "Fold 1: cv log loss: 0.571\n",
      "Fold 2: cv log loss: 0.547\n",
      "Fold 3: cv log loss: 0.550\n",
      "Fold 4: cv log loss: 0.551\n",
      "Fold 5: cv log loss: 0.544\n",
      "[[7170  216  514]\n",
      " [1873 3370  392]\n",
      " [1337  125 4582]]\n"
     ]
    },
    {
     "data": {
      "image/png": "[encoded data removed]",
      "text/plain": [
       "<Figure size 432x288 with 2 Axes>"
      ]
     },
     "metadata": {
      "needs_background": "light"
     },
     "output_type": "display_data"
    }
   ],
   "source": [
    "print('Cross-validated confusion matrix: MNB model')\n",
    "plot_cv_confusion_matrix(MNBcvscore, sfold5)"
   ]
  },
  {
   "cell_type": "markdown",
   "id": "97382b0e",
   "metadata": {
    "papermill": {
     "duration": 0.042712,
     "end_time": "2022-12-04T02:03:35.348091",
     "exception": false,
     "start_time": "2022-12-04T02:03:35.305379",
     "status": "completed"
    },
    "tags": []
   },
   "source": [
    "## 7.3 Latent Semantic Analysis\n",
    "\n",
    "I also considered a [TruncatedSVD](https://www.kaggle.com/code/sudalairajkumar/simple-feature-engg-notebook-spooky-author) aggregation of the TF-IDF features (also known as [Latent Semantic Analysis (LSA)](https://en.wikipedia.org/wiki/Latent_semantic_analysis), but this didn't seem to improve predictions. Something to look into further!"
   ]
  },
  {
   "cell_type": "markdown",
   "id": "24ec2e10",
   "metadata": {
    "papermill": {
     "duration": 0.043575,
     "end_time": "2022-12-04T02:03:35.434996",
     "exception": false,
     "start_time": "2022-12-04T02:03:35.391421",
     "status": "completed"
    },
    "tags": []
   },
   "source": [
    "# <p style=\"background-color:darkred;color:white;font-family:verdana;font-size:120%;text-align:center;border-radius: 15px 50px;\">8. Parameter tuning</p>\n",
    "\n",
    "It wouldn't be a kaggle notebook without a little hyperparameter tuning 😂. Luckily `MultinomialNB` has a smoothing parameter $\\alpha$ that we can tune. Also, I try out a few different options for the word- and character-level TF-IDF ngram range, and whether or not we strip punctuation from text before the character-level TF-IDF processing."
   ]
  },
  {
   "cell_type": "code",
   "execution_count": 68,
   "id": "a9ae8f6c",
   "metadata": {
    "execution": {
     "iopub.execute_input": "2022-12-04T02:03:35.523366Z",
     "iopub.status.busy": "2022-12-04T02:03:35.522936Z",
     "iopub.status.idle": "2022-12-04T02:49:19.365467Z",
     "shell.execute_reply": "2022-12-04T02:49:19.363948Z"
    },
    "papermill": {
     "duration": 2743.936103,
     "end_time": "2022-12-04T02:49:19.414236",
     "exception": false,
     "start_time": "2022-12-04T02:03:35.478133",
     "status": "completed"
    },
    "tags": []
   },
   "outputs": [
    {
     "name": "stdout",
     "output_type": "stream",
     "text": [
      "Best alpha parameter: 0.04\n",
      "CPU times: user 45min 9s, sys: 28.5 s, total: 45min 38s\n",
      "Wall time: 45min 43s\n"
     ]
    }
   ],
   "source": [
    "%%time\n",
    "param_grid = {'MNB__alpha':[0.05,0.1],\n",
    "              'feature_extraction__tf_idf__just_on_text_column__word_tf_idf__ngram_range':[(1,1)],\n",
    "              'feature_extraction__tf_idf__just_on_text_column__letter_tf_idf__ngram_range':[(2,3)],\n",
    "              'feature_extraction__tf_idf__just_on_text_column__letter_tf_idf__strip_punctuation': [True, False]} if QUICKRUN else \\\n",
    "             {'MNB__alpha':[0.01,0.04,0.05,0.065,0.1],\n",
    "              'feature_extraction__tf_idf__just_on_text_column__word_tf_idf__ngram_range':[(1,1), (1,2)],\n",
    "              'feature_extraction__tf_idf__just_on_text_column__letter_tf_idf__ngram_range':[(2,3), (3,4), (2, 4)],\n",
    "              'feature_extraction__tf_idf__just_on_text_column__letter_tf_idf__strip_punctuation': [True, False]}\n",
    "from sklearn.model_selection import GridSearchCV\n",
    "gscv = GridSearchCV(estimator = MNB_pipe_with_tfidf,\n",
    "                    cv = sfold5,\n",
    "                    scoring = 'neg_log_loss',\n",
    "                    param_grid = param_grid)\n",
    "\n",
    "\n",
    "_=gscv.fit(data, author_codes)\n",
    "\n",
    "print(f'Best alpha parameter: {gscv.best_params_[\"MNB__alpha\"]}')"
   ]
  },
  {
   "cell_type": "markdown",
   "id": "4c3ca27c",
   "metadata": {
    "papermill": {
     "duration": 0.0462,
     "end_time": "2022-12-04T02:49:19.505897",
     "exception": false,
     "start_time": "2022-12-04T02:49:19.459697",
     "status": "completed"
    },
    "tags": []
   },
   "source": [
    "Best results are obtained for the smoothing parameter $\\alpha$ around 0.05 rather than the default provided by scikit-learn of 1."
   ]
  },
  {
   "cell_type": "code",
   "execution_count": 69,
   "id": "75d27adc",
   "metadata": {
    "execution": {
     "iopub.execute_input": "2022-12-04T02:49:19.601449Z",
     "iopub.status.busy": "2022-12-04T02:49:19.600630Z",
     "iopub.status.idle": "2022-12-04T02:49:19.775617Z",
     "shell.execute_reply": "2022-12-04T02:49:19.774436Z"
    },
    "papermill": {
     "duration": 0.224086,
     "end_time": "2022-12-04T02:49:19.778361",
     "exception": false,
     "start_time": "2022-12-04T02:49:19.554275",
     "status": "completed"
    },
    "tags": []
   },
   "outputs": [
    {
     "data": {
      "image/png": "[encoded data removed]",
      "text/plain": [
       "<Figure size 432x288 with 1 Axes>"
      ]
     },
     "metadata": {
      "needs_background": "light"
     },
     "output_type": "display_data"
    }
   ],
   "source": [
    "plt.plot(gscv.cv_results_['param_MNB__alpha'].data, -gscv.cv_results_['mean_test_score'],'ro')\n",
    "_=plt.gca().set_ylabel('Cross-validated log-loss')\n",
    "_=plt.gca().set_xlabel('MNB smoothing parameter: alpha')"
   ]
  },
  {
   "cell_type": "markdown",
   "id": "3353b5b1",
   "metadata": {
    "execution": {
     "iopub.execute_input": "2022-11-12T23:43:48.060462Z",
     "iopub.status.busy": "2022-11-12T23:43:48.059308Z",
     "iopub.status.idle": "2022-11-12T23:43:48.085765Z",
     "shell.execute_reply": "2022-11-12T23:43:48.084718Z",
     "shell.execute_reply.started": "2022-11-12T23:43:48.060417Z"
    },
    "papermill": {
     "duration": 0.046112,
     "end_time": "2022-12-04T02:49:19.872998",
     "exception": false,
     "start_time": "2022-12-04T02:49:19.826886",
     "status": "completed"
    },
    "tags": []
   },
   "source": [
    "Let's see the minimum value for each non-$\\alpha$ parameter combination."
   ]
  },
  {
   "cell_type": "code",
   "execution_count": 70,
   "id": "059e39bf",
   "metadata": {
    "execution": {
     "iopub.execute_input": "2022-12-04T02:49:19.968804Z",
     "iopub.status.busy": "2022-12-04T02:49:19.968054Z",
     "iopub.status.idle": "2022-12-04T02:49:19.999696Z",
     "shell.execute_reply": "2022-12-04T02:49:19.998219Z"
    },
    "papermill": {
     "duration": 0.08323,
     "end_time": "2022-12-04T02:49:20.002870",
     "exception": false,
     "start_time": "2022-12-04T02:49:19.919640",
     "status": "completed"
    },
    "tags": []
   },
   "outputs": [
    {
     "data": {
      "text/html": [
       "<div>\n",
       "<style scoped>\n",
       "    .dataframe tbody tr th:only-of-type {\n",
       "        vertical-align: middle;\n",
       "    }\n",
       "\n",
       "    .dataframe tbody tr th {\n",
       "        vertical-align: top;\n",
       "    }\n",
       "\n",
       "    .dataframe thead th {\n",
       "        text-align: right;\n",
       "    }\n",
       "</style>\n",
       "<table border=\"1\" class=\"dataframe\">\n",
       "  <thead>\n",
       "    <tr style=\"text-align: right;\">\n",
       "      <th></th>\n",
       "      <th></th>\n",
       "      <th></th>\n",
       "      <th>score</th>\n",
       "    </tr>\n",
       "    <tr>\n",
       "      <th>word_ngram_range</th>\n",
       "      <th>letter_ngram_range</th>\n",
       "      <th>strip_punctuation</th>\n",
       "      <th></th>\n",
       "    </tr>\n",
       "  </thead>\n",
       "  <tbody>\n",
       "    <tr>\n",
       "      <th rowspan=\"6\" valign=\"top\">(1, 1)</th>\n",
       "      <th rowspan=\"2\" valign=\"top\">(2, 3)</th>\n",
       "      <th>False</th>\n",
       "      <td>0.399240</td>\n",
       "    </tr>\n",
       "    <tr>\n",
       "      <th>True</th>\n",
       "      <td>0.410864</td>\n",
       "    </tr>\n",
       "    <tr>\n",
       "      <th rowspan=\"2\" valign=\"top\">(2, 4)</th>\n",
       "      <th>False</th>\n",
       "      <td>0.402342</td>\n",
       "    </tr>\n",
       "    <tr>\n",
       "      <th>True</th>\n",
       "      <td>0.416868</td>\n",
       "    </tr>\n",
       "    <tr>\n",
       "      <th rowspan=\"2\" valign=\"top\">(3, 4)</th>\n",
       "      <th>False</th>\n",
       "      <td>0.402949</td>\n",
       "    </tr>\n",
       "    <tr>\n",
       "      <th>True</th>\n",
       "      <td>0.416163</td>\n",
       "    </tr>\n",
       "    <tr>\n",
       "      <th rowspan=\"6\" valign=\"top\">(1, 2)</th>\n",
       "      <th rowspan=\"2\" valign=\"top\">(2, 3)</th>\n",
       "      <th>False</th>\n",
       "      <td>0.383068</td>\n",
       "    </tr>\n",
       "    <tr>\n",
       "      <th>True</th>\n",
       "      <td>0.393639</td>\n",
       "    </tr>\n",
       "    <tr>\n",
       "      <th rowspan=\"2\" valign=\"top\">(2, 4)</th>\n",
       "      <th>False</th>\n",
       "      <td>0.389983</td>\n",
       "    </tr>\n",
       "    <tr>\n",
       "      <th>True</th>\n",
       "      <td>0.403807</td>\n",
       "    </tr>\n",
       "    <tr>\n",
       "      <th rowspan=\"2\" valign=\"top\">(3, 4)</th>\n",
       "      <th>False</th>\n",
       "      <td>0.391482</td>\n",
       "    </tr>\n",
       "    <tr>\n",
       "      <th>True</th>\n",
       "      <td>0.404161</td>\n",
       "    </tr>\n",
       "  </tbody>\n",
       "</table>\n",
       "</div>"
      ],
      "text/plain": [
       "                                                          score\n",
       "word_ngram_range letter_ngram_range strip_punctuation          \n",
       "(1, 1)           (2, 3)             False              0.399240\n",
       "                                    True               0.410864\n",
       "                 (2, 4)             False              0.402342\n",
       "                                    True               0.416868\n",
       "                 (3, 4)             False              0.402949\n",
       "                                    True               0.416163\n",
       "(1, 2)           (2, 3)             False              0.383068\n",
       "                                    True               0.393639\n",
       "                 (2, 4)             False              0.389983\n",
       "                                    True               0.403807\n",
       "                 (3, 4)             False              0.391482\n",
       "                                    True               0.404161"
      ]
     },
     "execution_count": 70,
     "metadata": {},
     "output_type": "execute_result"
    }
   ],
   "source": [
    "cvres_df = pd.DataFrame({'alpha': gscv.cv_results_['param_MNB__alpha'].data,\n",
    "                         'strip_punctuation': gscv.cv_results_['param_feature_extraction__tf_idf__just_on_text_column__letter_tf_idf__strip_punctuation'].data,\n",
    "                         'word_ngram_range': gscv.cv_results_['param_feature_extraction__tf_idf__just_on_text_column__word_tf_idf__ngram_range'].data,\n",
    "                         'letter_ngram_range': gscv.cv_results_['param_feature_extraction__tf_idf__just_on_text_column__letter_tf_idf__ngram_range'].data,\n",
    "                         'score': -gscv.cv_results_['mean_test_score']\n",
    "                         })\n",
    "pd.DataFrame(cvres_df.groupby(['word_ngram_range','letter_ngram_range','strip_punctuation',])['score'].min())"
   ]
  },
  {
   "cell_type": "code",
   "execution_count": 71,
   "id": "ce98d5a0",
   "metadata": {
    "execution": {
     "iopub.execute_input": "2022-12-04T02:49:20.098606Z",
     "iopub.status.busy": "2022-12-04T02:49:20.098160Z",
     "iopub.status.idle": "2022-12-04T02:49:23.236913Z",
     "shell.execute_reply": "2022-12-04T02:49:23.235570Z"
    },
    "papermill": {
     "duration": 3.189377,
     "end_time": "2022-12-04T02:49:23.239509",
     "exception": false,
     "start_time": "2022-12-04T02:49:20.050132",
     "status": "completed"
    },
    "tags": []
   },
   "outputs": [
    {
     "name": "stdout",
     "output_type": "stream",
     "text": [
      "CPU times: user 2.64 s, sys: 1.02 ms, total: 2.64 s\n",
      "Wall time: 2.66 s\n"
     ]
    },
    {
     "data": {
      "text/html": [
       "<style>#sk-ac2d2c1c-f2a8-478d-af0a-200fe14cf70e {color: black;background-color: white;}#sk-ac2d2c1c-f2a8-478d-af0a-200fe14cf70e pre{padding: 0;}#sk-ac2d2c1c-f2a8-478d-af0a-200fe14cf70e div.sk-toggleable {background-color: white;}#sk-ac2d2c1c-f2a8-478d-af0a-200fe14cf70e label.sk-toggleable__label {cursor: pointer;display: block;width: 100%;margin-bottom: 0;padding: 0.3em;box-sizing: border-box;text-align: center;}#sk-ac2d2c1c-f2a8-478d-af0a-200fe14cf70e label.sk-toggleable__label-arrow:before {content: \"▸\";float: left;margin-right: 0.25em;color: #696969;}#sk-ac2d2c1c-f2a8-478d-af0a-200fe14cf70e label.sk-toggleable__label-arrow:hover:before {color: black;}#sk-ac2d2c1c-f2a8-478d-af0a-200fe14cf70e div.sk-estimator:hover label.sk-toggleable__label-arrow:before {color: black;}#sk-ac2d2c1c-f2a8-478d-af0a-200fe14cf70e div.sk-toggleable__content {max-height: 0;max-width: 0;overflow: hidden;text-align: left;background-color: #f0f8ff;}#sk-ac2d2c1c-f2a8-478d-af0a-200fe14cf70e div.sk-toggleable__content pre {margin: 0.2em;color: black;border-radius: 0.25em;background-color: #f0f8ff;}#sk-ac2d2c1c-f2a8-478d-af0a-200fe14cf70e input.sk-toggleable__control:checked~div.sk-toggleable__content {max-height: 200px;max-width: 100%;overflow: auto;}#sk-ac2d2c1c-f2a8-478d-af0a-200fe14cf70e input.sk-toggleable__control:checked~label.sk-toggleable__label-arrow:before {content: \"▾\";}#sk-ac2d2c1c-f2a8-478d-af0a-200fe14cf70e div.sk-estimator input.sk-toggleable__control:checked~label.sk-toggleable__label {background-color: #d4ebff;}#sk-ac2d2c1c-f2a8-478d-af0a-200fe14cf70e div.sk-label input.sk-toggleable__control:checked~label.sk-toggleable__label {background-color: #d4ebff;}#sk-ac2d2c1c-f2a8-478d-af0a-200fe14cf70e input.sk-hidden--visually {border: 0;clip: rect(1px 1px 1px 1px);clip: rect(1px, 1px, 1px, 1px);height: 1px;margin: -1px;overflow: hidden;padding: 0;position: absolute;width: 1px;}#sk-ac2d2c1c-f2a8-478d-af0a-200fe14cf70e div.sk-estimator {font-family: monospace;background-color: #f0f8ff;border: 1px dotted black;border-radius: 0.25em;box-sizing: border-box;margin-bottom: 0.5em;}#sk-ac2d2c1c-f2a8-478d-af0a-200fe14cf70e div.sk-estimator:hover {background-color: #d4ebff;}#sk-ac2d2c1c-f2a8-478d-af0a-200fe14cf70e div.sk-parallel-item::after {content: \"\";width: 100%;border-bottom: 1px solid gray;flex-grow: 1;}#sk-ac2d2c1c-f2a8-478d-af0a-200fe14cf70e div.sk-label:hover label.sk-toggleable__label {background-color: #d4ebff;}#sk-ac2d2c1c-f2a8-478d-af0a-200fe14cf70e div.sk-serial::before {content: \"\";position: absolute;border-left: 1px solid gray;box-sizing: border-box;top: 2em;bottom: 0;left: 50%;}#sk-ac2d2c1c-f2a8-478d-af0a-200fe14cf70e div.sk-serial {display: flex;flex-direction: column;align-items: center;background-color: white;padding-right: 0.2em;padding-left: 0.2em;}#sk-ac2d2c1c-f2a8-478d-af0a-200fe14cf70e div.sk-item {z-index: 1;}#sk-ac2d2c1c-f2a8-478d-af0a-200fe14cf70e div.sk-parallel {display: flex;align-items: stretch;justify-content: center;background-color: white;}#sk-ac2d2c1c-f2a8-478d-af0a-200fe14cf70e div.sk-parallel::before {content: \"\";position: absolute;border-left: 1px solid gray;box-sizing: border-box;top: 2em;bottom: 0;left: 50%;}#sk-ac2d2c1c-f2a8-478d-af0a-200fe14cf70e div.sk-parallel-item {display: flex;flex-direction: column;position: relative;background-color: white;}#sk-ac2d2c1c-f2a8-478d-af0a-200fe14cf70e div.sk-parallel-item:first-child::after {align-self: flex-end;width: 50%;}#sk-ac2d2c1c-f2a8-478d-af0a-200fe14cf70e div.sk-parallel-item:last-child::after {align-self: flex-start;width: 50%;}#sk-ac2d2c1c-f2a8-478d-af0a-200fe14cf70e div.sk-parallel-item:only-child::after {width: 0;}#sk-ac2d2c1c-f2a8-478d-af0a-200fe14cf70e div.sk-dashed-wrapped {border: 1px dashed gray;margin: 0 0.4em 0.5em 0.4em;box-sizing: border-box;padding-bottom: 0.4em;background-color: white;position: relative;}#sk-ac2d2c1c-f2a8-478d-af0a-200fe14cf70e div.sk-label label {font-family: monospace;font-weight: bold;background-color: white;display: inline-block;line-height: 1.2em;}#sk-ac2d2c1c-f2a8-478d-af0a-200fe14cf70e div.sk-label-container {position: relative;z-index: 2;text-align: center;}#sk-ac2d2c1c-f2a8-478d-af0a-200fe14cf70e div.sk-container {/* jupyter's `normalize.less` sets `[hidden] { display: none; }` but bootstrap.min.css set `[hidden] { display: none !important; }` so we also need the `!important` here to be able to override the default hidden behavior on the sphinx rendered scikit-learn.org. See: https://github.com/scikit-learn/scikit-learn/issues/21755 */display: inline-block !important;position: relative;}#sk-ac2d2c1c-f2a8-478d-af0a-200fe14cf70e div.sk-text-repr-fallback {display: none;}</style><div id=\"sk-ac2d2c1c-f2a8-478d-af0a-200fe14cf70e\" class=\"sk-top-container\"><div class=\"sk-text-repr-fallback\"><pre>Pipeline(steps=[(&#x27;feature_extraction&#x27;,\n",
       "                 FeatureUnion(transformer_list=[(&#x27;style_features&#x27;,\n",
       "                                                 FeatureUnion(transformer_list=[(&#x27;text_length&#x27;,\n",
       "                                                                                 TextLength()),\n",
       "                                                                                (&#x27;punctuation_proportion&#x27;,\n",
       "                                                                                 CountPunctuationProp()),\n",
       "                                                                                (&#x27;semicolon_count&#x27;,\n",
       "                                                                                 CountSemicolons()),\n",
       "                                                                                (&#x27;std_word_length&#x27;,\n",
       "                                                                                 StdWordLength()),\n",
       "                                                                                (&#x27;stopwords_proportion&#x27;,\n",
       "                                                                                 CountStopsProp(stopwords={&#x27;a&#x27;,\n",
       "                                                                                                           &#x27;about&#x27;,\n",
       "                                                                                                           &#x27;above&#x27;,\n",
       "                                                                                                           &#x27;after&#x27;,\n",
       "                                                                                                           &#x27;...\n",
       "                                                                                 CountAllcaps())])),\n",
       "                                                (&#x27;tf_idf&#x27;,\n",
       "                                                 ColumnTransformer(transformers=[(&#x27;just_on_text_column&#x27;,\n",
       "                                                                                  FeatureUnion(transformer_list=[(&#x27;word_tf_idf&#x27;,\n",
       "                                                                                                                  TfidfVectorizer(ngram_range=(1,\n",
       "                                                                                                                                               2),\n",
       "                                                                                                                                  stop_words=&#x27;english&#x27;,\n",
       "                                                                                                                                  strip_accents=&#x27;unicode&#x27;,\n",
       "                                                                                                                                  token_pattern=&#x27;\\\\w{1,}&#x27;)),\n",
       "                                                                                                                 (&#x27;letter_tf_idf&#x27;,\n",
       "                                                                                                                  NgramVectorizer(ngram_range=(2,\n",
       "                                                                                                                                               3),\n",
       "                                                                                                                                  strip_punctuation=False))]),\n",
       "                                                                                  &#x27;text&#x27;)]))])),\n",
       "                (&#x27;MNB&#x27;, MultinomialNB(alpha=0.04))])</pre><b>Please rerun this cell to show the HTML repr or trust the notebook.</b></div><div class=\"sk-container\" hidden><div class=\"sk-item sk-dashed-wrapped\"><div class=\"sk-label-container\"><div class=\"sk-label sk-toggleable\"><input class=\"sk-toggleable__control sk-hidden--visually\" id=\"569a9e05-b762-4750-bfb1-4399fc57cecd\" type=\"checkbox\" ><label for=\"569a9e05-b762-4750-bfb1-4399fc57cecd\" class=\"sk-toggleable__label sk-toggleable__label-arrow\">Pipeline</label><div class=\"sk-toggleable__content\"><pre>Pipeline(steps=[(&#x27;feature_extraction&#x27;,\n",
       "                 FeatureUnion(transformer_list=[(&#x27;style_features&#x27;,\n",
       "                                                 FeatureUnion(transformer_list=[(&#x27;text_length&#x27;,\n",
       "                                                                                 TextLength()),\n",
       "                                                                                (&#x27;punctuation_proportion&#x27;,\n",
       "                                                                                 CountPunctuationProp()),\n",
       "                                                                                (&#x27;semicolon_count&#x27;,\n",
       "                                                                                 CountSemicolons()),\n",
       "                                                                                (&#x27;std_word_length&#x27;,\n",
       "                                                                                 StdWordLength()),\n",
       "                                                                                (&#x27;stopwords_proportion&#x27;,\n",
       "                                                                                 CountStopsProp(stopwords={&#x27;a&#x27;,\n",
       "                                                                                                           &#x27;about&#x27;,\n",
       "                                                                                                           &#x27;above&#x27;,\n",
       "                                                                                                           &#x27;after&#x27;,\n",
       "                                                                                                           &#x27;...\n",
       "                                                                                 CountAllcaps())])),\n",
       "                                                (&#x27;tf_idf&#x27;,\n",
       "                                                 ColumnTransformer(transformers=[(&#x27;just_on_text_column&#x27;,\n",
       "                                                                                  FeatureUnion(transformer_list=[(&#x27;word_tf_idf&#x27;,\n",
       "                                                                                                                  TfidfVectorizer(ngram_range=(1,\n",
       "                                                                                                                                               2),\n",
       "                                                                                                                                  stop_words=&#x27;english&#x27;,\n",
       "                                                                                                                                  strip_accents=&#x27;unicode&#x27;,\n",
       "                                                                                                                                  token_pattern=&#x27;\\\\w{1,}&#x27;)),\n",
       "                                                                                                                 (&#x27;letter_tf_idf&#x27;,\n",
       "                                                                                                                  NgramVectorizer(ngram_range=(2,\n",
       "                                                                                                                                               3),\n",
       "                                                                                                                                  strip_punctuation=False))]),\n",
       "                                                                                  &#x27;text&#x27;)]))])),\n",
       "                (&#x27;MNB&#x27;, MultinomialNB(alpha=0.04))])</pre></div></div></div><div class=\"sk-serial\"><div class=\"sk-item sk-dashed-wrapped\"><div class=\"sk-label-container\"><div class=\"sk-label sk-toggleable\"><input class=\"sk-toggleable__control sk-hidden--visually\" id=\"ffd941ad-9e6b-445b-ad76-0cd289c18197\" type=\"checkbox\" ><label for=\"ffd941ad-9e6b-445b-ad76-0cd289c18197\" class=\"sk-toggleable__label sk-toggleable__label-arrow\">feature_extraction: FeatureUnion</label><div class=\"sk-toggleable__content\"><pre>FeatureUnion(transformer_list=[(&#x27;style_features&#x27;,\n",
       "                                FeatureUnion(transformer_list=[(&#x27;text_length&#x27;,\n",
       "                                                                TextLength()),\n",
       "                                                               (&#x27;punctuation_proportion&#x27;,\n",
       "                                                                CountPunctuationProp()),\n",
       "                                                               (&#x27;semicolon_count&#x27;,\n",
       "                                                                CountSemicolons()),\n",
       "                                                               (&#x27;std_word_length&#x27;,\n",
       "                                                                StdWordLength()),\n",
       "                                                               (&#x27;stopwords_proportion&#x27;,\n",
       "                                                                CountStopsProp(stopwords={&#x27;a&#x27;,\n",
       "                                                                                          &#x27;about&#x27;,\n",
       "                                                                                          &#x27;above&#x27;,\n",
       "                                                                                          &#x27;after&#x27;,\n",
       "                                                                                          &#x27;again&#x27;,\n",
       "                                                                                          &#x27;against&#x27;,\n",
       "                                                                                          &#x27;ain&#x27;,\n",
       "                                                                                          &#x27;all&#x27;,\n",
       "                                                                                          &#x27;am&#x27;,\n",
       "                                                                                          &#x27;an&#x27;...\n",
       "                                                                                          &quot;she&#x27;s&quot;])),\n",
       "                                                               (&#x27;allcaps_count&#x27;,\n",
       "                                                                CountAllcaps())])),\n",
       "                               (&#x27;tf_idf&#x27;,\n",
       "                                ColumnTransformer(transformers=[(&#x27;just_on_text_column&#x27;,\n",
       "                                                                 FeatureUnion(transformer_list=[(&#x27;word_tf_idf&#x27;,\n",
       "                                                                                                 TfidfVectorizer(ngram_range=(1,\n",
       "                                                                                                                              2),\n",
       "                                                                                                                 stop_words=&#x27;english&#x27;,\n",
       "                                                                                                                 strip_accents=&#x27;unicode&#x27;,\n",
       "                                                                                                                 token_pattern=&#x27;\\\\w{1,}&#x27;)),\n",
       "                                                                                                (&#x27;letter_tf_idf&#x27;,\n",
       "                                                                                                 NgramVectorizer(ngram_range=(2,\n",
       "                                                                                                                              3),\n",
       "                                                                                                                 strip_punctuation=False))]),\n",
       "                                                                 &#x27;text&#x27;)]))])</pre></div></div></div><div class=\"sk-parallel\"><div class=\"sk-parallel-item\"><div class=\"sk-item\"><div class=\"sk-label-container\"><div class=\"sk-label sk-toggleable\"><label>style_features</label></div></div><div class=\"sk-serial\"><div class=\"sk-item sk-dashed-wrapped\"><div class=\"sk-parallel\"><div class=\"sk-parallel-item\"><div class=\"sk-item\"><div class=\"sk-label-container\"><div class=\"sk-label sk-toggleable\"><label>text_length</label></div></div><div class=\"sk-serial\"><div class=\"sk-item\"><div class=\"sk-estimator sk-toggleable\"><input class=\"sk-toggleable__control sk-hidden--visually\" id=\"1b3bb86c-99bd-407c-97f4-b0ba879d9dce\" type=\"checkbox\" ><label for=\"1b3bb86c-99bd-407c-97f4-b0ba879d9dce\" class=\"sk-toggleable__label sk-toggleable__label-arrow\">TextLength</label><div class=\"sk-toggleable__content\"><pre>TextLength()</pre></div></div></div></div></div></div><div class=\"sk-parallel-item\"><div class=\"sk-item\"><div class=\"sk-label-container\"><div class=\"sk-label sk-toggleable\"><label>punctuation_proportion</label></div></div><div class=\"sk-serial\"><div class=\"sk-item\"><div class=\"sk-estimator sk-toggleable\"><input class=\"sk-toggleable__control sk-hidden--visually\" id=\"2dab6258-091e-4dab-b981-3f0b06877fbc\" type=\"checkbox\" ><label for=\"2dab6258-091e-4dab-b981-3f0b06877fbc\" class=\"sk-toggleable__label sk-toggleable__label-arrow\">CountPunctuationProp</label><div class=\"sk-toggleable__content\"><pre>CountPunctuationProp()</pre></div></div></div></div></div></div><div class=\"sk-parallel-item\"><div class=\"sk-item\"><div class=\"sk-label-container\"><div class=\"sk-label sk-toggleable\"><label>semicolon_count</label></div></div><div class=\"sk-serial\"><div class=\"sk-item\"><div class=\"sk-estimator sk-toggleable\"><input class=\"sk-toggleable__control sk-hidden--visually\" id=\"d67df681-e6cd-4233-89c6-aa5cfb56e6d1\" type=\"checkbox\" ><label for=\"d67df681-e6cd-4233-89c6-aa5cfb56e6d1\" class=\"sk-toggleable__label sk-toggleable__label-arrow\">CountSemicolons</label><div class=\"sk-toggleable__content\"><pre>CountSemicolons()</pre></div></div></div></div></div></div><div class=\"sk-parallel-item\"><div class=\"sk-item\"><div class=\"sk-label-container\"><div class=\"sk-label sk-toggleable\"><label>std_word_length</label></div></div><div class=\"sk-serial\"><div class=\"sk-item\"><div class=\"sk-estimator sk-toggleable\"><input class=\"sk-toggleable__control sk-hidden--visually\" id=\"a10056b1-cf31-4b62-9b97-906d2d718bb7\" type=\"checkbox\" ><label for=\"a10056b1-cf31-4b62-9b97-906d2d718bb7\" class=\"sk-toggleable__label sk-toggleable__label-arrow\">StdWordLength</label><div class=\"sk-toggleable__content\"><pre>StdWordLength()</pre></div></div></div></div></div></div><div class=\"sk-parallel-item\"><div class=\"sk-item\"><div class=\"sk-label-container\"><div class=\"sk-label sk-toggleable\"><label>stopwords_proportion</label></div></div><div class=\"sk-serial\"><div class=\"sk-item\"><div class=\"sk-estimator sk-toggleable\"><input class=\"sk-toggleable__control sk-hidden--visually\" id=\"aeebbdbb-894e-4250-b266-3a62e5c12405\" type=\"checkbox\" ><label for=\"aeebbdbb-894e-4250-b266-3a62e5c12405\" class=\"sk-toggleable__label sk-toggleable__label-arrow\">CountStopsProp</label><div class=\"sk-toggleable__content\"><pre>CountStopsProp(stopwords={&#x27;a&#x27;, &#x27;about&#x27;, &#x27;above&#x27;, &#x27;after&#x27;, &#x27;again&#x27;, &#x27;against&#x27;,\n",
       "                          &#x27;ain&#x27;, &#x27;all&#x27;, &#x27;am&#x27;, &#x27;an&#x27;, &#x27;and&#x27;, &#x27;any&#x27;, &#x27;are&#x27;, &#x27;aren&#x27;,\n",
       "                          &quot;aren&#x27;t&quot;, &#x27;as&#x27;, &#x27;at&#x27;, &#x27;be&#x27;, &#x27;because&#x27;, &#x27;been&#x27;,\n",
       "                          &#x27;before&#x27;, &#x27;being&#x27;, &#x27;below&#x27;, &#x27;between&#x27;, &#x27;both&#x27;, &#x27;but&#x27;,\n",
       "                          &#x27;by&#x27;, &#x27;can&#x27;, &#x27;couldn&#x27;, &quot;couldn&#x27;t&quot;, ...})</pre></div></div></div></div></div></div><div class=\"sk-parallel-item\"><div class=\"sk-item\"><div class=\"sk-label-container\"><div class=\"sk-label sk-toggleable\"><label>feminine_stopwords_proportion</label></div></div><div class=\"sk-serial\"><div class=\"sk-item\"><div class=\"sk-estimator sk-toggleable\"><input class=\"sk-toggleable__control sk-hidden--visually\" id=\"bcd877f5-ff40-4711-95d3-8ee11c37f2f2\" type=\"checkbox\" ><label for=\"bcd877f5-ff40-4711-95d3-8ee11c37f2f2\" class=\"sk-toggleable__label sk-toggleable__label-arrow\">CountStopsProp</label><div class=\"sk-toggleable__content\"><pre>CountStopsProp(stopwords=[&#x27;her&#x27;, &#x27;hers&#x27;, &#x27;herself&#x27;, &#x27;she&#x27;, &quot;she&#x27;s&quot;])</pre></div></div></div></div></div></div><div class=\"sk-parallel-item\"><div class=\"sk-item\"><div class=\"sk-label-container\"><div class=\"sk-label sk-toggleable\"><label>allcaps_count</label></div></div><div class=\"sk-serial\"><div class=\"sk-item\"><div class=\"sk-estimator sk-toggleable\"><input class=\"sk-toggleable__control sk-hidden--visually\" id=\"266672f7-7a1e-48e1-be45-5716c74ca972\" type=\"checkbox\" ><label for=\"266672f7-7a1e-48e1-be45-5716c74ca972\" class=\"sk-toggleable__label sk-toggleable__label-arrow\">CountAllcaps</label><div class=\"sk-toggleable__content\"><pre>CountAllcaps()</pre></div></div></div></div></div></div></div></div></div></div></div><div class=\"sk-parallel-item\"><div class=\"sk-item\"><div class=\"sk-label-container\"><div class=\"sk-label sk-toggleable\"><label>tf_idf</label></div></div><div class=\"sk-serial\"><div class=\"sk-item sk-dashed-wrapped\"><div class=\"sk-parallel\"><div class=\"sk-parallel-item\"><div class=\"sk-item\"><div class=\"sk-label-container\"><div class=\"sk-label sk-toggleable\"><input class=\"sk-toggleable__control sk-hidden--visually\" id=\"9b123fc7-c154-411d-a1b5-4daeae8e16f5\" type=\"checkbox\" ><label for=\"9b123fc7-c154-411d-a1b5-4daeae8e16f5\" class=\"sk-toggleable__label sk-toggleable__label-arrow\">just_on_text_column</label><div class=\"sk-toggleable__content\"><pre>text</pre></div></div></div><div class=\"sk-serial\"><div class=\"sk-item sk-dashed-wrapped\"><div class=\"sk-parallel\"><div class=\"sk-parallel-item\"><div class=\"sk-item\"><div class=\"sk-label-container\"><div class=\"sk-label sk-toggleable\"><label>word_tf_idf</label></div></div><div class=\"sk-serial\"><div class=\"sk-item\"><div class=\"sk-estimator sk-toggleable\"><input class=\"sk-toggleable__control sk-hidden--visually\" id=\"f28deddc-29c5-4f7b-9168-b0d96d1874a8\" type=\"checkbox\" ><label for=\"f28deddc-29c5-4f7b-9168-b0d96d1874a8\" class=\"sk-toggleable__label sk-toggleable__label-arrow\">TfidfVectorizer</label><div class=\"sk-toggleable__content\"><pre>TfidfVectorizer(ngram_range=(1, 2), stop_words=&#x27;english&#x27;,\n",
       "                strip_accents=&#x27;unicode&#x27;, token_pattern=&#x27;\\\\w{1,}&#x27;)</pre></div></div></div></div></div></div><div class=\"sk-parallel-item\"><div class=\"sk-item\"><div class=\"sk-label-container\"><div class=\"sk-label sk-toggleable\"><label>letter_tf_idf</label></div></div><div class=\"sk-serial\"><div class=\"sk-item\"><div class=\"sk-estimator sk-toggleable\"><input class=\"sk-toggleable__control sk-hidden--visually\" id=\"b3c78e52-8000-4c85-9779-ec14c56953e9\" type=\"checkbox\" ><label for=\"b3c78e52-8000-4c85-9779-ec14c56953e9\" class=\"sk-toggleable__label sk-toggleable__label-arrow\">NgramVectorizer</label><div class=\"sk-toggleable__content\"><pre>NgramVectorizer(ngram_range=(2, 3), strip_punctuation=False)</pre></div></div></div></div></div></div></div></div></div></div></div></div></div></div></div></div></div></div><div class=\"sk-item\"><div class=\"sk-estimator sk-toggleable\"><input class=\"sk-toggleable__control sk-hidden--visually\" id=\"f2a28fee-3ad4-489b-84f5-60c8c93db357\" type=\"checkbox\" ><label for=\"f2a28fee-3ad4-489b-84f5-60c8c93db357\" class=\"sk-toggleable__label sk-toggleable__label-arrow\">MultinomialNB</label><div class=\"sk-toggleable__content\"><pre>MultinomialNB(alpha=0.04)</pre></div></div></div></div></div></div></div>"
      ],
      "text/plain": [
       "Pipeline(steps=[('feature_extraction',\n",
       "                 FeatureUnion(transformer_list=[('style_features',\n",
       "                                                 FeatureUnion(transformer_list=[('text_length',\n",
       "                                                                                 TextLength()),\n",
       "                                                                                ('punctuation_proportion',\n",
       "                                                                                 CountPunctuationProp()),\n",
       "                                                                                ('semicolon_count',\n",
       "                                                                                 CountSemicolons()),\n",
       "                                                                                ('std_word_length',\n",
       "                                                                                 StdWordLength()),\n",
       "                                                                                ('stopwords_proportion',\n",
       "                                                                                 CountStopsProp(stopwords={'a',\n",
       "                                                                                                           'about',\n",
       "                                                                                                           'above',\n",
       "                                                                                                           'after',\n",
       "                                                                                                           '...\n",
       "                                                                                 CountAllcaps())])),\n",
       "                                                ('tf_idf',\n",
       "                                                 ColumnTransformer(transformers=[('just_on_text_column',\n",
       "                                                                                  FeatureUnion(transformer_list=[('word_tf_idf',\n",
       "                                                                                                                  TfidfVectorizer(ngram_range=(1,\n",
       "                                                                                                                                               2),\n",
       "                                                                                                                                  stop_words='english',\n",
       "                                                                                                                                  strip_accents='unicode',\n",
       "                                                                                                                                  token_pattern='\\\\w{1,}')),\n",
       "                                                                                                                 ('letter_tf_idf',\n",
       "                                                                                                                  NgramVectorizer(ngram_range=(2,\n",
       "                                                                                                                                               3),\n",
       "                                                                                                                                  strip_punctuation=False))]),\n",
       "                                                                                  'text')]))])),\n",
       "                ('MNB', MultinomialNB(alpha=0.04))])"
      ]
     },
     "execution_count": 71,
     "metadata": {},
     "output_type": "execute_result"
    }
   ],
   "source": [
    "%%time\n",
    "prediction_probabilities = gscv.best_estimator_.predict_proba(test)\n",
    "gscv.best_estimator_"
   ]
  },
  {
   "cell_type": "markdown",
   "id": "2b47c553",
   "metadata": {
    "papermill": {
     "duration": 0.047396,
     "end_time": "2022-12-04T02:49:23.335743",
     "exception": false,
     "start_time": "2022-12-04T02:49:23.288347",
     "status": "completed"
    },
    "tags": []
   },
   "source": [
    "The minimum value occurs when we extract both 1- and 2-gram words, and 2- and 3-gram letters. More complicated letter combinations overfit the data. Interestingly enough, not stripping the punctuation before extracting the character-level TF-IDF provides a slightly better cross-validated fit. "
   ]
  },
  {
   "cell_type": "code",
   "execution_count": 72,
   "id": "720dcb22",
   "metadata": {
    "execution": {
     "iopub.execute_input": "2022-12-04T02:49:23.431928Z",
     "iopub.status.busy": "2022-12-04T02:49:23.431470Z",
     "iopub.status.idle": "2022-12-04T02:50:10.289817Z",
     "shell.execute_reply": "2022-12-04T02:50:10.287971Z"
    },
    "papermill": {
     "duration": 46.955545,
     "end_time": "2022-12-04T02:50:10.338813",
     "exception": false,
     "start_time": "2022-12-04T02:49:23.383268",
     "status": "completed"
    },
    "tags": []
   },
   "outputs": [
    {
     "name": "stdout",
     "output_type": "stream",
     "text": [
      "Average validation log-loss score (final model): 0.383\n",
      "CPU times: user 46 s, sys: 524 ms, total: 46.6 s\n",
      "Wall time: 46.9 s\n"
     ]
    }
   ],
   "source": [
    "%%time\n",
    "# Refit over the cv folds to get validation confusion matrix\n",
    "finalcvscore = cross_validate(estimator = gscv.best_estimator_, \n",
    "                              cv = sfold5, \n",
    "                              scoring = 'neg_log_loss', \n",
    "                              return_estimator = True,              \n",
    "                              X = data, y=author_codes)\n",
    "\n",
    "print(f'Average validation log-loss score (final model): {-np.mean(finalcvscore[\"test_score\"]):.3f}')\n"
   ]
  },
  {
   "cell_type": "code",
   "execution_count": 73,
   "id": "700cb4f7",
   "metadata": {
    "execution": {
     "iopub.execute_input": "2022-12-04T02:50:10.437097Z",
     "iopub.status.busy": "2022-12-04T02:50:10.436626Z",
     "iopub.status.idle": "2022-12-04T02:50:22.876461Z",
     "shell.execute_reply": "2022-12-04T02:50:22.875290Z"
    },
    "papermill": {
     "duration": 12.492789,
     "end_time": "2022-12-04T02:50:22.879118",
     "exception": false,
     "start_time": "2022-12-04T02:50:10.386329",
     "status": "completed"
    },
    "tags": []
   },
   "outputs": [
    {
     "name": "stdout",
     "output_type": "stream",
     "text": [
      "Cross-validated confusion matrix\n",
      "Fold 1: cv log loss: 0.383\n",
      "Fold 2: cv log loss: 0.373\n",
      "Fold 3: cv log loss: 0.395\n",
      "Fold 4: cv log loss: 0.397\n",
      "Fold 5: cv log loss: 0.367\n",
      "[[6831  381  688]\n",
      " [ 712 4610  313]\n",
      " [ 696  214 5134]]\n"
     ]
    },
    {
     "data": {
      "image/png": "[encoded data removed]",
      "text/plain": [
       "<Figure size 432x288 with 2 Axes>"
      ]
     },
     "metadata": {
      "needs_background": "light"
     },
     "output_type": "display_data"
    }
   ],
   "source": [
    "finalcv_probs = np.zeros((data.shape[0],3))\n",
    "for i,xy in enumerate(sfold5.split(data, author_codes)):\n",
    "    fold_ix=xy[1]\n",
    "    finalcv_probs[fold_ix,:] = finalcvscore['estimator'][i].predict_proba(data.iloc[fold_ix,:])\n",
    "    #print(log_loss(data.iloc[fold_ix,:]['author'],\n",
    "    #               XGBcvscore['estimator'][i].predict_proba(data.iloc[fold_ix,:])))\n",
    "print('Cross-validated confusion matrix')\n",
    "plot_cv_confusion_matrix(finalcvscore, sfold5)"
   ]
  },
  {
   "cell_type": "markdown",
   "id": "39c3d82e",
   "metadata": {
    "papermill": {
     "duration": 0.048915,
     "end_time": "2022-12-04T02:50:22.978284",
     "exception": false,
     "start_time": "2022-12-04T02:50:22.929369",
     "status": "completed"
    },
    "tags": []
   },
   "source": [
    "# <p style=\"background-color:darkred;color:white;font-family:verdana;font-size:120%;text-align:center;border-radius: 15px 50px;\">9. Submit predictions</p>\n",
    "\n",
    "The submission format is three columns of probabilities for each row, and we can get this using the `predict_proba` method from the pipeline."
   ]
  },
  {
   "cell_type": "code",
   "execution_count": 74,
   "id": "f1f11529",
   "metadata": {
    "execution": {
     "iopub.execute_input": "2022-12-04T02:50:23.077105Z",
     "iopub.status.busy": "2022-12-04T02:50:23.076705Z",
     "iopub.status.idle": "2022-12-04T02:50:23.090523Z",
     "shell.execute_reply": "2022-12-04T02:50:23.088909Z"
    },
    "papermill": {
     "duration": 0.066252,
     "end_time": "2022-12-04T02:50:23.093163",
     "exception": false,
     "start_time": "2022-12-04T02:50:23.026911",
     "status": "completed"
    },
    "tags": []
   },
   "outputs": [
    {
     "data": {
      "text/html": [
       "<div>\n",
       "<style scoped>\n",
       "    .dataframe tbody tr th:only-of-type {\n",
       "        vertical-align: middle;\n",
       "    }\n",
       "\n",
       "    .dataframe tbody tr th {\n",
       "        vertical-align: top;\n",
       "    }\n",
       "\n",
       "    .dataframe thead th {\n",
       "        text-align: right;\n",
       "    }\n",
       "</style>\n",
       "<table border=\"1\" class=\"dataframe\">\n",
       "  <thead>\n",
       "    <tr style=\"text-align: right;\">\n",
       "      <th></th>\n",
       "      <th>id</th>\n",
       "      <th>EAP</th>\n",
       "      <th>HPL</th>\n",
       "      <th>MWS</th>\n",
       "    </tr>\n",
       "  </thead>\n",
       "  <tbody>\n",
       "    <tr>\n",
       "      <th>0</th>\n",
       "      <td>id02310</td>\n",
       "      <td>0.403494</td>\n",
       "      <td>0.287808</td>\n",
       "      <td>0.308698</td>\n",
       "    </tr>\n",
       "    <tr>\n",
       "      <th>1</th>\n",
       "      <td>id24541</td>\n",
       "      <td>0.403494</td>\n",
       "      <td>0.287808</td>\n",
       "      <td>0.308698</td>\n",
       "    </tr>\n",
       "    <tr>\n",
       "      <th>2</th>\n",
       "      <td>id00134</td>\n",
       "      <td>0.403494</td>\n",
       "      <td>0.287808</td>\n",
       "      <td>0.308698</td>\n",
       "    </tr>\n",
       "    <tr>\n",
       "      <th>3</th>\n",
       "      <td>id27757</td>\n",
       "      <td>0.403494</td>\n",
       "      <td>0.287808</td>\n",
       "      <td>0.308698</td>\n",
       "    </tr>\n",
       "    <tr>\n",
       "      <th>4</th>\n",
       "      <td>id04081</td>\n",
       "      <td>0.403494</td>\n",
       "      <td>0.287808</td>\n",
       "      <td>0.308698</td>\n",
       "    </tr>\n",
       "  </tbody>\n",
       "</table>\n",
       "</div>"
      ],
      "text/plain": [
       "        id       EAP       HPL       MWS\n",
       "0  id02310  0.403494  0.287808  0.308698\n",
       "1  id24541  0.403494  0.287808  0.308698\n",
       "2  id00134  0.403494  0.287808  0.308698\n",
       "3  id27757  0.403494  0.287808  0.308698\n",
       "4  id04081  0.403494  0.287808  0.308698"
      ]
     },
     "execution_count": 74,
     "metadata": {},
     "output_type": "execute_result"
    }
   ],
   "source": [
    "sample.head()"
   ]
  },
  {
   "cell_type": "code",
   "execution_count": 75,
   "id": "7b7cb7ee",
   "metadata": {
    "execution": {
     "iopub.execute_input": "2022-12-04T02:50:23.191039Z",
     "iopub.status.busy": "2022-12-04T02:50:23.189672Z",
     "iopub.status.idle": "2022-12-04T02:50:23.212224Z",
     "shell.execute_reply": "2022-12-04T02:50:23.210819Z"
    },
    "papermill": {
     "duration": 0.074738,
     "end_time": "2022-12-04T02:50:23.215312",
     "exception": false,
     "start_time": "2022-12-04T02:50:23.140574",
     "status": "completed"
    },
    "tags": []
   },
   "outputs": [
    {
     "data": {
      "text/html": [
       "<div>\n",
       "<style scoped>\n",
       "    .dataframe tbody tr th:only-of-type {\n",
       "        vertical-align: middle;\n",
       "    }\n",
       "\n",
       "    .dataframe tbody tr th {\n",
       "        vertical-align: top;\n",
       "    }\n",
       "\n",
       "    .dataframe thead th {\n",
       "        text-align: right;\n",
       "    }\n",
       "</style>\n",
       "<table border=\"1\" class=\"dataframe\">\n",
       "  <thead>\n",
       "    <tr style=\"text-align: right;\">\n",
       "      <th></th>\n",
       "      <th>id</th>\n",
       "      <th>EAP</th>\n",
       "      <th>HPL</th>\n",
       "      <th>MWS</th>\n",
       "    </tr>\n",
       "  </thead>\n",
       "  <tbody>\n",
       "    <tr>\n",
       "      <th>0</th>\n",
       "      <td>id02310</td>\n",
       "      <td>0.045078</td>\n",
       "      <td>0.001938</td>\n",
       "      <td>0.952984</td>\n",
       "    </tr>\n",
       "    <tr>\n",
       "      <th>1</th>\n",
       "      <td>id24541</td>\n",
       "      <td>0.966319</td>\n",
       "      <td>0.010504</td>\n",
       "      <td>0.023177</td>\n",
       "    </tr>\n",
       "    <tr>\n",
       "      <th>2</th>\n",
       "      <td>id00134</td>\n",
       "      <td>0.177615</td>\n",
       "      <td>0.821224</td>\n",
       "      <td>0.001161</td>\n",
       "    </tr>\n",
       "    <tr>\n",
       "      <th>3</th>\n",
       "      <td>id27757</td>\n",
       "      <td>0.766775</td>\n",
       "      <td>0.232628</td>\n",
       "      <td>0.000596</td>\n",
       "    </tr>\n",
       "    <tr>\n",
       "      <th>4</th>\n",
       "      <td>id04081</td>\n",
       "      <td>0.924416</td>\n",
       "      <td>0.049970</td>\n",
       "      <td>0.025614</td>\n",
       "    </tr>\n",
       "  </tbody>\n",
       "</table>\n",
       "</div>"
      ],
      "text/plain": [
       "        id       EAP       HPL       MWS\n",
       "0  id02310  0.045078  0.001938  0.952984\n",
       "1  id24541  0.966319  0.010504  0.023177\n",
       "2  id00134  0.177615  0.821224  0.001161\n",
       "3  id27757  0.766775  0.232628  0.000596\n",
       "4  id04081  0.924416  0.049970  0.025614"
      ]
     },
     "execution_count": 75,
     "metadata": {},
     "output_type": "execute_result"
    }
   ],
   "source": [
    "\n",
    "submission = sample.copy()\n",
    "submission.iloc[:,1:] = prediction_probabilities\n",
    "submission.head()"
   ]
  },
  {
   "cell_type": "code",
   "execution_count": 76,
   "id": "12eca229",
   "metadata": {
    "execution": {
     "iopub.execute_input": "2022-12-04T02:50:23.317705Z",
     "iopub.status.busy": "2022-12-04T02:50:23.316406Z",
     "iopub.status.idle": "2022-12-04T02:50:23.374197Z",
     "shell.execute_reply": "2022-12-04T02:50:23.372931Z"
    },
    "papermill": {
     "duration": 0.112329,
     "end_time": "2022-12-04T02:50:23.377822",
     "exception": false,
     "start_time": "2022-12-04T02:50:23.265493",
     "status": "completed"
    },
    "tags": []
   },
   "outputs": [],
   "source": [
    "submission.to_csv('submit.csv', index=False)"
   ]
  },
  {
   "cell_type": "markdown",
   "id": "b9b867fa",
   "metadata": {
    "papermill": {
     "duration": 0.04632,
     "end_time": "2022-12-04T02:50:23.473591",
     "exception": false,
     "start_time": "2022-12-04T02:50:23.427271",
     "status": "completed"
    },
    "tags": []
   },
   "source": [
    "# <p style=\"background-color:darkred;color:white;font-family:verdana;font-size:120%;text-align:center;border-radius: 15px 50px;\">10. References</p>\n",
    "\n",
    "## Useful notebooks that I used:\n",
    "\n",
    "- [Maheshdadhich (BuryBuryZamon) - Creative Feature Engineering](https://www.kaggle.com/code/maheshdadhich/creative-feature-engineering-lb-0-35)\n",
    "\n",
    "- [sudalairajkumar (SRK) Simple Feature Engg Notebook](https://www.kaggle.com/code/sudalairajkumar/simple-feature-engg-notebook-spooky-author)\n",
    "\n",
    "- [Fares Sayah (faressayah) Natural Language Processing (NLP) for beginners](https://www.kaggle.com/code/faressayah/natural-language-processing-nlp-for-beginners)\n",
    "\n",
    "- [Shubham Singh (shubhamksingh) Create Beautiful Notebooks Formatting Tutorial](https://www.kaggle.com/code//create-beautiful-notebooks-formatting-tutorial](https://www.kaggle.com/code/shubhamksingh/create-beautiful-notebooks-formatting-tutorial)\n",
    "\n",
    "- [Melike Dilekci (melikedilekci) For a More Beautiful Notebook 1](https://www.kaggle.com/code/melikedilekci/for-a-more-beautiful-notebook-1)\n",
    "\n",
    "## Image credits\n",
    "- EAP image: Unknown author; Restored by Yann Forget and Adam Cuerden, Public domain, via [Wikimedia Commons](https://commons.wikimedia.org/wiki/File:Edgar_Allan_Poe,_circa_1849,_restored,_squared_off.jpg)\n",
    "- HPL image: Lucius B. Truesdell, Public domain, via [Wikimedia Commons](https://commons.wikimedia.org/wiki/File:H._P._Lovecraft,_June_1934.jpg)\n",
    "- MWS image: Richard Rothwell, Public domain, via [Wikimedia Commons](https://commons.wikimedia.org/wiki/File:MaryShelley.jpg)\n",
    "    "
   ]
  }
 ],
 "metadata": {
  "kernelspec": {
   "display_name": "Python 3",
   "language": "python",
   "name": "python3"
  },
  "language_info": {
   "codemirror_mode": {
    "name": "ipython",
    "version": 3
   },
   "file_extension": ".py",
   "mimetype": "text/x-python",
   "name": "python",
   "nbconvert_exporter": "python",
   "pygments_lexer": "ipython3",
   "version": "3.7.12"
  },
  "papermill": {
   "default_parameters": {},
   "duration": 3835.696329,
   "end_time": "2022-12-04T02:50:24.655547",
   "environment_variables": {},
   "exception": null,
   "input_path": "__notebook__.ipynb",
   "output_path": "__notebook__.ipynb",
   "parameters": {},
   "start_time": "2022-12-04T01:46:28.959218",
   "version": "2.3.4"
  }
 },
 "nbformat": 4,
 "nbformat_minor": 5
}
